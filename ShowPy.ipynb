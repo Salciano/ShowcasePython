{
  "nbformat": 4,
  "nbformat_minor": 0,
  "metadata": {
    "colab": {
      "provenance": [],
      "authorship_tag": "ABX9TyPqhpFRX/WRqVbF+mG7vP6j",
      "include_colab_link": true
    },
    "kernelspec": {
      "name": "python3",
      "display_name": "Python 3"
    },
    "language_info": {
      "name": "python"
    }
  },
  "cells": [
    {
      "cell_type": "markdown",
      "metadata": {
        "id": "view-in-github",
        "colab_type": "text"
      },
      "source": [
        "<a href=\"https://colab.research.google.com/github/Salciano/ShowcasePython/blob/main/ShowPy.ipynb\" target=\"_parent\"><img src=\"https://colab.research.google.com/assets/colab-badge.svg\" alt=\"Open In Colab\"/></a>"
      ]
    },
    {
      "cell_type": "markdown",
      "source": [
        "This is a brief showcase, displaying practical basic coding skills that I developed autodidactically in Python."
      ],
      "metadata": {
        "id": "QpVEX-Sb3xXp"
      }
    },
    {
      "cell_type": "code",
      "source": [
        "print(\"Arithmetic/Algebraic Operators\") # Operators are things/token/symbols that act/operate on other things/operands\n",
        "\n",
        "a, b = 10, 5\n",
        "print(f\"{a} + {b} = {a + b}      > Addition\")\n",
        "print(f\"{a} - {b} = {a - b}       > Subtraction\")\n",
        "print(f\"{a} * {b} = {a * b}      > Multiplication\")\n",
        "print(f\"{a} / {b} = {a / b}     > Division (Float)\")\n",
        "\n",
        "print()\n",
        "time1, clock12 = 18, 12\n",
        "runtime1, clock24 = 100, 24\n",
        "print(f\"{a} ** {b} = {a ** b} > Exponentiation (10 to the power of 5) or (10*10*10*10*10) or (10^5)\")\n",
        "print(f\"{a} // {b} = {a // b}      > Floor Division (the number a times a number fits tidly into another)\")\n",
        "print(f\"{a} % {b} = {a % b}       > Modulus (remainder or difference after dividing 10 by 5)\")\n",
        "\n",
        "print(\"\\nPractical Uses\")\n",
        "print(\"Floor division can be useful for counting time.\")\n",
        "print(f\"For example, let's say, I have been playing a game for {runtime1} hours. Using this operator, it is possible to calculate that I have been playing the game for {runtime1 // clock24} days (and {runtime1 - (clock24*(runtime1 // clock24))} hours). {runtime1} // {clock24} = {runtime1 // clock24}. Maybe I should take a break :)\")\n",
        "print(f\"Another example, let's say, I have been training Calisthenics for 45 days and each month has 30 days. Then, I have been training for {45 // 30} month(s).\")\n",
        "print(f\"Lastly, let's say, I have been training martial arts for 200 months and each year has 12 months. Then, I have been training for {200 // 12} year(s). Pretty long time!\")\n",
        "\n",
        "print(\"\\nModulus is also useful for counting time. Namely for clocks, which wrap around every 12 or 24 hours (12am vs 12pm vs 24h).\")\n",
        "print(f\"For example, let's say, it is 18:00 on a {clock24} hour clock. On an {clock12} hour clock, it is {time1 % clock12}pm. {time1} % {clock12} = {time1 % clock12}\")\n"
      ],
      "metadata": {
        "colab": {
          "base_uri": "https://localhost:8080/"
        },
        "id": "DxHx5oXD5xMC",
        "outputId": "fe25861d-15ed-4ae0-e4d1-a6b70ade40a0"
      },
      "execution_count": 196,
      "outputs": [
        {
          "output_type": "stream",
          "name": "stdout",
          "text": [
            "Arithmetic/Algebraic Operators\n",
            "10 + 5 = 15      > Addition\n",
            "10 - 5 = 5       > Subtraction\n",
            "10 * 5 = 50      > Multiplication\n",
            "10 / 5 = 2.0     > Division (Float)\n",
            "\n",
            "10 ** 5 = 100000 > Exponentiation (10 to the power of 5) or (10*10*10*10*10) or (10^5)\n",
            "10 // 5 = 2      > Floor Division (the number a times a number fits tidly into another)\n",
            "10 % 5 = 0       > Modulus (remainder or difference after dividing 10 by 5)\n",
            "\n",
            "Practical Uses\n",
            "Floor division can be useful for counting time.\n",
            "For example, let's say, I have been playing a game for 100 hours. Using this operator, it is possible to calculate that I have been playing the game for 4 days (and 4 hours). 100 // 24 = 4. Maybe I should take a break :)\n",
            "Another example, let's say, I have been training Calisthenics for 45 days and each month has 30 days. Then, I have been training for 1 month(s).\n",
            "Lastly, let's say, I have been training martial arts for 200 months and each year has 12 months. Then, I have been training for 16 year(s). Pretty long time!\n",
            "\n",
            "Modulus is also useful for counting time. Namely for clocks, which wrap around every 12 or 24 hours (12am vs 12pm vs 24h).\n",
            "For example, let's say, it is 18:00 on a 24 hour clock. On an 12 hour clock, it is 6pm. 18 % 12 = 6\n"
          ]
        }
      ]
    },
    {
      "cell_type": "code",
      "source": [
        "#print(\"File Processing\")\n",
        "\n",
        "#reading and writting\n",
        "\n",
        "with open(\"text.txt\",\"w\") as filey: #this creates a file called text.txt and assigns a variable to it called filey\n",
        "  print(\"I like chocolate\", file=filey) #this prints or writes to the file.\n"
      ],
      "metadata": {
        "id": "GcZTGOOsxJ3E"
      },
      "execution_count": null,
      "outputs": []
    },
    {
      "cell_type": "code",
      "source": [
        "# Rounding in python\n",
        "\n",
        "# Python has a round() function that rounds numbers.\n",
        "print(round(1,123456789))\n",
        "\n",
        "# It is possible to round a number to a specific decimal place/digit.\n",
        "print(round(1.123456789, 5)) # In this case, it rounded to 5 decimal digits, the 5th decimal place.\n",
        "\n",
        "print(\"\\u2500\" * 50)\n",
        "# Python rounds even numbers down and odd numbers up\n",
        "print(\"Unrounded Numbers ≈ Rounded Numbers\")\n",
        "i = 1.5\n",
        "while i <= 20:\n",
        "  print(i, end = \" ≈ \")\n",
        "  print(round(i))\n",
        "  i += 1\n",
        "\n",
        "print(\"\\u2500\" * 50)\n",
        "# Python automatically assigns data types according to the result.\n",
        "# For example: whole numbers are assigned as integers; while decimal numbers are assigned as floats.\n",
        "# This even converts already existing data to different data types.\n",
        "\n",
        "print(\"Rounding may change data type:\")\n",
        "x = round(2.55)\n",
        "print(x, type(x)) # Python stored the rounded number as an integer data type.\n",
        "x = round(2.55, 1)\n",
        "print(x, type(x)) # Python converted the rounded number into a float, which was previously an integer.\n",
        "x = round(2.55)\n",
        "print(x, type(x)) # Python converted the rounded float back into an integer.\n",
        "# This was done using the same variable and without declaring it or its data type, in the first place.\n",
        "# So, in Python, you don't need to declare variables. Also, variables can change its data type after creation and being assigned a data type.\n",
        "\n",
        "print(\"\\u2500\" * 50)\n",
        "# Here is how to round lists\n",
        "listy = [ 1.5, 2.5, 3.5, 4.5, 5.5, 6.5, 7.5, 8.5, 9.5, 10.5 ]\n",
        "print(\"Let's try printing a list. Note the square brackets, when printing lists without formatting.\")\n",
        "print(listy)\n",
        "roundylisty = [ round(i) for i in listy ]\n",
        "print(\"This is how a rounded list looks like. Note the square brackets, when printing lists without formatting.\")\n",
        "print(roundylisty)\n",
        "# print(round(listy)) This would not work. You need to round each element individually.\n",
        "print(\"Let's try printing a tupple. Note the round brackets, when printing lists without formatting.\")\n",
        "listy = ( 1.5, 2.5, 3.5, 4.5, 5.5, 6.5, 7.5, 8.5, 9.5, 10.5 )\n",
        "print(listy)\n",
        "roundylisty = ( round(i) for i in listy ) # tuples are immutable. So we can't round it after values have been assigned to it.\n",
        "print(\"This is how a rounded tupple looks like. Note the square brackets, when printing lists without formatting.\")\n",
        "print(roundylisty)\n",
        "print(\"Let's try printing a set. Note the curl brackets, when printing lists without formatting.\")\n",
        "listy = { 1.5, 2.5, 3.5, 4.5, 5.5, 6.5, 7.5, 8.5, 9.5, 10.5 }\n",
        "print(listy)\n",
        "print(\"This is how a rounded set looks like. Note the square brackets, when printing lists without formatting. Very important to note that there was data loss or data cleaning, because sets are unique and cannot have duplicate values.\")\n",
        "roundylisty = { round(i) for i in listy }\n",
        "print(roundylisty)\n",
        "print(\"Data type was changed. Even for the tupple. Only the values themselves are immutable, but the data type itself can be changed.\")"
      ],
      "metadata": {
        "id": "Drl6rtxBxKUc",
        "colab": {
          "base_uri": "https://localhost:8080/"
        },
        "outputId": "3b85ccf0-f587-445b-9b52-357abc5c8467"
      },
      "execution_count": null,
      "outputs": [
        {
          "output_type": "stream",
          "name": "stdout",
          "text": [
            "1\n",
            "1.12346\n",
            "──────────────────────────────────────────────────\n",
            "Unrounded Numbers ≈ Rounded Numbers\n",
            "1.5 ≈ 2\n",
            "2.5 ≈ 2\n",
            "3.5 ≈ 4\n",
            "4.5 ≈ 4\n",
            "5.5 ≈ 6\n",
            "6.5 ≈ 6\n",
            "7.5 ≈ 8\n",
            "8.5 ≈ 8\n",
            "9.5 ≈ 10\n",
            "10.5 ≈ 10\n",
            "11.5 ≈ 12\n",
            "12.5 ≈ 12\n",
            "13.5 ≈ 14\n",
            "14.5 ≈ 14\n",
            "15.5 ≈ 16\n",
            "16.5 ≈ 16\n",
            "17.5 ≈ 18\n",
            "18.5 ≈ 18\n",
            "19.5 ≈ 20\n",
            "──────────────────────────────────────────────────\n",
            "Rounding may change data type:\n",
            "3 <class 'int'>\n",
            "2.5 <class 'float'>\n",
            "3 <class 'int'>\n",
            "──────────────────────────────────────────────────\n",
            "Let's try printing a list. Note the square brackets, when printing lists without formatting.\n",
            "[1.5, 2.5, 3.5, 4.5, 5.5, 6.5, 7.5, 8.5, 9.5, 10.5]\n",
            "This is how a rounded list looks like. Note the square brackets, when printing lists without formatting.\n",
            "[2, 2, 4, 4, 6, 6, 8, 8, 10, 10]\n",
            "Let's try printing a tupple. Note the round brackets, when printing lists without formatting.\n",
            "(1.5, 2.5, 3.5, 4.5, 5.5, 6.5, 7.5, 8.5, 9.5, 10.5)\n",
            "This is how a rounded tupple looks like. Note the square brackets, when printing lists without formatting.\n",
            "<generator object <genexpr> at 0x7f6722703ed0>\n",
            "Let's try printing a set. Note the curl brackets, when printing lists without formatting.\n",
            "{1.5, 2.5, 3.5, 4.5, 5.5, 6.5, 7.5, 8.5, 9.5, 10.5}\n",
            "This is how a rounded set looks like. Note the square brackets, when printing lists without formatting. Very important to note that there was data loss or data cleaning, because sets are unique and cannot have duplicate values.\n",
            "{2, 4, 6, 8, 10}\n",
            "Data type was changed. Even for the tupple. Only the values themselves are immutable, but the data type itself can be changed.\n"
          ]
        }
      ]
    },
    {
      "cell_type": "code",
      "source": [
        "# Rounding Libraries\n",
        "# It is also possible to use the numpy library for rounding\n",
        "\n",
        "import numpy as np\n",
        "\n",
        "array = np.array([[1.5,2.5,3.5,4.5,5.5], [6.5,7.5,8.5,9.5,10.5]])\n",
        "\n",
        "print(\"You'd like me to round these numbers?\")\n",
        "print(array)\n",
        "print(\"I'm very odd at rounding numbers, but lemme try! Even numbers are oddly rounded down. Odd numbers are normally rounded up. Did I do it right?\")\n",
        "print(np.round(array))\n",
        "\n",
        "#print(round(array)) does not work in native Python. That is one reason to use numpy.\n",
        "\n",
        "# Additionally, you can also truncate in Numpy. Note that numpy returns floats\n",
        "print(\"\\nNumpy: Untruncated Numbers ≈ Truncated Numbers\")\n",
        "i = 1.5\n",
        "while i < 6:\n",
        "  print(i, end = \" ≈ \")\n",
        "  print(np.trunc(i), type(np.trunc(i)))\n",
        "  i += 1\n",
        "print()\n",
        "\n",
        "# Additionally, you can also truncate in Math. Note that math returns integers\n",
        "print(\"Math: Untruncated Numbers ≈ Truncated Numbers\")\n",
        "i = 1.5\n",
        "while i < 6:\n",
        "  print(i, end = \" ≈ \")\n",
        "  print(math.trunc(i), type(math.trunc(i)))\n",
        "  i += 1\n",
        "print()\n",
        "\n",
        "# Furthermore, it is possible to round down or up.\n",
        "print(\"Math: Unfloored Numbers ≈ Floored (Rounded Down) Numbers\")\n",
        "i = 1.5\n",
        "while i < 6:\n",
        "  print(i, end = \" ≈ \")\n",
        "  print(math.floor(i))\n",
        "  i += 1\n",
        "print()\n",
        "\n",
        "print(\"Math: Unceiled Numbers ≈ Ceiled (Rounded Up) Numbers\")\n",
        "i = 1.5\n",
        "while i < 11:\n",
        "  print(f\"{i} ≈ {math.ceil(i):02d}    {i+1} ≈ {math.ceil(i+1):02d}\")\n",
        "  i += 2\n"
      ],
      "metadata": {
        "id": "l1uw4kn85dev",
        "colab": {
          "base_uri": "https://localhost:8080/"
        },
        "outputId": "5dfb459f-d5a5-4a48-897b-5645ef04b33b"
      },
      "execution_count": 193,
      "outputs": [
        {
          "output_type": "stream",
          "name": "stdout",
          "text": [
            "You'd like me to round these numbers?\n",
            "[[ 1.5  2.5  3.5  4.5  5.5]\n",
            " [ 6.5  7.5  8.5  9.5 10.5]]\n",
            "I'm very odd at rounding numbers, but lemme try! Even numbers are oddly rounded down. Odd numbers are normally rounded up. Did I do it right?\n",
            "[[ 2.  2.  4.  4.  6.]\n",
            " [ 6.  8.  8. 10. 10.]]\n",
            "\n",
            "Numpy: Untruncated Numbers ≈ Truncated Numbers\n",
            "1.5 ≈ 1.0 <class 'numpy.float64'>\n",
            "2.5 ≈ 2.0 <class 'numpy.float64'>\n",
            "3.5 ≈ 3.0 <class 'numpy.float64'>\n",
            "4.5 ≈ 4.0 <class 'numpy.float64'>\n",
            "5.5 ≈ 5.0 <class 'numpy.float64'>\n",
            "\n",
            "Math: Untruncated Numbers ≈ Truncated Numbers\n",
            "1.5 ≈ 1 <class 'int'>\n",
            "2.5 ≈ 2 <class 'int'>\n",
            "3.5 ≈ 3 <class 'int'>\n",
            "4.5 ≈ 4 <class 'int'>\n",
            "5.5 ≈ 5 <class 'int'>\n",
            "\n",
            "Math: Unfloored Numbers ≈ Floored (Rounded Down) Numbers\n",
            "1.5 ≈ 1\n",
            "2.5 ≈ 2\n",
            "3.5 ≈ 3\n",
            "4.5 ≈ 4\n",
            "5.5 ≈ 5\n",
            "\n",
            "Math: Unceiled Numbers ≈ Ceiled (Rounded Up) Numbers\n",
            "1.5 ≈ 02    2.5 ≈ 03\n",
            "3.5 ≈ 04    4.5 ≈ 05\n",
            "5.5 ≈ 06    6.5 ≈ 07\n",
            "7.5 ≈ 08    8.5 ≈ 09\n",
            "9.5 ≈ 10    10.5 ≈ 11\n"
          ]
        }
      ]
    },
    {
      "cell_type": "code",
      "source": [
        "# Geometric Functions\n",
        "import numpy as np\n",
        "import math\n",
        "\n",
        "print(\"Even though Python lacks the constant π (pi), there are Python libraries that include it, like NumPy or Math.\")\n",
        "print(\"In numpy, it stored as numpy.pi.  π =\", numpy.pi, type(numpy.pi))\n",
        "print(\"In math, it is stored as math.pi. π =\", math.pi, type(math.pi))\n",
        "# print(\"Native has no π :(\", pi)\n",
        "\n",
        "print(\"\\nPi is useful to calculate things, like a circle's radius, diameter, circumference.\")\n",
        "\n",
        "# Radius\n",
        "print(\"\\nTo calculate the radius:\")\n",
        "circumference = 5 # Lets say we have a circle with 5cm circumference.\n",
        "print(f\"Numpy: A circle with a circumference of {circumference} cm has a radius of: {circumference / (2 * numpy.pi)} cm. (circumference / (2 * numpy.pi))\")\n",
        "print(f\" Math: A circle with a circumference of {circumference} cm has a radius of: {circumference / (2 * math.pi)} cm. (circumference / (2 * math.pi))\")\n",
        "\n",
        "# Diameter\n",
        "print(\"\\nTo calculate the diameter:\")\n",
        "circumference = 5 # Lets say we have a circle with 5cm circumference, again. Might want to change value, later.\n",
        "print(f\"Numpy: A circle with a circumference of {circumference} cm has a diameter of: {circumference / numpy.pi} cm. (perimeter / numpy.pi)\")\n",
        "print(f\" Math: A circle with a circumference of {circumference} cm has a diameter of: {circumference / math.pi} cm. (perimeter / math.pi)\")\n",
        "\n",
        "# Circumference/Perimeter\n",
        "print(\"\\nTo calculate the circumference or perimeter of a circle:\")\n",
        "radius = 5 # Lets say we have a circle with 5cm radius.\n",
        "print(f\"Numpy: A circle with a radius of {radius} cm has a circumference of: {2 * numpy.pi * radius} cm. (2 * numpy.pi * radius)\")\n",
        "print(f\" Math: A circle with a radius of {radius} cm has a circumference of: {2 * numpy.pi * radius} cm. (2 * math.pi * radius)\")\n",
        "\n",
        "# Area\n",
        "print(\"\\nTo calculate the area:\")\n",
        "radius = 5 # Lets say we have a circle with 5cm radius, again. Might want to change value, later\n",
        "area = math.pi * radius ** 2\n",
        "\n",
        "print( \"Numpy: A circle with a radius of\", radius, \"cm has an area of:\", area, \"cm2.\")\n",
        "area = np.pi * radius ** 2\n",
        "print( \" Math: A circle with a radius of\", radius, \"cm has an area of:\", area, \"cm2.\")\n",
        "\n",
        "print()\n",
        "# To calculate the area of several circles in an array/list\n",
        "radii = np.array([1,2,3,4,5])\n",
        "print(\"Here we have\", len(radii), \"circles. Each with a radius of:\")\n",
        "# print(radii) # with brackets\n",
        "#print(*radii, sep=\"cm, \", end = \"cm\") # without brackets\n",
        "for i in range(len(radii)):\n",
        "    print(f\"Circle {i+1}: {radii[i]} cm.\")\n",
        "\n",
        "print(\"\\nHere is the calculated area for each circle:\")\n",
        "area = np.pi * radii ** 2\n",
        "#print(np.pi * radii ** 2 ) # Result in ugly brackets and without using area variable\n",
        "#print(*area, sep = \", \") # Result separated by commas in a single line\n",
        "\n",
        "for i in range(len(radii)):\n",
        "    print(f\"Circle {i+1}> Radius: {radii[i]} cm. Area: {area[i]} cm2\")\n"
      ],
      "metadata": {
        "id": "LMQSAL9QEJ9U",
        "colab": {
          "base_uri": "https://localhost:8080/"
        },
        "outputId": "6be8b919-f84a-467d-bdd8-aa9d3e213462"
      },
      "execution_count": 25,
      "outputs": [
        {
          "output_type": "stream",
          "name": "stdout",
          "text": [
            "Even though Python lacks the constant π (pi), there are Python libraries that include it, like NumPy or Math.\n",
            "In numpy, it stored as numpy.pi.  π = 3.141592653589793 <class 'float'>\n",
            "In math, it is stored as math.pi. π = 3.141592653589793 <class 'float'>\n",
            "\n",
            "Pi is useful to calculate things, like the radius, diameter, circumference or area of a circle.\n",
            "\n",
            "To calculate the radius:\n",
            "Numpy: A circle with a circumference of 5 cm has a radius of: 0.7957747154594768 cm. (circumference / (2 * numpy.pi))\n",
            " Math: A circle with a circumference of 5 cm has a radius of: 0.7957747154594768 cm. (circumference / (2 * math.pi))\n",
            "\n",
            "To calculate the diameter, without the radius\n",
            "Numpy: A circle with a circumference of 5 cm has a diameter of: 1.5915494309189535 cm. (perimeter / numpy.pi)\n",
            " Math: A circle with a circumference of 5 cm has a diameter of: 1.5915494309189535 cm. (perimeter / math.pi)\n",
            "\n",
            "To calculate the circumference or perimeter of a circle:\n",
            "Numpy: A circle with a radius of 5 cm has a circumference of: 31.41592653589793 cm. (2 * numpy.pi * radius)\n",
            " Math: A circle with a radius of 5 cm has a circumference of: 31.41592653589793 cm. (2 * math.pi * radius)\n",
            "\n",
            "To calculate the area:\n",
            "Numpy: A circle with a radius of 5 cm has an area of: 78.53981633974483 cm2.\n",
            " Math: A circle with a radius of 5 cm has an area of: 78.53981633974483 cm2.\n",
            "\n",
            "Here we have 5 circles. Each with a radius of:\n",
            "Circle 1: 1 cm.\n",
            "Circle 2: 2 cm.\n",
            "Circle 3: 3 cm.\n",
            "Circle 4: 4 cm.\n",
            "Circle 5: 5 cm.\n",
            "\n",
            "Here is the calculated area for each circle:\n",
            "Circle 1> Radius: 1 cm. Area: 3.141592653589793 cm2\n",
            "Circle 2> Radius: 2 cm. Area: 12.566370614359172 cm2\n",
            "Circle 3> Radius: 3 cm. Area: 28.274333882308138 cm2\n",
            "Circle 4> Radius: 4 cm. Area: 50.26548245743669 cm2\n",
            "Circle 5> Radius: 5 cm. Area: 78.53981633974483 cm2\n"
          ]
        }
      ]
    },
    {
      "cell_type": "code",
      "source": [
        "# Time functions: Simple clock\n",
        "import time # to use time functions\n",
        "from IPython.display import clear_output # To clear output (method A)\n",
        "from google.colab import output # To clear output (method B)\n",
        "# No libraries required for method c, but there are issues with Colab\n",
        "\n",
        "# Subroutines\n",
        "def clocka(): # 1st Colab Approach A\n",
        "  t = time.strftime(\"%H:%M:%S\")\n",
        "  clear_output()\n",
        "  print(f\"Time: {t}\")\n",
        "\n",
        "def clockb(): # 2nd Colab Approach B\n",
        "  t = time.strftime(\"%H:%M:%S\")\n",
        "  output.clear()\n",
        "  print(f\"Time: {t}\")\n",
        "\n",
        "def clockc(): # Terminal approach\n",
        "  t = time.strftime(\"%H:%M:%S\")\n",
        "  print(f\"Time: {t}\\r\", end=\"\")\n",
        "  # \\r resets cursor position. end=\"\" prevents newline. Further text would be overwritten. However, this only works properly in a terminal/emulator that properly supports ANSI escape sequences, which Colab doesn't :(\n",
        "\n",
        "# Mainroutine\n",
        "print(\"Here is a simple real-time clock for Colab (method clear_output)\")\n",
        "time.sleep(5) # Delay 5 seconds\n",
        "for i in range(3): # loop thrice :: Colab A\n",
        "  clocka() # call function clock()\n",
        "  time.sleep(1) # delay 1 second\n",
        "time.sleep(1) # delay 1 second\n",
        "clear_output()\n",
        "\n",
        "print(\"Here is a simple real-time clock for Colab (method output.clear)\")\n",
        "time.sleep(5) # Delay 5 seconds\n",
        "for i in range(3): # loop thrice :: Colab B\n",
        "  clockb() # call function clock()\n",
        "  time.sleep(1) # delay 1 second\n",
        "time.sleep(1) # delay 1 second\n",
        "output.clear()\n",
        "\n",
        "print(\"Here is a simple real-time clock for terminals (might not work on Colab).\")\n",
        "time.sleep(5) # Delay 5 seconds\n",
        "for i in range(3): # loop thrice :: Terminal\n",
        "  clockc() # call function clock()\n",
        "  time.sleep(1) # delay 1 second\n",
        "\n",
        "#while True: # loop forever\n",
        "#  clock()\n",
        "#  time.sleep(1)\n"
      ],
      "metadata": {
        "colab": {
          "base_uri": "https://localhost:8080/"
        },
        "id": "zOHZIyQjOYvT",
        "outputId": "8f289044-7bc3-47f0-f2bc-9fb11d81520d"
      },
      "execution_count": 137,
      "outputs": [
        {
          "output_type": "stream",
          "name": "stdout",
          "text": [
            "Here is a simple real-time clock for terminals (might not work on Colab).\n"
          ]
        }
      ]
    },
    {
      "cell_type": "code",
      "source": [
        "import numpy as np\n",
        "\n",
        "np.array([1,2,3,4,5,6])\n",
        "\n",
        "print(array * 3 )\n",
        "print(array + 1 )\n",
        "print(array ** 2)\n",
        "print(np.round(array))\n"
      ],
      "metadata": {
        "colab": {
          "base_uri": "https://localhost:8080/"
        },
        "id": "fMZrLnQzloJm",
        "outputId": "dd119165-4f9c-46dd-e330-d7b177d040a9"
      },
      "execution_count": null,
      "outputs": [
        {
          "output_type": "stream",
          "name": "stdout",
          "text": [
            "[[ 3  6  9 12]\n",
            " [15 18 21 24]\n",
            " [27 30 33 36]]\n",
            "[[ 2  3  4  5]\n",
            " [ 6  7  8  9]\n",
            " [10 11 12 13]]\n",
            "[[  1   4   9  16]\n",
            " [ 25  36  49  64]\n",
            " [ 81 100 121 144]]\n",
            "[[ 1  2  3  4]\n",
            " [ 5  6  7  8]\n",
            " [ 9 10 11 12]]\n"
          ]
        }
      ]
    },
    {
      "cell_type": "code",
      "execution_count": null,
      "metadata": {
        "colab": {
          "base_uri": "https://localhost:8080/"
        },
        "id": "X6JPF9aKjONr",
        "outputId": "8cb471a0-4423-486f-caf4-779063521bd9"
      },
      "outputs": [
        {
          "output_type": "stream",
          "name": "stdout",
          "text": [
            "0 1 2\n",
            "..........2\n",
            "1 a\n",
            "2 c\n",
            "3 v\n",
            "4 s\n",
            "4\n",
            "s\n",
            ".....3\n",
            "a b c\n",
            "abc\n",
            ".....4\n",
            "list1 b4 drop() (0, 1, 2, 3)\n",
            "(0, 1, 2, 3)\n",
            ".....5\n",
            "<class 'tuple'> ([1, 2, 3, 4, 5], [6, 7, 8, 9, 10])\n"
          ]
        }
      ],
      "source": [
        "import pandas as panpy\n",
        "import numpy as np\n",
        "\n",
        "var0, var1 = 0, 1\n",
        "var2 = 2\n",
        "var3 = 3\n",
        "var4 = 4\n",
        "var10 = 0\n",
        "var11 = 1\n",
        "var20 = var10\n",
        "var21 = var11\n",
        "\n",
        "#var0, var1, var2 = var1, var0, var0\n",
        "\n",
        "#swap()\n",
        "\n",
        "print(var0, var1, var2)\n",
        "print(\"..........2\")\n",
        "\n",
        "a = ['a', 'c', 'v', 's']\n",
        "for i,v in enumerate(a, 1):\n",
        "    print (i, v)\n",
        "\n",
        "print(i)\n",
        "print(v)\n",
        "print(\".....3\")\n",
        "str1, str2, str3 = \"a\", \"b\", \"c\"\n",
        "print(str1, str2, str3)\n",
        "print(str1 + str2 + str3)\n",
        "\n",
        "print(\".....4\")\n",
        "list1 = 0, 1, 2, 3\n",
        "#list2 = drop\n",
        "#list2 = 0, 1.1, \"a\", \"4\"\n",
        "\n",
        "print(\"list1 b4 drop()\", list1)\n",
        "#panpy.drop(list[0])\n",
        "\n",
        "print(list1)\n",
        "#print(list2)\n",
        "\n",
        "print(\".....5\")\n",
        "lista = [1, 2, 3, 4, 5], [6, 7, 8, 9, 10]\n",
        "#lista = np.lista([[1, 2, 3, 4, 5], [1, 2, 3, 4, 5]])\n",
        "print(type(lista), lista)\n",
        "\n"
      ]
    },
    {
      "cell_type": "code",
      "source": [
        "# Slicing\n",
        "import numpy as np\n",
        "\n",
        "# leading zeroes dont work, but you can ident, somehow. i thought identation was important in py\n",
        "# square brackets are printed... To remove them, unpack with \"*\" or convert to string. reconvert if needed\n",
        "arry = np.array([\n",
        "    [  1,  2,  3,  4],\n",
        "     [ 5,  6,  7,  8],\n",
        "      [9, 10, 11, 12]])\n",
        "\n",
        "print(\"Hello! Meet arry. Arry is an array that looks like this:\")\n",
        "print(arry)\n",
        "print(type(arry))\n",
        "print(\"\\nWe can slice arry, like a cake, using: variable[y1:y2, z1:z2, step].\")\n",
        "print(\"\\nSlicing first 2 rows and columns > arry[0:2, 0:2]:\")\n",
        "print(arry[0:2, 0:2]) # slice and dice\n",
        "print(\"\\nSlicing last 2 rows and colums > arry[1:3, 2:4]:\")\n",
        "print(arry[1:3, 2:4]) # slice and dice\n"
      ],
      "metadata": {
        "colab": {
          "base_uri": "https://localhost:8080/"
        },
        "id": "nqSzifpElHcV",
        "outputId": "58a7b95d-a2d2-4723-e6a5-680f6471f941"
      },
      "execution_count": 172,
      "outputs": [
        {
          "output_type": "stream",
          "name": "stdout",
          "text": [
            "Hello! Meet arry. Arry is an array that looks like this:\n",
            "[[ 1  2  3  4]\n",
            " [ 5  6  7  8]\n",
            " [ 9 10 11 12]]\n",
            "<class 'numpy.ndarray'>\n",
            "\n",
            "We can slice arry, like a cake, using: variable[y1:y2, z1:z2, step].\n",
            "\n",
            "Slicing first 2 rows and columns > arry[0:2, 0:2]:\n",
            "[[1 2]\n",
            " [5 6]]\n",
            "\n",
            "Slicing last 2 rows and colums > arry[1:3, 2:4]:\n",
            "[[ 7  8]\n",
            " [11 12]]\n"
          ]
        }
      ]
    }
  ]
}