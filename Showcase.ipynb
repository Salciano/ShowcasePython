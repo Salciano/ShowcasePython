{
  "nbformat": 4,
  "nbformat_minor": 0,
  "metadata": {
    "colab": {
      "provenance": [],
      "authorship_tag": "ABX9TyO8BAyWidMB1nRjHa2vNxme",
      "include_colab_link": true
    },
    "kernelspec": {
      "name": "python3",
      "display_name": "Python 3"
    },
    "language_info": {
      "name": "python"
    }
  },
  "cells": [
    {
      "cell_type": "markdown",
      "metadata": {
        "id": "view-in-github",
        "colab_type": "text"
      },
      "source": [
        "<a href=\"https://colab.research.google.com/github/Salciano/Showpy/blob/main/Showcase.ipynb\" target=\"_parent\"><img src=\"https://colab.research.google.com/assets/colab-badge.svg\" alt=\"Open In Colab\"/></a>"
      ]
    },
    {
      "cell_type": "markdown",
      "source": [
        "This is a brief showcase displaying practical basic coding skills that I developed autodidactically in Python."
      ],
      "metadata": {
        "id": "QpVEX-Sb3xXp"
      }
    },
    {
      "cell_type": "code",
      "source": [
        "#File reading and writting\n",
        "\n",
        "with open(\"text.txt\",\"w\") as filey: #this creates a file called text.txt and assigns a variable to it called filey\n",
        "  print(\"I like chocolate\", file=filey) #this prints or writes to the file.\n"
      ],
      "metadata": {
        "id": "GcZTGOOsxJ3E"
      },
      "execution_count": 16,
      "outputs": []
    },
    {
      "cell_type": "code",
      "source": [
        "# Rounding in python\n",
        "\n",
        "# Python has a round() function that rounds numbers.\n",
        "print(round(1,123456789))\n",
        "\n",
        "# It is possible to round a number to a specific decimal place/digit.\n",
        "print(round(1.123456789, 5)) # In this case, it rounded to 5 decimal digits, the 5th decimal place.\n",
        "\n",
        "print(\"\\u2500\" * 50)\n",
        "# Python rounds even numbers down and odd numbers up\n",
        "print(\"Unrounded Numbers ≈ Rounded Numbers\")\n",
        "i = 1.5\n",
        "while i <= 20:\n",
        "  print(i, end = \" ≈ \")\n",
        "  print(round(i))\n",
        "  i += 1\n",
        "\n",
        "print(\"\\u2500\" * 50)\n",
        "# Python automatically assigns data types according to the result.\n",
        "# For example: whole numbers are assigned as integers; while decimal numbers are assigned as floats.\n",
        "# This even converts already existing data to different data types.\n",
        "\n",
        "print(\"Rounding may change data type:\")\n",
        "x = round(2.55)\n",
        "print(x, type(x)) # Python stored the rounded number as an integer data type.\n",
        "x = round(2.55, 1)\n",
        "print(x, type(x)) # Python converted the rounded number into a float, which was previously an integer.\n",
        "x = round(2.55)\n",
        "print(x, type(x)) # Python converted the rounded float back into an integer.\n",
        "# This was done using the same variable and without declaring it or its data type, in the first place.\n",
        "# So, in Python, you don't need to declare variables. Also, variables can change its data type after creation and being assigned a data type.\n",
        "\n",
        "print(\"\\u2500\" * 50)\n",
        "# Here is how to round lists\n",
        "listy = [ 1.5, 2.5, 3.5, 4.5, 5.5, 6.5, 7.5, 8.5, 9.5, 10.5 ]\n",
        "print(\"Let's try printing a list. Note the square brackets, when printing lists without formatting.\")\n",
        "print(listy)\n",
        "roundylisty = [ round(i) for i in listy ]\n",
        "print(\"This is how a rounded list looks like. Note the square brackets, when printing lists without formatting.\")\n",
        "print(roundylisty)\n",
        "# print(round(listy)) This would not work. You need to round each element individually.\n",
        "print(\"Let's try printing a tupple. Note the round brackets, when printing lists without formatting.\")\n",
        "listy = ( 1.5, 2.5, 3.5, 4.5, 5.5, 6.5, 7.5, 8.5, 9.5, 10.5 )\n",
        "print(listy)\n",
        "roundylisty = ( round(i) for i in listy ) # tuples are immutable. So we can't round it after values have been assigned to it.\n",
        "print(\"This is how a rounded tupple looks like. Note the square brackets, when printing lists without formatting.\")\n",
        "print(roundylisty)\n",
        "print(\"Let's try printing a set. Note the curl brackets, when printing lists without formatting.\")\n",
        "listy = { 1.5, 2.5, 3.5, 4.5, 5.5, 6.5, 7.5, 8.5, 9.5, 10.5 }\n",
        "print(listy)\n",
        "print(\"This is how a rounded set looks like. Note the square brackets, when printing lists without formatting. Very important to note that there was data loss or data cleaning, because sets are unique and cannot have duplicate values.\")\n",
        "roundylisty = { round(i) for i in listy }\n",
        "print(roundylisty)\n",
        "print(\"Data type was changed. Even for the tupple. Only the values themselves are immutable, but the data type itself can be changed.\")"
      ],
      "metadata": {
        "id": "Drl6rtxBxKUc",
        "colab": {
          "base_uri": "https://localhost:8080/"
        },
        "outputId": "3b85ccf0-f587-445b-9b52-357abc5c8467"
      },
      "execution_count": null,
      "outputs": [
        {
          "output_type": "stream",
          "name": "stdout",
          "text": [
            "1\n",
            "1.12346\n",
            "──────────────────────────────────────────────────\n",
            "Unrounded Numbers ≈ Rounded Numbers\n",
            "1.5 ≈ 2\n",
            "2.5 ≈ 2\n",
            "3.5 ≈ 4\n",
            "4.5 ≈ 4\n",
            "5.5 ≈ 6\n",
            "6.5 ≈ 6\n",
            "7.5 ≈ 8\n",
            "8.5 ≈ 8\n",
            "9.5 ≈ 10\n",
            "10.5 ≈ 10\n",
            "11.5 ≈ 12\n",
            "12.5 ≈ 12\n",
            "13.5 ≈ 14\n",
            "14.5 ≈ 14\n",
            "15.5 ≈ 16\n",
            "16.5 ≈ 16\n",
            "17.5 ≈ 18\n",
            "18.5 ≈ 18\n",
            "19.5 ≈ 20\n",
            "──────────────────────────────────────────────────\n",
            "Rounding may change data type:\n",
            "3 <class 'int'>\n",
            "2.5 <class 'float'>\n",
            "3 <class 'int'>\n",
            "──────────────────────────────────────────────────\n",
            "Let's try printing a list. Note the square brackets, when printing lists without formatting.\n",
            "[1.5, 2.5, 3.5, 4.5, 5.5, 6.5, 7.5, 8.5, 9.5, 10.5]\n",
            "This is how a rounded list looks like. Note the square brackets, when printing lists without formatting.\n",
            "[2, 2, 4, 4, 6, 6, 8, 8, 10, 10]\n",
            "Let's try printing a tupple. Note the round brackets, when printing lists without formatting.\n",
            "(1.5, 2.5, 3.5, 4.5, 5.5, 6.5, 7.5, 8.5, 9.5, 10.5)\n",
            "This is how a rounded tupple looks like. Note the square brackets, when printing lists without formatting.\n",
            "<generator object <genexpr> at 0x7f6722703ed0>\n",
            "Let's try printing a set. Note the curl brackets, when printing lists without formatting.\n",
            "{1.5, 2.5, 3.5, 4.5, 5.5, 6.5, 7.5, 8.5, 9.5, 10.5}\n",
            "This is how a rounded set looks like. Note the square brackets, when printing lists without formatting. Very important to note that there was data loss or data cleaning, because sets are unique and cannot have duplicate values.\n",
            "{2, 4, 6, 8, 10}\n",
            "Data type was changed. Even for the tupple. Only the values themselves are immutable, but the data type itself can be changed.\n"
          ]
        }
      ]
    },
    {
      "cell_type": "code",
      "source": [
        "# Rounding Libraries\n",
        "# It is also possible to use the numpy library for rounding\n",
        "\n",
        "import numpy as np\n",
        "\n",
        "array = np.array([[1.5,2.5,3.5,4.5,5.5], [6.5,7.5,8.5,9.5,10.5]])\n",
        "\n",
        "print(\"You'd like me to round these numbers?\")\n",
        "print(array)\n",
        "print(\"I'm very odd at rounding numbers, but lemme try! Even numbers are oddly rounded down. Odd numbers are normally rounded up. Did I do it right?\")\n",
        "print(np.round(array))\n",
        "\n",
        "#print(round(array)) does not work in native Python. That is one reason to use numpy.\n",
        "\n",
        "# Additionally, you can also truncate in Numpy. Note that numpy returns floats\n",
        "print(\"Numpy: Untruncated Numbers ≈ Truncated Numbers\")\n",
        "i = 1.5\n",
        "while i < 11:\n",
        "  print(i, end = \" ≈ \")\n",
        "  print(np.trunc(i))\n",
        "  i += 1\n",
        "print()\n",
        "\n",
        "# Additionally, you can also truncate in Math. Note that math returns integers\n",
        "print(\"Math: Untruncated Numbers ≈ Truncated Numbers\")\n",
        "i = 1.5\n",
        "while i < 11:\n",
        "  print(i, end = \" ≈ \")\n",
        "  print(math.trunc(i))\n",
        "  i += 1\n",
        "print()\n",
        "\n",
        "# Furthermore, it is possible to round down or up.\n",
        "print(\"Math: Unfloored Numbers ≈ Floored (Rounded Down) Numbers\")\n",
        "i = 1.5\n",
        "while i < 11:\n",
        "  print(i, end = \" ≈ \")\n",
        "  print(math.floor(i))\n",
        "  i += 1\n",
        "print()\n",
        "\n",
        "print(\"Math: Unceiled Numbers ≈ Ceiled (Rounded Up) Numbers\")\n",
        "i = 1.5\n",
        "while i < 11:\n",
        "  print(i, end = \" ≈ \")\n",
        "  print(math.ceil(i))\n",
        "  i += 1\n",
        "print()\n",
        "\n",
        "\n",
        "print (math.floor(3.5)) # floor\n",
        "print (math.trunc(3.5)) # work as floor\n",
        "print (math.ceil(3.5))  # ceil"
      ],
      "metadata": {
        "id": "l1uw4kn85dev"
      },
      "execution_count": null,
      "outputs": []
    },
    {
      "cell_type": "code",
      "source": [
        "# Functions for Geometry\n",
        "# It is possible to use libraries: numpy or math\n",
        "import numpy\n",
        "import math\n",
        "\n",
        "# These libraries have the constant pi, π\n",
        "\n",
        "print(\"Numpy: This is the value of π:\", numpy.pi)\n",
        "print(\" Math: This is the value of π:\", math.pi)\n",
        "# Native has no pi :(\n",
        "# print(\"Native: This is the value of π:\", pi)\n",
        "\n",
        "# You can use pi to calculate the area, diameter or a radius of circle.\n",
        "perimeter = 5 # Lets say we have a circle with 5cm perimeter.\n",
        "\n",
        "# To calculate the radius\n",
        "\n",
        "# To calculate the diameter\n",
        "\n",
        "# To calculate the area\n",
        "radius = 5 # Lets say we have a circle with 5cm radius.\n",
        "area = math.pi * radius ** 2\n",
        "\n",
        "print( \"Numpy: A circle with a radius of\", radius, \"cm has an area of:\", area, \"cm2.\")\n",
        "\n",
        "area = numpy.pi * radius ** 2\n",
        "print( \" Math: A circle with a radius of\", radius, \"cm has an area of:\", area, \"cm2.\")\n",
        "\n",
        "print()\n",
        "# To calculate the area of several circles in an array/list\n",
        "radii = np.array([1,2,3,4,5])\n",
        "print(\"Here we have\", len(radii), \"circles. Each with a radius of:\")\n",
        "# print(radii) # with brackets\n",
        "#print(*radii, sep=\"cm, \", end = \"cm\") # without brackets\n",
        "for i in range(len(radii)):\n",
        "    print(f\"Circle {i+1}: {radii[i]} cm.\")\n",
        "\n",
        "print(\"\\nHere is the calculated area for each circle:\")\n",
        "area = np.pi * radii ** 2\n",
        "#print(np.pi * radii ** 2 ) # Result in ugly brackets and without using area variable\n",
        "#print(*area, sep = \", \") # Result separated by commas in a single line\n",
        "\n",
        "for i in range(len(radii)):\n",
        "    print(f\"Circle {i+1}> Radius: {radii[i]} cm. Area: {area[i]} cm2\")\n"
      ],
      "metadata": {
        "id": "LMQSAL9QEJ9U"
      },
      "execution_count": null,
      "outputs": []
    },
    {
      "cell_type": "code",
      "source": [
        "import numpy as np\n",
        "\n",
        "np.array([1,2,3,4,5,6])\n",
        "\n",
        "print(array * 3 )\n",
        "print(array + 1 )\n",
        "print(array ** 2)\n",
        "print(np.round(array))\n"
      ],
      "metadata": {
        "colab": {
          "base_uri": "https://localhost:8080/"
        },
        "id": "fMZrLnQzloJm",
        "outputId": "dd119165-4f9c-46dd-e330-d7b177d040a9"
      },
      "execution_count": null,
      "outputs": [
        {
          "output_type": "stream",
          "name": "stdout",
          "text": [
            "[[ 3  6  9 12]\n",
            " [15 18 21 24]\n",
            " [27 30 33 36]]\n",
            "[[ 2  3  4  5]\n",
            " [ 6  7  8  9]\n",
            " [10 11 12 13]]\n",
            "[[  1   4   9  16]\n",
            " [ 25  36  49  64]\n",
            " [ 81 100 121 144]]\n",
            "[[ 1  2  3  4]\n",
            " [ 5  6  7  8]\n",
            " [ 9 10 11 12]]\n"
          ]
        }
      ]
    },
    {
      "cell_type": "code",
      "execution_count": null,
      "metadata": {
        "colab": {
          "base_uri": "https://localhost:8080/"
        },
        "id": "X6JPF9aKjONr",
        "outputId": "8cb471a0-4423-486f-caf4-779063521bd9"
      },
      "outputs": [
        {
          "output_type": "stream",
          "name": "stdout",
          "text": [
            "0 1 2\n",
            "..........2\n",
            "1 a\n",
            "2 c\n",
            "3 v\n",
            "4 s\n",
            "4\n",
            "s\n",
            ".....3\n",
            "a b c\n",
            "abc\n",
            ".....4\n",
            "list1 b4 drop() (0, 1, 2, 3)\n",
            "(0, 1, 2, 3)\n",
            ".....5\n",
            "<class 'tuple'> ([1, 2, 3, 4, 5], [6, 7, 8, 9, 10])\n"
          ]
        }
      ],
      "source": [
        "import pandas as panpy\n",
        "import numpy as np\n",
        "\n",
        "var0, var1 = 0, 1\n",
        "var2 = 2\n",
        "var3 = 3\n",
        "var4 = 4\n",
        "var10 = 0\n",
        "var11 = 1\n",
        "var20 = var10\n",
        "var21 = var11\n",
        "\n",
        "#var0, var1, var2 = var1, var0, var0\n",
        "\n",
        "#swap()\n",
        "\n",
        "print(var0, var1, var2)\n",
        "print(\"..........2\")\n",
        "\n",
        "a = ['a', 'c', 'v', 's']\n",
        "for i,v in enumerate(a, 1):\n",
        "    print (i, v)\n",
        "\n",
        "print(i)\n",
        "print(v)\n",
        "print(\".....3\")\n",
        "str1, str2, str3 = \"a\", \"b\", \"c\"\n",
        "print(str1, str2, str3)\n",
        "print(str1 + str2 + str3)\n",
        "\n",
        "print(\".....4\")\n",
        "list1 = 0, 1, 2, 3\n",
        "#list2 = drop\n",
        "#list2 = 0, 1.1, \"a\", \"4\"\n",
        "\n",
        "print(\"list1 b4 drop()\", list1)\n",
        "#panpy.drop(list[0])\n",
        "\n",
        "print(list1)\n",
        "#print(list2)\n",
        "\n",
        "print(\".....5\")\n",
        "lista = [1, 2, 3, 4, 5], [6, 7, 8, 9, 10]\n",
        "#lista = np.lista([[1, 2, 3, 4, 5], [1, 2, 3, 4, 5]])\n",
        "print(type(lista), lista)\n",
        "\n"
      ]
    },
    {
      "cell_type": "code",
      "source": [
        "\n",
        "import numpy as np\n",
        "\n",
        "# leading zeroes dont work, but you can ident, somehow. i thought identation was important in py\n",
        "# dont know why the square brackets are printed...\n",
        "array = np.array([\n",
        "    [  1,  2,  3,  4],\n",
        "     [ 5,  6,  7,  8],\n",
        "      [9, 10, 11, 12]])\n",
        "\n",
        "print(array)\n",
        "print(type(array))\n",
        "# slice and dice\n",
        "print(array[0:2, 0:2])\n",
        "\n",
        "\n",
        "\n",
        "\n"
      ],
      "metadata": {
        "colab": {
          "base_uri": "https://localhost:8080/"
        },
        "id": "nqSzifpElHcV",
        "outputId": "45d237b0-65fb-424e-e083-25b8aa456ebe"
      },
      "execution_count": null,
      "outputs": [
        {
          "output_type": "stream",
          "name": "stdout",
          "text": [
            "[[ 1  2  3  4]\n",
            " [ 5  6  7  8]\n",
            " [ 9 10 11 12]]\n",
            "<class 'numpy.ndarray'>\n",
            "[[1 2]\n",
            " [5 6]]\n"
          ]
        }
      ]
    }
  ]
}