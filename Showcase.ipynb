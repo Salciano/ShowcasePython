{
  "nbformat": 4,
  "nbformat_minor": 0,
  "metadata": {
    "colab": {
      "provenance": [],
      "collapsed_sections": [
        "RRbCSNPRcGPh",
        "y_MOhFc-sdo9",
        "BPwEhQX3ohdy",
        "_6m2mFWUq8yh",
        "sJgq1r6EqcEO"
      ],
      "toc_visible": true,
      "authorship_tag": "ABX9TyOdclmO/R9/YCqzyPDSm3vF",
      "include_colab_link": true
    },
    "kernelspec": {
      "name": "python3",
      "display_name": "Python 3"
    },
    "language_info": {
      "name": "python"
    }
  },
  "cells": [
    {
      "cell_type": "markdown",
      "metadata": {
        "id": "view-in-github",
        "colab_type": "text"
      },
      "source": [
        "<a href=\"https://colab.research.google.com/github/Salciano/ShowcasePython/blob/main/Showcase.ipynb\" target=\"_parent\"><img src=\"https://colab.research.google.com/assets/colab-badge.svg\" alt=\"Open In Colab\"/></a>"
      ]
    },
    {
      "cell_type": "markdown",
      "source": [
        "This is a showcase, displaying skills I learned in Python and its libraries, within the context of Deep Learning."
      ],
      "metadata": {
        "id": "QpVEX-Sb3xXp"
      }
    },
    {
      "cell_type": "markdown",
      "source": [
        "#Variables"
      ],
      "metadata": {
        "id": "lVnUFA0fspgl"
      }
    },
    {
      "cell_type": "code",
      "execution_count": null,
      "metadata": {
        "colab": {
          "base_uri": "https://localhost:8080/"
        },
        "id": "uLv98cDMF42V",
        "outputId": "4c2505e9-000b-489c-b2a8-323255a4d2c0",
        "collapsed": true,
        "cellView": "form"
      },
      "outputs": [
        {
          "output_type": "stream",
          "name": "stdout",
          "text": [
            "var1: 1\n",
            "var2: 1\n",
            "\n",
            "var3: 3\n",
            "var4: 4\n",
            "\n",
            "var5: 5\n",
            "var6: 6\n",
            "\n",
            "var7: 1\n",
            "var8: 2\n",
            "var9: 3\n",
            "\n",
            "50 100 50 100 50 100\n",
            "\n",
            "var10: (10, 11) <class 'tuple'>\n",
            "var11: (10, 11) <class 'tuple'>\n",
            "\n",
            "var10: (10, 11) <class 'tuple'>\n",
            "var11: (10, 11) <class 'tuple'>\n",
            "\n",
            "var1: 1. var2: 2. var3: 3.\n",
            "50\n",
            "\n",
            "var5: 2 <class 'int'>. var6: 3 <class 'int'>. var7: [4] <class 'list'>.\n",
            "\n"
          ]
        }
      ],
      "source": [
        "#@title Multivariable/Multivalue Assignment > Python\n",
        "\n",
        "#Python allows assigning multiple variables or values in a single line\n",
        "\n",
        "#Here are a few examples:\n",
        "\n",
        "# This won't work:\n",
        "#var20,var21 = 1\n",
        "#print(var20, var21)\n",
        "\n",
        "var1 = var2 = 1\n",
        "print(\"var1:\", var1)\n",
        "print(\"var2:\", var2)\n",
        "print()\n",
        "\n",
        "var3,var4 = 3, 4\n",
        "print(\"var3:\", var3)\n",
        "print(\"var4:\", var4)\n",
        "print()\n",
        "\n",
        "var5=5;var6=6\n",
        "print(\"var5:\", var5)\n",
        "print(\"var6:\", var6)\n",
        "print()\n",
        "\n",
        "var7,var8,var9= [1, 2, 3] # It iterates through each value and assigns each value there to each variable. In this case, it's as if the brackets were not there.\n",
        "print(\"var7:\", var7)\n",
        "print(\"var8:\", var8)\n",
        "print(\"var9:\", var9)\n",
        "print()\n",
        "\n",
        "var9, var8 = [var7, var6] = var5, var4 = 50, 100\n",
        "print(var9,var8,var7,var6,var5,var4)\n",
        "print()\n",
        "\n",
        "var10=var11 = 10,11\n",
        "print(\"var10:\", var10, type(var10))\n",
        "print(\"var11:\", var11, type(var11))\n",
        "print()\n",
        "\n",
        "var12=var12= [[[12], [13]]]\n",
        "print(\"var10:\", var10, type(var10))\n",
        "print(\"var11:\", var11, type(var11))\n",
        "print()\n",
        "\n",
        "var4 = [1, 2, 3, 4, 5]\n",
        "var1, var2, var3 = var4[:3] # Sliced the first three elements\n",
        "print(f\"var1: {var1}. var2: {var2}. var3: {var3}.\")\n",
        "print(var5)\n",
        "print()\n",
        "\n",
        "var5, var6, var7 = var4[1], var4[2], [var4[var3]] # var 7 was an integer and became a list, getting the value based on its position. May need to convert var7...\n",
        "print(f\"var5: {var5} {type(var5)}. var6: {var6} {type(var5)}. var7: {var7} {type(var7)}.\")\n",
        "print()\n"
      ]
    },
    {
      "cell_type": "markdown",
      "source": [
        "#Operators"
      ],
      "metadata": {
        "id": "_hISYJKdsjFV"
      }
    },
    {
      "cell_type": "code",
      "source": [
        "#@title Arithmetic Operators > Python\n",
        "print(\"Arithmetic/Algebraic Operators\") # Operators are things/token/symbols that act/operate on other things/operands\n",
        "\n",
        "a, b = 10, 5\n",
        "print(f\"{a} + {b} = {a + b}      > Addition\")\n",
        "print(f\"{a} - {b} = {a - b}       > Subtraction\")\n",
        "print(f\"{a} * {b} = {a * b}      > Multiplication\")\n",
        "print(f\"{a} / {b} = {a / b}     > Division (Float)\")\n",
        "\n",
        "print()\n",
        "time1, clock12 = 18, 12\n",
        "runtime1, clock24 = 100, 24\n",
        "print(f\"{a} ** {b} = {a ** b} > Exponentiation (10 to the power of 5) or (10*10*10*10*10) or (10^5)\")\n",
        "print(f\"{a} // {b} = {a // b}      > Floor Division (the number a times a number fits tidly into another)\")\n",
        "print(f\"{a} % {b} = {a % b}       > Modulus (remainder or difference after dividing 10 by 5)\")\n",
        "\n",
        "print(\"\\nPractical Uses\")\n",
        "print(\"Floor division can be useful for counting time.\")\n",
        "print(f\"For example, let's say, I have been playing a game for {runtime1} hours. Using this operator, it is possible to calculate that I have been playing the game for {runtime1 // clock24} days (and {runtime1 - (clock24*(runtime1 // clock24))} hours). {runtime1} // {clock24} = {runtime1 // clock24}. Maybe I should take a break :)\")\n",
        "print(f\"Another example, let's say, I have been training Calisthenics for 45 days and each month has 30 days. Then, I have been training for {45 // 30} month(s).\")\n",
        "print(f\"Lastly, let's say, I have been training martial arts for 200 months and each year has 12 months. Then, I have been training for {200 // 12} year(s). Pretty long time!\")\n",
        "\n",
        "print(\"\\nModulus is also useful for counting time. Namely for clocks, which wrap around every 12 or 24 hours (12am vs 12pm vs 24h).\")\n",
        "print(f\"For example, let's say, it is 18:00 on a {clock24} hour clock. On an {clock12} hour clock, it is {time1 % clock12}pm. {time1} % {clock12} = {time1 % clock12}\")\n"
      ],
      "metadata": {
        "colab": {
          "base_uri": "https://localhost:8080/"
        },
        "id": "DxHx5oXD5xMC",
        "outputId": "95f9f60a-4df8-4891-8dcd-56a2e06ab81e",
        "collapsed": true
      },
      "execution_count": null,
      "outputs": [
        {
          "output_type": "stream",
          "name": "stdout",
          "text": [
            "Arithmetic/Algebraic Operators\n",
            "10 + 5 = 15      > Addition\n",
            "10 - 5 = 5       > Subtraction\n",
            "10 * 5 = 50      > Multiplication\n",
            "10 / 5 = 2.0     > Division (Float)\n",
            "\n",
            "10 ** 5 = 100000 > Exponentiation (10 to the power of 5) or (10*10*10*10*10) or (10^5)\n",
            "10 // 5 = 2      > Floor Division (the number a times a number fits tidly into another)\n",
            "10 % 5 = 0       > Modulus (remainder or difference after dividing 10 by 5)\n",
            "\n",
            "Practical Uses\n",
            "Floor division can be useful for counting time.\n",
            "For example, let's say, I have been playing a game for 100 hours. Using this operator, it is possible to calculate that I have been playing the game for 4 days (and 4 hours). 100 // 24 = 4. Maybe I should take a break :)\n",
            "Another example, let's say, I have been training Calisthenics for 45 days and each month has 30 days. Then, I have been training for 1 month(s).\n",
            "Lastly, let's say, I have been training martial arts for 200 months and each year has 12 months. Then, I have been training for 16 year(s). Pretty long time!\n",
            "\n",
            "Modulus is also useful for counting time. Namely for clocks, which wrap around every 12 or 24 hours (12am vs 12pm vs 24h).\n",
            "For example, let's say, it is 18:00 on a 24 hour clock. On an 12 hour clock, it is 6pm. 18 % 12 = 6\n"
          ]
        }
      ]
    },
    {
      "cell_type": "code",
      "source": [
        "#@title Logical Operators > Python\n",
        "\n",
        "import random\n",
        "\n",
        "#and: Returns True, if both conditions are true. Otherwise returns False.\n",
        "#or: Returns True, if one condition must be true. Otherwise, returns False.\n",
        "#not: Reverses the result. If the condition returned False, it reverses to True. If the condition returned True, it reverses to False.\n",
        "\n",
        "x = random.randint(0,10)\n",
        "print(\"Our variable x is:\", x)\n",
        "\n",
        "print(\"\\nLet's check if x bigger than 0 AND smaller than 5...\")\n",
        "print(\"Answer:\", x > 0 and x < 5)\n",
        "\n",
        "print(\"\\nNow, let's check if x is 0 OR 5...\")\n",
        "print(\"Answer:\", x == 0 or x == 5)\n",
        "\n",
        "print(\"\\nNow, let's check if x is neither 0 OR 5, reversing the previous result...\")\n",
        "print(\"Answer:\", not(x == 0 or x == 5))\n",
        "\n",
        "print(\"\\nNow, let's check if x is neither 0 OR 5, reversing the previous result...\")"
      ],
      "metadata": {
        "colab": {
          "base_uri": "https://localhost:8080/"
        },
        "id": "iV8vyRcjW2ae",
        "outputId": "2641178e-4ddc-4075-dbae-cbb6a659e07e"
      },
      "execution_count": null,
      "outputs": [
        {
          "output_type": "stream",
          "name": "stdout",
          "text": [
            "Our variable x is: 2\n",
            "\n",
            "Let's check if x bigger than 0 AND smaller than 5...\n",
            "Answer: True\n",
            "\n",
            "Now, let's check if x is 0 OR 5...\n",
            "Answer: False\n",
            "\n",
            "Now, let's check if x is neither 0 OR 5, reversing the previous result...\n",
            "Answer: True\n",
            "\n",
            "Now, let's check if x is neither 0 OR 5, reversing the previous result...\n"
          ]
        }
      ]
    },
    {
      "cell_type": "markdown",
      "source": [
        "#Random"
      ],
      "metadata": {
        "id": "RRbCSNPRcGPh"
      }
    },
    {
      "cell_type": "code",
      "source": [
        "#@title Random > NumPy\n",
        "\n",
        "import numpy as np\n",
        "\n",
        "print(\"Generating 3 random floats\")\n",
        "print(np.random.randn (3))\n",
        "\n",
        "print(\"\\nGenerating 3 random integers\")\n",
        "print(np.random.randint(10, size=3)) # from 0 to 9 (lower limit is included, upper limit is excluded).\n",
        "\n",
        "print(\"\\nRandomly chooses a value from a given choice\")\n",
        "print(np.random.choice([360, 1324, 9999]), end=\" \")\n",
        "print(np.random.choice([\"Apples\", \"Bananas\", \"Blueberries\", \"Grapes\", \"Kakis\", \"Mangos\", \"Oranges\", \"Pies\", \"Strawberries\"])) # Can be strings\n"
      ],
      "metadata": {
        "id": "o-suFhvRcKUS",
        "colab": {
          "base_uri": "https://localhost:8080/"
        },
        "collapsed": true,
        "outputId": "0a3a2845-a51d-4bbb-8a56-720defdf6e4f",
        "cellView": "form"
      },
      "execution_count": null,
      "outputs": [
        {
          "output_type": "stream",
          "name": "stdout",
          "text": [
            "Generating 3 random floats\n",
            "[-0.61140289  0.44859108  1.53355962]\n",
            "\n",
            "Generating 3 random integers\n",
            "[7 3 1]\n",
            "\n",
            "Randomly chooses a value from a given choice\n",
            "1324 Bananas\n"
          ]
        }
      ]
    },
    {
      "cell_type": "code",
      "source": [
        "#@title General Seeding > NumPy\n",
        "\n",
        "\"\"\"\n",
        "In NumPy, it is possible to reproduce the same random results (numbers) through seeding.\n",
        "That is because randomness is dependant on a seed, which is usually time-dependant.\n",
        "Fixing the seed (or time) will fix the (pseudo)randomly generated number.\n",
        "So, as long as the seed remains the same (fixed), the generated number will remain the same.\n",
        "\"\"\"\n",
        "\n",
        "import numpy as np\n",
        "\n",
        "# Fixing global seed\n",
        "np.random.seed(99) # Fixed the random seed generally/globally affects all randomly generated numbers. Locally fixed seeds overrides this.\n",
        "\n",
        "print(\"np.random.rand(3)\")\n",
        "print(\"Generating 3 floats:\")\n",
        "print(np.random.randn(3))\n",
        "print(\"The result should be fixed: \\n[-0.14235884  2.05722174  0.28326194]\")\n",
        "\n",
        "print(\"\\nGenerated integers:\", np.random.randint(0, 10, size=3))\n",
        "print(\"The result should be fixed: [3 7 1]\")\n",
        "\n",
        "print(\"\\nFixing a seed 'locally' for one variable, via np.random.RandomState()\")\n",
        "seed5 = np.random.RandomState(5) # fixed the seed locally, for this variable. Other variables are unnaffected by this.\n",
        "print(\"\\nGenerated float:\", seed5.rand(3))\n",
        "print(\"The result should be fixed: \\n[0.22199317 0.87073231 0.20671916]\")\n",
        "print(\"Instead of: \\n[-0.14235884  2.05722174  0.28326194]\")\n"
      ],
      "metadata": {
        "colab": {
          "base_uri": "https://localhost:8080/"
        },
        "id": "rkWK2gd_ZTF6",
        "outputId": "9df69af0-8b3e-4fee-9088-dbf87cf0861b",
        "cellView": "form",
        "collapsed": true
      },
      "execution_count": null,
      "outputs": [
        {
          "output_type": "stream",
          "name": "stdout",
          "text": [
            "np.random.rand(3)\n",
            "Generating 3 floats:\n",
            "[-0.14235884  2.05722174  0.28326194]\n",
            "The result should be fixed: \n",
            "[-0.14235884  2.05722174  0.28326194]\n",
            "\n",
            "Generated integers: [3 7 1]\n",
            "The result should be fixed: [3 7 1]\n",
            "\n",
            "Fixing a seed 'locally' for one variable, via np.random.RandomState()\n",
            "\n",
            "Generated float: [0.22199317 0.87073231 0.20671916]\n",
            "The result should be fixed: \n",
            "[0.22199317 0.87073231 0.20671916]\n",
            "Instead of: \n",
            "[-0.14235884  2.05722174  0.28326194]\n"
          ]
        }
      ]
    },
    {
      "cell_type": "code",
      "source": [
        "#@title Targeted Seeding > NumPy\n",
        "\n",
        "print(\"Fixed a seed locally for one variable, via np.random.RandomState(5)\")\n",
        "seed5 = np.random.RandomState(5) # fixed the seed 'locally', for this variable. Other random generations are unnaffected by this.\n",
        "print(\"\\nGenerating 3 values for seeded variable\")\n",
        "print(\"\\nGenerated floats:\\n\", seed5.rand(3))\n",
        "print(\"The result should be fixed:\\n [0.22199317 0.87073231 0.20671916]\")\n",
        "print(\"\\nGenerated floats:\\n\", seed5.rand(3))\n",
        "print(\"The result should be different from above, but still fixed:\\n [0.91861091 0.48841119 0.61174386]\")\n",
        "\n",
        "print(\"\\nFixed a seed locally for one variable, via np.random.RandomState(20251025)\")\n",
        "seed5 = np.random.RandomState(20251025) # fixed the seed 'locally', for this variable. Other random generations are unnaffected by this.\n",
        "print(\"\\nGenerating 3 values for seeded variable\")\n",
        "print(\"\\nGenerated integers:\", seed5.randint(10, size=3))\n",
        "print(\"The result should be fixed: [1 1 3]\")\n",
        "\n",
        "\n",
        "print(\"\\nGenerating 3 random integers\")\n",
        "print(\"Generated number:\", np.random.randint(10, size=3))\n",
        "print(\"As you can see, the random integers are constantly changing without being fixed by the local seeds.\")\n"
      ],
      "metadata": {
        "colab": {
          "base_uri": "https://localhost:8080/"
        },
        "id": "SLXjdShZarb4",
        "outputId": "f2dde33d-8941-4969-b4f8-ade057783ce4",
        "cellView": "form",
        "collapsed": true
      },
      "execution_count": null,
      "outputs": [
        {
          "output_type": "stream",
          "name": "stdout",
          "text": [
            "Fixed a seed locally for one variable, via np.random.RandomState(5)\n",
            "\n",
            "Generating 3 values for seeded variable\n",
            "\n",
            "Generated floats:\n",
            " [0.22199317 0.87073231 0.20671916]\n",
            "The result should be fixed:\n",
            " [0.22199317 0.87073231 0.20671916]\n",
            "\n",
            "Generated floats:\n",
            " [0.91861091 0.48841119 0.61174386]\n",
            "The result should be different from above, but still fixed:\n",
            " [0.91861091 0.48841119 0.61174386]\n",
            "\n",
            "Fixed a seed locally for one variable, via np.random.RandomState(20251025)\n",
            "\n",
            "Generating 3 values for seeded variable\n",
            "\n",
            "Generated integers: [1 1 3]\n",
            "The result should be fixed: [1 1 3]\n",
            "\n",
            "Generating 3 random integers\n",
            "Generated number: [2 9 8]\n",
            "As you can see, the random integers are constantly changing without being fixed by the local seeds.\n"
          ]
        }
      ]
    },
    {
      "cell_type": "code",
      "source": [
        "#@title Random > PyTorch\n",
        "\n",
        "import torch\n",
        "\n",
        "#floats\n",
        "print(torch.rand(3)) # floats between 0 and 1\n",
        "print(torch.randn(3))\n",
        "print()\n",
        "\n",
        "#ints\n",
        "print(torch.randint(0, 10, [3])) # From 0 to 9. Generate 3 numbers\n",
        "print(torch.randint(0, 10, (3,))) # From 0 to 9.\n"
      ],
      "metadata": {
        "id": "us8YInQncWvG",
        "colab": {
          "base_uri": "https://localhost:8080/"
        },
        "outputId": "99a29a5b-b168-4874-af45-861add311755",
        "cellView": "form"
      },
      "execution_count": null,
      "outputs": [
        {
          "output_type": "stream",
          "name": "stdout",
          "text": [
            "tensor([0.9335, 0.0694, 0.5998])\n",
            "tensor([-0.4208,  0.4886, -0.5940])\n",
            "\n",
            "tensor([0, 6, 2])\n",
            "tensor([6, 5, 1])\n"
          ]
        }
      ]
    },
    {
      "cell_type": "code",
      "source": [
        "#@title General Seed > PyTorch\n",
        "\n",
        "import torch\n",
        "\n",
        "torch.manual_seed(11) # fixes the seed generally\n",
        "\n",
        "#floats\n",
        "print(torch.randn(3))\n",
        "print()\n",
        "\n",
        "#ints\n",
        "print(torch.randint(0, 10, [3])) # From 0 to 9. Generate 3 numbers\n"
      ],
      "metadata": {
        "colab": {
          "base_uri": "https://localhost:8080/"
        },
        "id": "s11RrOKcu8IX",
        "outputId": "d26b065f-ccd7-4ef6-fc93-9eb918ba40ce"
      },
      "execution_count": null,
      "outputs": [
        {
          "output_type": "stream",
          "name": "stdout",
          "text": [
            "tensor([ 0.7376,  1.9459, -0.6995])\n",
            "\n",
            "tensor([7, 7, 2])\n"
          ]
        }
      ]
    },
    {
      "cell_type": "code",
      "source": [
        "#@title Random > Random + String\n",
        "# Import string and random module\n",
        "import string # for string.ascii_letters\n",
        "import random # random.choice(), random.shuffle()\n",
        "\n",
        "# Randomly choose a letter from all the ascii_letters\n",
        "rndstr1 = random.choice(string.ascii_letters)\n",
        "print(\"Here is a random letter:\", rndstr1)\n",
        "\n",
        "#Shuffle the elements of a list\n",
        "list1 = [\"Apples\", \"Bananas\", \"Blueberries\", \"Grapes\", \"Kakis\", \"Mangos\", \"Oranges\", \"Pies\", \"Strawberries\"]\n",
        "random.shuffle(list1)\n",
        "print()\n",
        "print(list1)\n",
        "print(type(list1))\n",
        "\n",
        "print(\"\\nRandomly chooses a value from a given choice\")\n",
        "print(random.choice([360, 1324, 9999]), end=\" \")\n",
        "print(random.choice(list1)) # Can be strings\n"
      ],
      "metadata": {
        "colab": {
          "base_uri": "https://localhost:8080/"
        },
        "id": "Z5y2QD9biNk3",
        "outputId": "7f4e3060-e6b8-4108-daea-e8eb6ac92fdd",
        "cellView": "form",
        "collapsed": true
      },
      "execution_count": null,
      "outputs": [
        {
          "output_type": "stream",
          "name": "stdout",
          "text": [
            "Here is a random letter: O\n",
            "\n",
            "['Kakis', 'Oranges', 'Grapes', 'Apples', 'Pies', 'Mangos', 'Strawberries', 'Bananas', 'Blueberries']\n",
            "<class 'list'>\n",
            "\n",
            "Randomly chooses a value from a given choice\n",
            "360 Strawberries\n"
          ]
        }
      ]
    },
    {
      "cell_type": "markdown",
      "source": [
        "#Rounding"
      ],
      "metadata": {
        "id": "y_MOhFc-sdo9"
      }
    },
    {
      "cell_type": "code",
      "source": [
        "#@title Rounding > Python\n",
        "\n",
        "# Python has a round() function that rounds numbers.\n",
        "print(round(1,123456789))\n",
        "\n",
        "# It is possible to round a number to a specific decimal place/digit.\n",
        "print(round(1.123456789, 5)) # In this case, it rounded to 5 decimal digits, the 5th decimal place.\n",
        "\n",
        "print(\"\\u2500\" * 50)\n",
        "# Python rounds even numbers down and odd numbers up\n",
        "print(\"Unrounded Numbers ≈ Rounded Numbers\")\n",
        "\n",
        "\n",
        "i = 1.5\n",
        "while i < 11:\n",
        "    print( i, \"≈\", round(i), \"\\t|\", i+10, \"≈\", round(i+10))\n",
        "    i += 1\n",
        "\n",
        "print(\"\\u2500\" * 50)\n",
        "print(\"Usually (not always), Python automatically assigns data types according to the result. Values inside arrays (NumPy library) may remain floats.\")\n",
        "print(\"For example: whole numbers are assigned as integers; while decimal numbers are assigned as floats.\")\n",
        "print(\"This even converts already existing data to different data types.\")\n",
        "\n",
        "print(\"\\nRounding may change data type! Let's round 2.55 and see what happens:\")\n",
        "x = round(2.55)\n",
        "print(\"x = round(2.55) ≈\", x, type(x), \"Python stored the rounded number as an integer data type.\")\n",
        "x = round(2.55, 1)\n",
        "print(\"x = round(2.55, 1) ≈\", x, type(x), \"Python converted the rounded number into a float, which was previously an integer.\")\n",
        "x = round(2.55)\n",
        "print(\"x = round(2.55) ≈\", x, type(x), \"Python converted the rounded float back into an integer.\")\n",
        "print(\"This was done using the same variable and without declaring it or its data type, in the first place.\")\n",
        "print(\"So, in Python, you don't need to declare variables. Also, variables can change its data type after creation and being assigned a data type.\")\n",
        "\n",
        "print(\"\\nThis even works without variables. Let's round 2.55 without storing it in a variable and see what happens:\")\n",
        "print(\"round(2.55) ≈\", round(2.55), type(round(2.55)), \"Python stored the rounded number as an integer data type.\")\n",
        "print(\"round(2.55, 1) ≈\", round(2.55, 1), type(round(2.55, 1)), \"Python converted the rounded number into a float, which was previously an integer.\")\n",
        "print(\"round(2.55) ≈\", round(2.55), type(round(2.55)), \"Python converted the rounded float back into an integer.\")\n",
        "\n",
        "print(\"\\u2500\" * 50)\n",
        "# Here is how to round lists\n",
        "listy = [ 1.5, 2.5, 3.5, 4.5, 5.5, 6.5, 7.5, 8.5, 9.5, 10.5 ]\n",
        "print(\"Let's try printing a list. Note the square brackets, when printing lists without formatting.\")\n",
        "print(listy)\n",
        "roundylisty = [ round(i) for i in listy ]\n",
        "\n",
        "print(\"\\nThis is how a rounded list looks like. Note the square brackets, when printing lists without formatting.\")\n",
        "print(roundylisty)\n",
        "# print(round(listy)) This would not work. You need to round each element individually.\n",
        "\n",
        "print(\"\\nLet's try printing a tupple. Note the round brackets, when printing lists without formatting.\")\n",
        "listy = ( 1.5, 2.5, 3.5, 4.5, 5.5, 6.5, 7.5, 8.5, 9.5, 10.5 )\n",
        "print(listy)\n",
        "#roundylisty = ( round(i) for i in listy ) # tuples are immutable. So we can't round it after values have been assigned to it.\n",
        "\n",
        "print(\"\\nThis is how a rounded tupple looks like. Note the square brackets, when printing lists without formatting.\")\n",
        "print(roundylisty)\n",
        "\n",
        "print(\"\\nLet's try printing a set.\")\n",
        "listy = { 1.5, 2.5, 3.5, 4.5, 5.5, 6.5, 7.5, 8.5, 9.5, 10.5 }\n",
        "print(listy)\n",
        "print(\"Note the curl brackets, when printing lists without formatting.\")\n",
        "\n",
        "print(\"\\nThis is how a rounded set looks like.\")\n",
        "roundylisty = { round(i) for i in listy }\n",
        "print(roundylisty)\n",
        "print(\"Note the curly brackets, when printing lists without formatting.\")\n",
        "print(\"More importantly, note that there was data loss or data cleaning, because data sets are unique and cannot have duplicate values. Be very careful when rounding sets!\")\n",
        "\n",
        "print(\"\\nIn conclusion, data types were changed. Even for the tupple. Only the values themselves are immutable, but the data type of the structure itself can be changed.\")"
      ],
      "metadata": {
        "id": "Drl6rtxBxKUc",
        "colab": {
          "base_uri": "https://localhost:8080/"
        },
        "outputId": "2617dc8b-ab80-443f-f7b9-ff54173331df",
        "cellView": "form",
        "collapsed": true
      },
      "execution_count": null,
      "outputs": [
        {
          "output_type": "stream",
          "name": "stdout",
          "text": [
            "1\n",
            "1.12346\n",
            "──────────────────────────────────────────────────\n",
            "Unrounded Numbers ≈ Rounded Numbers\n",
            "1.5 ≈ 2 \t| 11.5 ≈ 12\n",
            "2.5 ≈ 2 \t| 12.5 ≈ 12\n",
            "3.5 ≈ 4 \t| 13.5 ≈ 14\n",
            "4.5 ≈ 4 \t| 14.5 ≈ 14\n",
            "5.5 ≈ 6 \t| 15.5 ≈ 16\n",
            "6.5 ≈ 6 \t| 16.5 ≈ 16\n",
            "7.5 ≈ 8 \t| 17.5 ≈ 18\n",
            "8.5 ≈ 8 \t| 18.5 ≈ 18\n",
            "9.5 ≈ 10 \t| 19.5 ≈ 20\n",
            "10.5 ≈ 10 \t| 20.5 ≈ 20\n",
            "──────────────────────────────────────────────────\n",
            "Usually (not always), Python automatically assigns data types according to the result. Values inside arrays (NumPy library) may remain floats.\n",
            "For example: whole numbers are assigned as integers; while decimal numbers are assigned as floats.\n",
            "This even converts already existing data to different data types.\n",
            "\n",
            "Rounding may change data type! Let's round 2.55 and see what happens:\n",
            "x = round(2.55) ≈ 3 <class 'int'> Python stored the rounded number as an integer data type.\n",
            "x = round(2.55, 1) ≈ 2.5 <class 'float'> Python converted the rounded number into a float, which was previously an integer.\n",
            "x = round(2.55) ≈ 3 <class 'int'> Python converted the rounded float back into an integer.\n",
            "This was done using the same variable and without declaring it or its data type, in the first place.\n",
            "So, in Python, you don't need to declare variables. Also, variables can change its data type after creation and being assigned a data type.\n",
            "\n",
            "This even works without variables. Let's round 2.55 without storing it in a variable and see what happens:\n",
            "round(2.55) ≈ 3 <class 'int'> Python stored the rounded number as an integer data type.\n",
            "round(2.55, 1) ≈ 2.5 <class 'float'> Python converted the rounded number into a float, which was previously an integer.\n",
            "round(2.55) ≈ 3 <class 'int'> Python converted the rounded float back into an integer.\n",
            "──────────────────────────────────────────────────\n",
            "Let's try printing a list. Note the square brackets, when printing lists without formatting.\n",
            "[1.5, 2.5, 3.5, 4.5, 5.5, 6.5, 7.5, 8.5, 9.5, 10.5]\n",
            "\n",
            "This is how a rounded list looks like. Note the square brackets, when printing lists without formatting.\n",
            "[2, 2, 4, 4, 6, 6, 8, 8, 10, 10]\n",
            "\n",
            "Let's try printing a tupple. Note the round brackets, when printing lists without formatting.\n",
            "(1.5, 2.5, 3.5, 4.5, 5.5, 6.5, 7.5, 8.5, 9.5, 10.5)\n",
            "\n",
            "This is how a rounded tupple looks like. Note the square brackets, when printing lists without formatting.\n",
            "[2, 2, 4, 4, 6, 6, 8, 8, 10, 10]\n",
            "\n",
            "Let's try printing a set.\n",
            "{1.5, 2.5, 3.5, 4.5, 5.5, 6.5, 7.5, 8.5, 9.5, 10.5}\n",
            "Note the curl brackets, when printing lists without formatting.\n",
            "\n",
            "This is how a rounded set looks like.\n",
            "{2, 4, 6, 8, 10}\n",
            "Note the curly brackets, when printing lists without formatting.\n",
            "More importantly, note that there was data loss or data cleaning, because data sets are unique and cannot have duplicate values. Be very careful when rounding sets!\n",
            "\n",
            "In conclusion, data types were changed. Even for the tupple. Only the values themselves are immutable, but the data type of the structure itself can be changed.\n"
          ]
        }
      ]
    },
    {
      "cell_type": "code",
      "source": [
        "#@title Rounding > NumPy, Math\n",
        "\n",
        "# It is also possible to use libraries, like NumPy or Math. Although math lacks math.round()\n",
        "\n",
        "import numpy as np\n",
        "import math\n",
        "\n",
        "array = np.array([[1.5,2.5,3.5,4.5,5.5], [6.5,7.5,8.5,9.5,10.5]])\n",
        "\n",
        "print(\"You'd like me to round these numbers?\")\n",
        "print(array)\n",
        "print(\"I'm very odd at rounding numbers, but lemme try! Even numbers are oddly rounded down. Odd numbers are normally rounded up. Is this right?\")\n",
        "print(np.round(array))\n",
        "print(\"Note the rounded data type inside the array is still float, despite looking like integers: type(np.round(array[0,0])) =\", type(np.round(array[0,0])))\n",
        "\n",
        "#print(round(array)) does not work in native Python. That is one reason to use numpy.\n",
        "\n",
        "# Additionally, you can also truncate in Numpy. Note that numpy returns floats\n",
        "print(\"\\nNumpy: Untruncated Numbers ≈ Truncated Numbers (numpy.trunc)\")\n",
        "i = 1.5\n",
        "while i < 6:\n",
        "  print(i, end = \" ≈ \")\n",
        "  print(np.trunc(i), type(np.trunc(i)))\n",
        "  i += 1\n",
        "print()\n",
        "\n",
        "# Additionally, you can also truncate in Math. Note that math returns integers\n",
        "print(\"Math: Untruncated Numbers ≈ Truncated Numbers (math.trunc)\")\n",
        "i = 1.5\n",
        "while i < 6:\n",
        "  print(i, end = \" ≈ \")\n",
        "  print(math.trunc(i), type(math.trunc(i)))\n",
        "  i += 1\n",
        "print()\n",
        "\n",
        "# Furthermore, it is possible to round down or up.\n",
        "print(\"Math: Unfloored Numbers ≈ Floored (Rounded Down) Numbers (math.floor)\")\n",
        "i = 1.5\n",
        "while i < 6:\n",
        "  print(i, end = \" ≈ \")\n",
        "  print(math.floor(i))\n",
        "  i += 1\n",
        "print()\n",
        "\n",
        "print(\"Math: Unceiled Numbers ≈ Ceiled (Rounded Up) Numbers (math.ceil)\")\n",
        "i = 1.5\n",
        "while i < 11:\n",
        "  print(f\"{i} ≈ {math.ceil(i):02d}\\t| {i+1} ≈ {math.ceil(i+1):02d}\")\n",
        "  i += 2\n"
      ],
      "metadata": {
        "id": "l1uw4kn85dev",
        "colab": {
          "base_uri": "https://localhost:8080/"
        },
        "outputId": "4332f524-5108-436d-fc9b-1f70ad4c057e",
        "cellView": "form",
        "collapsed": true
      },
      "execution_count": null,
      "outputs": [
        {
          "output_type": "stream",
          "name": "stdout",
          "text": [
            "You'd like me to round these numbers?\n",
            "[[ 1.5  2.5  3.5  4.5  5.5]\n",
            " [ 6.5  7.5  8.5  9.5 10.5]]\n",
            "I'm very odd at rounding numbers, but lemme try! Even numbers are oddly rounded down. Odd numbers are normally rounded up. Is this right?\n",
            "[[ 2.  2.  4.  4.  6.]\n",
            " [ 6.  8.  8. 10. 10.]]\n",
            "Note the rounded data type inside the array is still float, despite looking like integers: type(np.round(array[0,0])) = <class 'numpy.float64'>\n",
            "\n",
            "Numpy: Untruncated Numbers ≈ Truncated Numbers (numpy.trunc)\n",
            "1.5 ≈ 1.0 <class 'numpy.float64'>\n",
            "2.5 ≈ 2.0 <class 'numpy.float64'>\n",
            "3.5 ≈ 3.0 <class 'numpy.float64'>\n",
            "4.5 ≈ 4.0 <class 'numpy.float64'>\n",
            "5.5 ≈ 5.0 <class 'numpy.float64'>\n",
            "\n",
            "Math: Untruncated Numbers ≈ Truncated Numbers (math.trunc)\n",
            "1.5 ≈ 1 <class 'int'>\n",
            "2.5 ≈ 2 <class 'int'>\n",
            "3.5 ≈ 3 <class 'int'>\n",
            "4.5 ≈ 4 <class 'int'>\n",
            "5.5 ≈ 5 <class 'int'>\n",
            "\n",
            "Math: Unfloored Numbers ≈ Floored (Rounded Down) Numbers (math.floor)\n",
            "1.5 ≈ 1\n",
            "2.5 ≈ 2\n",
            "3.5 ≈ 3\n",
            "4.5 ≈ 4\n",
            "5.5 ≈ 5\n",
            "\n",
            "Math: Unceiled Numbers ≈ Ceiled (Rounded Up) Numbers (math.ceil)\n",
            "1.5 ≈ 02\t| 2.5 ≈ 03\n",
            "3.5 ≈ 04\t| 4.5 ≈ 05\n",
            "5.5 ≈ 06\t| 6.5 ≈ 07\n",
            "7.5 ≈ 08\t| 8.5 ≈ 09\n",
            "9.5 ≈ 10\t| 10.5 ≈ 11\n"
          ]
        }
      ]
    },
    {
      "cell_type": "markdown",
      "source": [
        "#Average"
      ],
      "metadata": {
        "id": "vmTAXuFMWTdC"
      }
    },
    {
      "cell_type": "code",
      "source": [
        "#@title Average, Variance > NumPy\n",
        "\n",
        "import numpy as np\n",
        "\n",
        "teamchoco = [-3,-2,-1,1,2,3,5,5]\n",
        "n1 = len(teamchoco)\n",
        "\n",
        "print(\"Here's a bunch of numbers. They represent Team Choco. They like chocolate.\")\n",
        "print(teamchoco)\n",
        "\n",
        "#average mean()\n",
        "avg1 = np.mean(teamchoco)\n",
        "print(\"\\nHere's their average, via np.mean(teambros)\")\n",
        "print(avg1)\n",
        "\n",
        "teamrainbow = [-30,-20,-10,10,20,30,5,5]\n",
        "n2 = len(teamrainbow)\n",
        "print(\"\\nHere. Have a few more numbers. These represent Team Rainbow. They like many things, like smoothies, slushies, bubble tea, but not chocolate.\")\n",
        "print(teamrainbow)\n",
        "\n",
        "avg2 = np.sum(teamrainbow)/n2\n",
        "print(\"\\nHere's their average, via np.sum(teamdivas)/n (n is the number of team members))\")\n",
        "print(avg2)\n",
        "\n",
        "print(\"\\nAs you can see, even though their average is the same, their distribution, likes, etc is very different.\")\n",
        "teams = teamchoco + teamrainbow\n",
        "avg3 = np.mean(teams)\n",
        "print(avg3)\n",
        "print(f\"Even if these two teams were merged into one, their average would not change ({avg3}).\")\n",
        "#var3 = np.var(teams)\n",
        "#print(var3)\n",
        "print(\"I'm also sure you can tell it is unlikely they would get along...\")\n",
        "print(\"Averages are pretty nice, but sometimes they are just not the best was to describe a population or situation...\")\n",
        "\n",
        "print(\"To deal with this kind of issue, sometimes it helps to quantify the distribution of groups, before deciding what to do.\")\n",
        "print(\"In NumPy, this can be done with the variance function: np.var()\")\n",
        "\"\"\"\n",
        "To get an unbiased variance, add 1 per each known element to ddof=\n",
        "Each 1 added to ddof= removes 1 bias.\n",
        "There is 1 bias per known element in the group.\n",
        "The mean counts as a known element.\n",
        "\"\"\"\n",
        "var1, var2 = np.var(teamchoco, ddof=1), np.var(teamrainbow, ddof=1) # unbiased\n",
        "#var2 = (1/(n2-1)) * np.sum( (teamrainbow - avg2 ) **2) unbiased\n",
        "\n",
        "#var1, var2 = np.var(teamchoco), np.var(teamrainbow) # biased\n",
        "# var2 = (1/(n2)) * np.sum( (teamrainbow - avg2 ) **2) # biased\n",
        "\n",
        "print(\"\\nTeam Choco variance:\", var1)\n",
        "print (\"\\nTeam Rainbow variance:\", var2)\n",
        "\n",
        "print(\"\\nAs we can see, Team Choco has lower variance than Team Rainbow.\")\n",
        "\n",
        "print(\"In such cases, it might be better to provide 2 different solutions for the two distinct groups, instead of providing 1 solution based on the average and make both unhappy :(\")\n",
        "print(\"Additionally, Rainbow team members could be provided with unique solutions, individually, given how unique they are :)\")\n"
      ],
      "metadata": {
        "colab": {
          "base_uri": "https://localhost:8080/"
        },
        "id": "Xqd2Vfj8-Nm5",
        "outputId": "ff9c4cae-ab0c-4b6f-acb5-024a91322ae7"
      },
      "execution_count": null,
      "outputs": [
        {
          "output_type": "stream",
          "name": "stdout",
          "text": [
            "Here's a bunch of numbers. They represent Team Choco. They like chocolate.\n",
            "[-3, -2, -1, 1, 2, 3, 5, 5]\n",
            "\n",
            "Here's their average, via np.mean(teambros)\n",
            "1.25\n",
            "\n",
            "Here. Have a few more numbers. These represent Team Rainbow. They like many things, like smoothies, slushies, bubble tea, but not chocolate.\n",
            "[-30, -20, -10, 10, 20, 30, 5, 5]\n",
            "\n",
            "Here's their average, via np.sum(teamdivas)/n (n is the number of team members))\n",
            "1.25\n",
            "\n",
            "As you can see, even though their average is the same, their distribution, likes, etc is very different.\n",
            "1.25\n",
            "Even if these two teams were merged into one, their average would not change (1.25).\n",
            "I'm also sure you can tell it is unlikely they would get along...\n",
            "Averages are pretty nice, but sometimes they are just not the best was to describe a population or situation...\n",
            "To deal with this kind of issue, sometimes it helps to quantify the distribution of groups, before deciding what to do.\n",
            "In NumPy, this can be done with the variance function: np.var()\n",
            "\n",
            "Team Choco variance: 9.357142857142858\n",
            "\n",
            "Team Rainbow variance: 405.35714285714283\n",
            "\n",
            "As we can see, Team Choco has lower variance than Team Rainbow.\n",
            "In such cases, it might be better to provide 2 different solutions for the two distinct groups, instead of providing 1 solution based on the average and make both unhappy :(\n",
            "Additionally, Rainbow team members could be provided with unique solutions, individually, given how unique they are :)\n"
          ]
        }
      ]
    },
    {
      "cell_type": "markdown",
      "source": [
        "#Sampling"
      ],
      "metadata": {
        "id": "u9x-dU3fOFkK"
      }
    },
    {
      "cell_type": "code",
      "source": [
        "#@title Random Sampling > NumPy\n",
        "\n",
        "# Sampling is important to train AI.\n",
        "# Feeding the AI a mean might be insuficient to train the model, as there is variability in populations. That is, a member of the population might not match the average.\n",
        "# Let's say store on our AI model that the average size of cats is 40 centimeters.\n",
        "# If the AI detects a cat with a different size, it might not recognize adequately, because it was not trained to recognize this variability.\n",
        "# For this reason, it is important to train the AI with more data other than the average, like providing samples.\n",
        "# Here is how to provide sampling.\n",
        "\n",
        "import numpy as np\n",
        "import matplotlib.pyplot as ploti\n",
        "\n",
        "pop1 = [7,-5,9,1,12,4,0,-4,8,-2,6,10,-9,-7,3]\n",
        "#pop1 = np.random.randint(25, size=10) #random population\n",
        "n1 = len(pop1)\n",
        "popavg1 = np.mean(pop1)\n",
        "\n",
        "# Sample Function\n",
        "sample1 = np.random.choice(pop1, size=5, replace=False) #replace=False prevents resampling the same element\n",
        "\n",
        "print(\"\\nPopulation:\")\n",
        "print(pop1)\n",
        "\n",
        "# Compare sample with the average\n",
        "print(\"\\nLet's take a random sample and compare it with the population average...\")\n",
        "print(\"Random Sample:\", sample1)\n",
        "print(\"Population Average:\", popavg1)\n",
        "\n",
        "# Compare population average with sample average\n",
        "sampleavg1 = np.mean(sample1)\n",
        "print(\"\\nNow lets compare the population average with the sample average to see how representative the sample average is of the population average...\")\n",
        "print(\"Population Average:\", popavg1)\n",
        "print(\"Sample Average:\", sampleavg1)\n",
        "\n",
        "print(\"\\nAs you can observe, there are discrepancies between them. That is why it is important to provide the AI with more data to train it better.\")"
      ],
      "metadata": {
        "colab": {
          "base_uri": "https://localhost:8080/"
        },
        "collapsed": true,
        "id": "gsghn5uPOJXB",
        "outputId": "80bb8970-b602-4736-b96e-1cf8c0e0008c"
      },
      "execution_count": null,
      "outputs": [
        {
          "output_type": "stream",
          "name": "stdout",
          "text": [
            "\n",
            "Population:\n",
            "[7, -5, 9, 1, 12, 4, 0, -4, 8, -2, 6, 10, -9, -7, 3]\n",
            "\n",
            "Let's take a random sample and compare it with the population average...\n",
            "Random Sample: [ 1 -9  9 -5 -4]\n",
            "Population Average: 2.2\n",
            "\n",
            "Now lets compare the population average with the sample average to see how representative the sample average is of the population average...\n",
            "Population Average: 2.2\n",
            "Sample Average: -1.6\n",
            "\n",
            "As you can observe, there are discrepancies between them. That is why it is important to provide the AI with more data to train it better.\n"
          ]
        }
      ]
    },
    {
      "cell_type": "markdown",
      "source": [
        "# Min/Max"
      ],
      "metadata": {
        "id": "BPwEhQX3ohdy"
      }
    },
    {
      "cell_type": "code",
      "source": [
        "#@title Min/Max > NumPy\n",
        "\n",
        "import numpy as np\n",
        "\n",
        "\"\"\"\n",
        "Similar to native Python:\n",
        "numpy.min() returns the lowest value found\n",
        "numpy.max() returns the highest value found\n",
        "\n",
        "Additionally:\n",
        "numpy.argmin returns the argument (location, position or element) where the lowest value was found.\n",
        "numpy.argmax returns the argument (location, position or element) where the highest value was found\n",
        "\"\"\"\n",
        "\n",
        "#probability = np.array ([1, 40, 2, -3])\n",
        "arr1 = np.random.randint(-9, 10, size = 6)\n",
        "print(\"Do you like numbers? Well, here is a bunch of random numbers. Hope you like them :)\")\n",
        "print(arr1)\n",
        "print(\"\\nOur targets are the biggest and the lowest numbers.\")\n",
        "print(\"Luckily, there are easy ways to find them, along with their location, without much effort.\")\n",
        "\n",
        "#np.min()\n",
        "minval = np.min(arr1)\n",
        "print(\"np.min() finds the lowest value:\", minval)\n",
        "\n",
        "#np.argmin()\n",
        "minloc = np.argmin(arr1)\n",
        "print(f\"np.argmin() locates {arr1[minloc]} at index: {minloc}\")\n",
        "\n",
        "#np.max()\n",
        "maxval = np.max(arr1)\n",
        "print(\"np.max() finds the highest value:\", maxval)\n",
        "\n",
        "#np.argmax()\n",
        "maxloc = np.argmax(arr1)\n",
        "print(f\"np.max() locates {arr1[maxloc]} at index: {maxloc}\")\n",
        "\n",
        "arr1 = np.random.randint(-100, 100, size=(3,3))\n",
        "print(\"\\nNow, let's experiment with a random 3x3 matrix\")\n",
        "print(arr1)\n",
        "\n",
        "print(\"\\nWe can find the highest value across the entire matrix or even across rows or columns\")\n",
        "maxmat = np.max(arr1)\n",
        "maxrow = np.max(arr1, axis=1)\n",
        "maxcol = np.max(arr1, axis=0)\n",
        "print(f\"The highest value in the matrix was: {maxmat}, located at index {np.argmax(arr1)}.\")\n",
        "print(\"The highest value in each row was:\", maxrow)\n",
        "print(\"The highest value in each column was:\", maxcol)\n"
      ],
      "metadata": {
        "colab": {
          "base_uri": "https://localhost:8080/"
        },
        "outputId": "3f3ccded-dbaa-40cc-d8e5-a4edeaf5e9e7",
        "id": "V_WN_XoS6tpZ",
        "cellView": "form",
        "collapsed": true
      },
      "execution_count": null,
      "outputs": [
        {
          "output_type": "stream",
          "name": "stdout",
          "text": [
            "Do you like numbers? Well, here is a bunch of random numbers. Hope you like them :)\n",
            "[ 5  9  6  5  4 -3]\n",
            "\n",
            "Our targets are the biggest and the lowest numbers.\n",
            "Luckily, there are easy ways to find them, along with their location, without much effort.\n",
            "np.min() finds the lowest value: -3\n",
            "np.argmin() locates -3 at index: 5\n",
            "np.max() finds the highest value: 9\n",
            "np.max() locates 9 at index: 1\n",
            "\n",
            "Now, let's experiment with a random 3x3 matrix\n",
            "[[-84 -29 -57]\n",
            " [ 71  88 -41]\n",
            " [ 18 -83 -39]]\n",
            "\n",
            "We can find the highest value across the entire matrix or even across rows or columns\n",
            "The highest value in the matrix was: 88, located at index 4.\n",
            "The highest value in each row was: [-29  88  18]\n",
            "The highest value in each column was: [ 71  88 -39]\n"
          ]
        }
      ]
    },
    {
      "cell_type": "code",
      "source": [
        "#@title Min/Max PyTorch\n",
        "\n",
        "import torch\n",
        "\n",
        "tvector1 = torch.randint(10, size=(1,5))\n",
        "print(\"Here are some cupcakes.\")\n",
        "print(tvector1)\n",
        "\n",
        "print(\"\\nThey have different sizes. So let's pick the biggest one!\")\n",
        "print(f\"The biggest one is {torch.max(tvector1)} cm high!\")\n",
        "\n",
        "tmatrix1 = torch.randint(10, size=(3,3))\n",
        "\n",
        "print(\"\\nHere is a fresh PyTorch matrix, freshly baked :)\")\n",
        "print(tmatrix1)\n",
        "\n",
        "print(\"\\nLet's find out what the biggest tensor pieces are...\")\n",
        "\n",
        "tbigpieceval = torch.max(tmatrix1)\n",
        "tbigpieceloc = torch.argmax(tmatrix1)\n",
        "print(f\"Wow! The biggest piece was {tbigpieceval}! Found at index {tbigpieceloc}\")\n",
        "\n",
        "maxrow = torch.max(tmatrix1, axis=1)\n",
        "print(f\"\\nThe biggest piece in each row was: {maxrow.values}\")\n",
        "maxcol = torch.max(tmatrix1, axis=0)\n",
        "print(f\"\\nThe biggest piece in each column was: {maxcol.values}\")\n",
        "\n",
        "\n"
      ],
      "metadata": {
        "colab": {
          "base_uri": "https://localhost:8080/"
        },
        "id": "5zDoq8XOmo5d",
        "outputId": "5dbe27b4-26b6-46ff-f286-68f6dc3a025c",
        "collapsed": true,
        "cellView": "form"
      },
      "execution_count": null,
      "outputs": [
        {
          "output_type": "stream",
          "name": "stdout",
          "text": [
            "Here are some cupcakes.\n",
            "tensor([[4, 2, 8, 2, 4]])\n",
            "\n",
            "They have different sizes. So let's pick the biggest one!\n",
            "The biggest one is 8 cm high!\n",
            "\n",
            "Here is a fresh PyTorch matrix, freshly baked :)\n",
            "tensor([[0, 8, 3],\n",
            "        [3, 3, 0],\n",
            "        [4, 4, 8]])\n",
            "\n",
            "Let's find out what the biggest tensor pieces are...\n",
            "Wow! The biggest piece was 8! Found at index 1\n",
            "\n",
            "The biggest piece in each row was: tensor([8, 3, 8])\n",
            "\n",
            "The biggest piece in each column was: tensor([4, 8, 8])\n"
          ]
        }
      ]
    },
    {
      "cell_type": "code",
      "source": [
        "#@title Min/Max Praxis > Image Prediciton\n",
        "\"\"\"\n",
        "In an image recognition algorithms, max() could be used to return the highest reckognized probability found and use that highest value as the answer.\n",
        "In this case, the AI is presented with a picture of a cat.\n",
        "After processing the picture, the AI generates a list of hypotheses of what the picture could be and the respective probability of each hypotheses, like so:\n",
        "0.6 cat, 0.2 dog, 0.1 broom, 0.05 hamster, 0.05 fox.\n",
        "Using the min/max functions, the highest value could be fetched and the associated labeled.\n",
        "There are other ways this could work. Let's try one.\n",
        "\"\"\"\n",
        "hypothesis = {\n",
        "    \"Cat\": [60],\n",
        "    \"Dog\": [20],\n",
        "    \"Broom\": [10],\n",
        "    \"Hamster\": [5],\n",
        "    \"Fox\": [5],\n",
        "}\n",
        "\n",
        "prediction = max(hypothesis, key=lambda item: max(hypothesis[item]))\n",
        "\n",
        "i=0\n",
        "while i < len(hypothesis):\n",
        "  print(f\"{list(hypothesis.keys())[i]}: {list(hypothesis.values())[i]}%\")\n",
        "  i += 1\n",
        "\n",
        "print(f\"\\nThe algorithm predicts that it has been presented with an image of a {prediction.lower()}.\")\n"
      ],
      "metadata": {
        "id": "-QyYLVolIWC3",
        "colab": {
          "base_uri": "https://localhost:8080/"
        },
        "collapsed": true,
        "cellView": "form",
        "outputId": "a85af161-5db5-43b7-f535-f622197e5d90"
      },
      "execution_count": null,
      "outputs": [
        {
          "output_type": "stream",
          "name": "stdout",
          "text": [
            "Cat: [60]%\n",
            "Dog: [20]%\n",
            "Broom: [10]%\n",
            "Hamster: [5]%\n",
            "Fox: [5]%\n",
            "\n",
            "The algorithm predicts that it has been presented with an image of a cat.\n"
          ]
        }
      ]
    },
    {
      "cell_type": "code",
      "source": [
        "#@title Min/Max Praxis > Vacation List\n",
        "\"\"\"\n",
        "#Let's try something else...\n",
        "In this example, we want to go on vacations.\n",
        "Now, I don't know about you, but I really like warm sunny beaches.\n",
        "So, why not set up something that will help me decide, which beach to go?\n",
        "Here, I generated a dictionary with key:value(s) pairs.\n",
        "The text on the left is where the beaches are located.\n",
        "The number on the left is the average temperature during Summer.\n",
        "The number on the right is the average temperature during Winter.\n",
        "I simply want to go to the warmest beach and will use Python to help me with that.\n",
        "\"\"\"\n",
        "beaches = {\n",
        "    \"Bahia\": [16, 24],\n",
        "    \"Bali\": [26, 24],\n",
        "    \"Carcavelos\": [24, 9],\n",
        "    \"Goa\": [27, 26],\n",
        "    \"Ostsee\": [17, -1],\n",
        "    \"Tenerife\": [25, 19]\n",
        "}\n",
        "print(\"Here is a list of locations with nice beaches, along with their average temperatures during Summer and Winter:\\n\")\n",
        "#print(len(beaches))\n",
        "\n",
        "i=0\n",
        "while i < len(beaches):\n",
        "  print(list(beaches.keys())[i], list(beaches.values())[i])\n",
        "  i += 1\n",
        "\n",
        "warmestbeach = max(beaches, key=lambda beach: max(beaches[beach]))\n",
        "print(f\"\\nThe warmest beach is in {warmestbeach}, with temperatures: {beaches[warmestbeach]}\")\n",
        "\n",
        "\n"
      ],
      "metadata": {
        "colab": {
          "base_uri": "https://localhost:8080/"
        },
        "cellView": "form",
        "collapsed": true,
        "id": "AVn5ErdBOEs5",
        "outputId": "43a71ae9-e77a-417e-b306-6fe00fb1cc6c"
      },
      "execution_count": null,
      "outputs": [
        {
          "output_type": "stream",
          "name": "stdout",
          "text": [
            "Here is a list of locations with nice beaches, along with their average temperatures during Summer and Winter:\n",
            "\n",
            "Bahia [16, 24]\n",
            "Bali [26, 24]\n",
            "Carcavelos [24, 9]\n",
            "Goa [27, 26]\n",
            "Ostsee [17, -1]\n",
            "Tenerife [25, 19]\n",
            "\n",
            "The warmest beach is in Goa, with temperatures: [27, 26]\n"
          ]
        }
      ]
    },
    {
      "cell_type": "code",
      "source": [
        "#@title Min/Max Praxis > AutoEquip\n",
        "\"\"\"\n",
        "I also happen to like RPGs.\n",
        "So, I guess you will have to bear with me and my new algorithm to decide what arms I should use on my next adventure :)\n",
        "\"\"\"\n",
        "# Creating nested dictionaries\n",
        "arms1: dict = {\n",
        "    \"Daneaxe\": {\n",
        "        \"damage\": [50],\n",
        "        \"defense\": [1],\n",
        "        \"twohanded\": [True]\n",
        "    },\n",
        "    \"Katana\": {\n",
        "        \"damage\": [40],\n",
        "        \"defense\": [2],\n",
        "        \"twohanded\": [True]\n",
        "    },\n",
        "    \"Longbow\": {\n",
        "        \"damage\": [35],\n",
        "        \"defense\": [0],\n",
        "        \"twohanded\": [True]\n",
        "    },\n",
        "    \"Dirk\": {\n",
        "        \"damage\": [5],\n",
        "        \"defense\": [2],\n",
        "        \"twohanded\": [False]\n",
        "    },\n",
        "    \"Falx\": {\n",
        "        \"damage\": [6],\n",
        "        \"defense\": [2],\n",
        "        \"twohanded\": [False]\n",
        "    },\n",
        "    \"Shield\": {\n",
        "        \"damage\": [1],\n",
        "        \"defense\": [10],\n",
        "        \"twohanded\": [False]\n",
        "    }\n",
        "}\n",
        "\n",
        "print(\"Equipment List:\")\n",
        "\n",
        "i=0\n",
        "while i < len(arms1):\n",
        "  print(list(arms1.keys())[i], list(arms1.values())[i])\n",
        "  i += 1\n",
        "\n",
        "#autoequip offensive build\n",
        "autoequip1 = max(arms1, key=lambda damagy: max(arms1[damagy][\"damage\"]))\n",
        "print(\"\\nEquipping most damaging arm:\", autoequip1)\n",
        "\n",
        "#autoequip after upgrade\n",
        "arms1[\"Katana\"][\"damage\"] = [55]\n",
        "print(\"Upgrading katana...\")\n",
        "\n",
        "print(\"\\nUpdated Equipment List:\")\n",
        "i=0\n",
        "while i < len(arms1):\n",
        "  print(list(arms1.keys())[i], list(arms1.values())[i])\n",
        "  i += 1\n",
        "\n",
        "autoequip1 = max(arms1, key=lambda attack: max(arms1[attack][\"damage\"]))\n",
        "print(\"\\nEquipping best offensive weapon:\", autoequip1)\n"
      ],
      "metadata": {
        "colab": {
          "base_uri": "https://localhost:8080/"
        },
        "id": "A06jZLc2fALW",
        "outputId": "102f9058-204e-4033-8b24-a4e3999eac6e",
        "cellView": "form",
        "collapsed": true
      },
      "execution_count": null,
      "outputs": [
        {
          "output_type": "stream",
          "name": "stdout",
          "text": [
            "Equipment List:\n",
            "Daneaxe {'damage': [50], 'defense': [1], 'twohanded': [True]}\n",
            "Katana {'damage': [40], 'defense': [2], 'twohanded': [True]}\n",
            "Longbow {'damage': [35], 'defense': [0], 'twohanded': [True]}\n",
            "Dirk {'damage': [5], 'defense': [2], 'twohanded': [False]}\n",
            "Falx {'damage': [6], 'defense': [2], 'twohanded': [False]}\n",
            "Shield {'damage': [1], 'defense': [10], 'twohanded': [False]}\n",
            "\n",
            "Equipping most damaging arm: Daneaxe\n",
            "Upgrading katana...\n",
            "\n",
            "Updated Equipment List:\n",
            "Daneaxe {'damage': [50], 'defense': [1], 'twohanded': [True]}\n",
            "Katana {'damage': [55], 'defense': [2], 'twohanded': [True]}\n",
            "Longbow {'damage': [35], 'defense': [0], 'twohanded': [True]}\n",
            "Dirk {'damage': [5], 'defense': [2], 'twohanded': [False]}\n",
            "Falx {'damage': [6], 'defense': [2], 'twohanded': [False]}\n",
            "Shield {'damage': [1], 'defense': [10], 'twohanded': [False]}\n",
            "\n",
            "Equipping best offensive weapon: Katana\n"
          ]
        }
      ]
    },
    {
      "cell_type": "markdown",
      "source": [
        "#Pi/π"
      ],
      "metadata": {
        "id": "RHSuIUkOsQ3K"
      }
    },
    {
      "cell_type": "code",
      "source": [
        "#@title Pi/π > NumPy, Math\n",
        "\n",
        "#import numpy as np # don't import as np for learning purposes\n",
        "import numpy\n",
        "import math\n",
        "\n",
        "print(\"Even though Python lacks the constant π (pi), there are Python libraries that include it, like NumPy or Math.\")\n",
        "print(\"In numpy, it stored as numpy.pi.  π =\", numpy.pi, type(numpy.pi))\n",
        "print(\"In math, it is stored as math.pi. π =\", math.pi, type(math.pi))\n",
        "# print(\"Native has no π :(\", pi)\n",
        "\n",
        "print(\"\\nPi is useful to calculate things, like a circle's radius, diameter, circumference.\")\n",
        "\n",
        "# Radius\n",
        "print(\"\\nTo calculate the radius:\")\n",
        "circumference = 5 # Lets say we have a circle with 5cm circumference.\n",
        "print(f\"Numpy: A circle with a circumference of {circumference} cm has a radius of: {circumference / (2 * numpy.pi)} cm. (circumference / (2 * numpy.pi))\")\n",
        "print(f\" Math: A circle with a circumference of {circumference} cm has a radius of: {circumference / (2 * math.pi)} cm. (circumference / (2 * math.pi))\")\n",
        "\n",
        "# Diameter\n",
        "print(\"\\nTo calculate the diameter:\")\n",
        "circumference = 5 # Lets say we have a circle with 5cm circumference, again. Might want to change value, later.\n",
        "print(f\"Numpy: A circle with a circumference of {circumference} cm has a diameter of: {circumference / numpy.pi} cm. (perimeter / numpy.pi)\")\n",
        "print(f\" Math: A circle with a circumference of {circumference} cm has a diameter of: {circumference / math.pi} cm. (perimeter / math.pi)\")\n",
        "\n",
        "# Circumference/Perimeter\n",
        "print(\"\\nTo calculate the circumference or perimeter of a circle:\")\n",
        "radius = 5 # Lets say we have a circle with 5cm radius.\n",
        "print(f\"Numpy: A circle with a radius of {radius} cm has a circumference of: {2 * numpy.pi * radius} cm. (2 * numpy.pi * radius)\")\n",
        "print(f\" Math: A circle with a radius of {radius} cm has a circumference of: {2 * numpy.pi * radius} cm. (2 * math.pi * radius)\")\n",
        "\n",
        "# Area\n",
        "print(\"\\nTo calculate the area:\")\n",
        "radius = 5 # Lets say we have a circle with 5cm radius, again. Might want to change value, later\n",
        "area = math.pi * radius ** 2\n",
        "\n",
        "print( \"Numpy: A circle with a radius of\", radius, \"cm has an area of:\", area, \"cm2.\")\n",
        "area = np.pi * radius ** 2\n",
        "print( \" Math: A circle with a radius of\", radius, \"cm has an area of:\", area, \"cm2.\")\n",
        "\n",
        "print()\n",
        "# To calculate the area of several circles in an array/list\n",
        "radii = np.array([1,2,3,4,5])\n",
        "print(\"Here we have\", len(radii), \"circles. Each with a radius of:\")\n",
        "# print(radii) # with brackets\n",
        "#print(*radii, sep=\"cm, \", end = \"cm\") # without brackets\n",
        "for i in range(len(radii)):\n",
        "    print(f\"Circle {i+1}: {radii[i]} cm.\")\n",
        "\n",
        "print(\"\\nHere is the calculated area for each circle:\")\n",
        "area = np.pi * radii ** 2\n",
        "#print(np.pi * radii ** 2 ) # Result in ugly brackets and without using area variable\n",
        "#print(*area, sep = \", \") # Result separated by commas in a single line\n",
        "\n",
        "for i in range(len(radii)):\n",
        "    print(f\"Circle {i+1}> Radius: {radii[i]} cm. Area: {area[i]} cm2\")\n"
      ],
      "metadata": {
        "id": "LMQSAL9QEJ9U",
        "colab": {
          "base_uri": "https://localhost:8080/"
        },
        "outputId": "ffc39e15-4cb3-4226-a6a2-b13b3e721df5",
        "collapsed": true
      },
      "execution_count": null,
      "outputs": [
        {
          "output_type": "stream",
          "name": "stdout",
          "text": [
            "Even though Python lacks the constant π (pi), there are Python libraries that include it, like NumPy or Math.\n",
            "In numpy, it stored as numpy.pi.  π = 3.141592653589793 <class 'float'>\n",
            "In math, it is stored as math.pi. π = 3.141592653589793 <class 'float'>\n",
            "\n",
            "Pi is useful to calculate things, like a circle's radius, diameter, circumference.\n",
            "\n",
            "To calculate the radius:\n",
            "Numpy: A circle with a circumference of 5 cm has a radius of: 0.7957747154594768 cm. (circumference / (2 * numpy.pi))\n",
            " Math: A circle with a circumference of 5 cm has a radius of: 0.7957747154594768 cm. (circumference / (2 * math.pi))\n",
            "\n",
            "To calculate the diameter:\n",
            "Numpy: A circle with a circumference of 5 cm has a diameter of: 1.5915494309189535 cm. (perimeter / numpy.pi)\n",
            " Math: A circle with a circumference of 5 cm has a diameter of: 1.5915494309189535 cm. (perimeter / math.pi)\n",
            "\n",
            "To calculate the circumference or perimeter of a circle:\n",
            "Numpy: A circle with a radius of 5 cm has a circumference of: 31.41592653589793 cm. (2 * numpy.pi * radius)\n",
            " Math: A circle with a radius of 5 cm has a circumference of: 31.41592653589793 cm. (2 * math.pi * radius)\n",
            "\n",
            "To calculate the area:\n",
            "Numpy: A circle with a radius of 5 cm has an area of: 78.53981633974483 cm2.\n",
            " Math: A circle with a radius of 5 cm has an area of: 78.53981633974483 cm2.\n",
            "\n",
            "Here we have 5 circles. Each with a radius of:\n",
            "Circle 1: 1 cm.\n",
            "Circle 2: 2 cm.\n",
            "Circle 3: 3 cm.\n",
            "Circle 4: 4 cm.\n",
            "Circle 5: 5 cm.\n",
            "\n",
            "Here is the calculated area for each circle:\n",
            "Circle 1> Radius: 1 cm. Area: 3.141592653589793 cm2\n",
            "Circle 2> Radius: 2 cm. Area: 12.566370614359172 cm2\n",
            "Circle 3> Radius: 3 cm. Area: 28.274333882308138 cm2\n",
            "Circle 4> Radius: 4 cm. Area: 50.26548245743669 cm2\n",
            "Circle 5> Radius: 5 cm. Area: 78.53981633974483 cm2\n"
          ]
        }
      ]
    },
    {
      "cell_type": "markdown",
      "source": [
        "#(Re)Shaping Algebraic Objects"
      ],
      "metadata": {
        "id": "CUYe5l5HrBir"
      }
    },
    {
      "cell_type": "code",
      "source": [
        "#@title Arrays > NumPy\n",
        "\n",
        "import numpy as np\n",
        "\n",
        "print(\"In NumPy, you can create scalars, vectors, matrices and tensors as n-dimendional arrays (class type ndarray), up to 32 dimensions.\")\n",
        "\n",
        "print(\"\\nHere we have 4 variables: scalar2, vector2, matrix2, tensor2.\")\n",
        "\n",
        "scalar2 = np.array( 5 )\n",
        "print(\"\\n1. scalar2:\")\n",
        "print(scalar2)\n",
        "print(f\"{type(scalar2)}. Dimensions: {scalar2.ndim}-dimensional array. Shape: {scalar2.shape}\")\n",
        "\n",
        "\n",
        "#vector2 = np.array([1, 2, 3, 4])\n",
        "vector2 = np.arange(1,5,1) # create an 1D array of evenly spaced values. 1st argument is the lower value. 2nd argument is the excluded upper value. 3rd argument is the step.\n",
        "print(\"\\n2. vector2:\")\n",
        "print(vector2)\n",
        "print(f\"{type(vector2)}. Dimensions: {vector2.ndim}-dimensional array. Shape: {vector2.shape}\")\n",
        "\n",
        "matrix2 = np.array([\n",
        "    [1, 2, 3, 4],\n",
        "    [5, 6, 7, 8]])\n",
        "print(\"\\n3. matrix2:\")\n",
        "print(matrix2)\n",
        "print(f\"{type(matrix2)}. Dimensions: {matrix2.ndim}-dimensional array. Shape: {matrix2.shape}\")\n",
        "\n",
        "tensor2 = np.array([\n",
        "    [[1,2,3,4],\n",
        "     [5,6,7,8]],\n",
        "\n",
        "    [[9,10,11,12],\n",
        "     [13,14,15,16]]])\n",
        "print(\"\\n4. tensor2:\")\n",
        "print(tensor2)\n",
        "print(f\"{type(tensor2)}. Dimensions: {tensor2.ndim}-dimensional array. Shape: {tensor2.shape}\")\n"
      ],
      "metadata": {
        "colab": {
          "base_uri": "https://localhost:8080/"
        },
        "collapsed": true,
        "id": "TXm-lKcg6_cu",
        "outputId": "6596b145-fda4-48ac-e7aa-5264a384197b",
        "cellView": "form"
      },
      "execution_count": null,
      "outputs": [
        {
          "output_type": "stream",
          "name": "stdout",
          "text": [
            "In NumPy, you can create scalars, vectors, matrices and tensors as n-dimendional arrays (class type ndarray), up to 32 dimensions.\n",
            "\n",
            "Here we have 4 variables: scalar2, vector2, matrix2, tensor2.\n",
            "\n",
            "1. scalar2:\n",
            "5\n",
            "<class 'numpy.ndarray'>. Dimensions: 0-dimensional array. Shape: ()\n",
            "\n",
            "2. vector2:\n",
            "[1 2 3 4]\n",
            "<class 'numpy.ndarray'>. Dimensions: 1-dimensional array. Shape: (4,)\n",
            "\n",
            "3. matrix2:\n",
            "[[1 2 3 4]\n",
            " [5 6 7 8]]\n",
            "<class 'numpy.ndarray'>. Dimensions: 2-dimensional array. Shape: (2, 4)\n",
            "\n",
            "4. tensor2:\n",
            "[[[ 1  2  3  4]\n",
            "  [ 5  6  7  8]]\n",
            "\n",
            " [[ 9 10 11 12]\n",
            "  [13 14 15 16]]]\n",
            "<class 'numpy.ndarray'>. Dimensions: 3-dimensional array. Shape: (2, 2, 4)\n"
          ]
        }
      ]
    },
    {
      "cell_type": "code",
      "source": [
        "#@title (Re)shaping Arrays > NumPy\n",
        "\n",
        "import numpy as np\n",
        "\n",
        "vector1 = np.arange(5)\n",
        "\n",
        "print(\"Here is a 1D array\")\n",
        "print(vector1)\n",
        "\n",
        "# Row into column\n",
        "print(\"\\nNumPy has no 1D columns in NumPy, but there are ways to go around this shortcoming by turning 1D rows into 2D 'column'...\")\n",
        "print(\"Here are a few ways\")\n",
        "print(\"\\n1. via vector1.reshape(-1,1)\"), print(vector1.reshape(-1, 1)) #-1 lets Python decide how many rows/columns/layers/etc. It will fit as many as it can.\n",
        "print(vector1.reshape(-1, 1).shape)\n",
        "\n",
        "print(\"\\n2. via vector1[:, None]\"), print(vector1[:, None])\n",
        "print(vector1[:, None].shape)\n",
        "\n",
        "print(\"\\n3. via vector1[:, np.newaxis:\"), print(vector1[:, np.newaxis])\n",
        "print(vector1[:, np.newaxis].shape)\n",
        "\n",
        "# This is similar to transposing a (1D) row into a (2D) column.\n"
      ],
      "metadata": {
        "colab": {
          "base_uri": "https://localhost:8080/"
        },
        "cellView": "form",
        "collapsed": true,
        "id": "mRV5ft95X5S1",
        "outputId": "a6865ab7-8769-4998-ace3-4217a7e00050"
      },
      "execution_count": null,
      "outputs": [
        {
          "output_type": "stream",
          "name": "stdout",
          "text": [
            "Here is a 1D array\n",
            "[0 1 2 3 4]\n",
            "\n",
            "NumPy has no 1D columns in NumPy, but there are ways to go around this shortcoming by turning 1D rows into 2D 'column'...\n",
            "Here are a few ways\n",
            "\n",
            "1. via vector1.reshape(-1,1)\n",
            "[[0]\n",
            " [1]\n",
            " [2]\n",
            " [3]\n",
            " [4]]\n",
            "(5, 1)\n",
            "\n",
            "2. via vector1[:, None]\n",
            "[[0]\n",
            " [1]\n",
            " [2]\n",
            " [3]\n",
            " [4]]\n",
            "(5, 1)\n",
            "\n",
            "3. via vector1[:, np.newaxis:\n",
            "[[0]\n",
            " [1]\n",
            " [2]\n",
            " [3]\n",
            " [4]]\n",
            "(5, 1)\n"
          ]
        }
      ]
    },
    {
      "cell_type": "code",
      "source": [
        "#@title Transposition > NumPy > Vectors\n",
        "\n",
        "import numpy as np\n",
        "\n",
        "\n",
        "print(\"\\nIn NumPy, transposing a vector (1D array) results in the same vector.\")\n",
        "vector1 = np.array([ 1, 2, 3, 4, 5])\n",
        "print(\"Untransposed vector:\" , vector1)\n",
        "print(\"Attempting to transpose via vector1.T:\", np.transpose(vector1))\n",
        "print(\"As we can see, it does not transpose a row vector into a column vector.\")\n",
        "\n",
        "print(\"\\nThere are different ways to go around this.\")\n",
        "\n",
        "print(\"The simplest one is to create the vector, as a 2D array, instead of a 1D array:\")\n",
        "print(\"So, instead of:\", vector1)\n",
        "vector1 = np.array([ [1,2,3,4,5]]) # instead of vector1 = np.array ([1, 2, 3, 4])\n",
        "print(\"Insert extra brackets:\", vector1)\n",
        "\n",
        "print(\"\\nAfter giving it an extra dimension, it can be transposed:\")\n",
        "print(\"Transposing via vector1.T:\"), print(vector1.T)\n",
        "print(\"Transposing via np.transpose(vector1):\"), print(np.transpose(vector1))\n",
        "\n",
        "vector1 = np.array([1,2,3,4,5]) # restore vector1\n",
        "\n",
        "print(\"\\nLets see what happens, if we transpose vector1, now.\")\n",
        "print(\"2D vector1:\")\n",
        "print(vector1)\n",
        "print(vector1.shape)\n",
        "\n",
        "print(\"\\nvector1.T:\")\n",
        "print(vector1.T)\n",
        "print(vector1.T.shape)\n",
        "\n",
        "vector1 = np.array([1,2,3,4,5]) # restore vector1\n",
        "\n",
        "matrix1 = np.array([\n",
        "    [1, 2, 3, 4],\n",
        "    [5, 6, 7, 8]])\n",
        "print(\"\\nNow, lets take a look at a 2D array...\")\n",
        "print(matrix1)\n",
        "print(matrix1.shape)\n",
        "print(\"\\nTrying this with on a 2D array, also turns it into a 3D array:\")\n",
        "print(\"matrix2[:, None]\")\n",
        "print(matrix1[:, None])\n",
        "print(matrix1[:, None].shape)\n"
      ],
      "metadata": {
        "id": "dJ01TlBNazmF",
        "outputId": "9831fe2b-0268-45d0-c428-255b5a816f78",
        "colab": {
          "base_uri": "https://localhost:8080/"
        },
        "collapsed": true,
        "cellView": "form"
      },
      "execution_count": null,
      "outputs": [
        {
          "output_type": "stream",
          "name": "stdout",
          "text": [
            "\n",
            "In NumPy, transposing a vector (1D array) results in the same vector.\n",
            "Untransposed vector: [1 2 3 4 5]\n",
            "Attempting to transpose via vector1.T: [1 2 3 4 5]\n",
            "As we can see, it does not transpose a row vector into a column vector.\n",
            "\n",
            "There are different ways to go around this.\n",
            "The simplest one is to create the vector, as a 2D array, instead of a 1D array:\n",
            "So, instead of: [1 2 3 4 5]\n",
            "Insert extra brackets: [[1 2 3 4 5]]\n",
            "\n",
            "After giving it an extra dimension, it can be transposed:\n",
            "Transposing via vector1.T:\n",
            "[[1]\n",
            " [2]\n",
            " [3]\n",
            " [4]\n",
            " [5]]\n",
            "Transposing via np.transpose(vector1):\n",
            "[[1]\n",
            " [2]\n",
            " [3]\n",
            " [4]\n",
            " [5]]\n",
            "\n",
            "Transposing via vector1.reshape(-1,1)\n",
            "[[1]\n",
            " [2]\n",
            " [3]\n",
            " [4]\n",
            " [5]]\n",
            "(5, 1)\n",
            "\n",
            "Other ways to reshape vector1 into a column vector:\n",
            "Transposing via vector1[:, None]\n",
            "[[1]\n",
            " [2]\n",
            " [3]\n",
            " [4]\n",
            " [5]]\n",
            "(5, 1)\n",
            "\n",
            "Transposing via vector1[:, np.newaxis:\n",
            "[[1]\n",
            " [2]\n",
            " [3]\n",
            " [4]\n",
            " [5]] (5, 1)\n",
            "However, this transforms the 1D (1-dimensional) array into a 2D array, as well:\n",
            "\n",
            "Also, repeating vector1[:2, None] twice does not transpose it back into a 1D array. Instead, it turns it into a 3D array.\n",
            "[[[1]]\n",
            "\n",
            " [[2]]\n",
            "\n",
            " [[3]]\n",
            "\n",
            " [[4]]\n",
            "\n",
            " [[5]]]\n",
            "(5, 1, 1) <class 'numpy.ndarray'>\n",
            "\n",
            "Lets see what happens, if we transpose vector1, now.\n",
            "2D vector1:\n",
            "[[1]\n",
            " [2]\n",
            " [3]\n",
            " [4]\n",
            " [5]]\n",
            "(5, 1)\n",
            "\n",
            "vector1.T:\n",
            "[[1 2 3 4 5]]\n",
            "(1, 5)\n",
            "\n",
            "Now, lets take a look at a 2D array...\n",
            "[[1 2 3 4]\n",
            " [5 6 7 8]]\n",
            "(2, 4)\n",
            "\n",
            "Trying this with on a 2D array, also turns it into a 3D array:\n",
            "matrix2[:, None]\n",
            "[[[1 2 3 4]]\n",
            "\n",
            " [[5 6 7 8]]]\n",
            "(2, 1, 4)\n"
          ]
        }
      ]
    },
    {
      "cell_type": "code",
      "source": [
        "#@title Transposition > NumPy > Matrices, Tensors...\n",
        "\n",
        "print(\"\\nIn NumPy, we can transpose matrices and tensors. For example, matrix2 can be transposed, using matrix2.T or numpy.transpose(matrix2)\")\n",
        "\n",
        "#matrix2 = matrix2.T\n",
        "print(\"\\nHere is matrix2 transposed (matrix2.T):\")\n",
        "print(matrix2.T)\n",
        "\n",
        "#matrix2 = matrix2.T.T\n",
        "print(\"\\nHere is matrix2 transposed back (matrix2.T.T):\")\n",
        "print(matrix2.T.T)\n",
        "\n",
        "# matrix2 = np.transpose(matrix2)\n",
        "print(\"\\nHere is matrix2 transposed with np.transpose(matrix2):\")\n",
        "print(np.transpose(matrix2))\n",
        "\n",
        "# Transposing tensors\n",
        "print(\"\\nHere is tensor2 transposed (tensor2.T):\")\n",
        "print(tensor2.T)\n",
        "print(tensor2.T.shape)\n"
      ],
      "metadata": {
        "id": "tnBGocsKSeEy",
        "outputId": "e255de6f-00c6-4fa5-ef27-1aa388c9819f",
        "colab": {
          "base_uri": "https://localhost:8080/"
        },
        "collapsed": true,
        "cellView": "form"
      },
      "execution_count": null,
      "outputs": [
        {
          "output_type": "stream",
          "name": "stdout",
          "text": [
            "\n",
            "In NumPy, we can transpose matrices and tensors. For example, matrix2 can be transposed, using matrix2.T or numpy.transpose(matrix2)\n",
            "\n",
            "Here is matrix2 transposed (matrix2.T):\n",
            "[[1 5]\n",
            " [2 6]\n",
            " [3 7]\n",
            " [4 8]]\n",
            "\n",
            "Here is matrix2 transposed back (matrix2.T.T):\n",
            "[[1 2 3 4]\n",
            " [5 6 7 8]]\n",
            "\n",
            "Here is matrix2 transposed with np.transpose(matrix2):\n",
            "[[1 5]\n",
            " [2 6]\n",
            " [3 7]\n",
            " [4 8]]\n",
            "\n",
            "Here is tensor2 transposed (tensor2.T):\n",
            "[[[ 1  9]\n",
            "  [ 5 13]]\n",
            "\n",
            " [[ 2 10]\n",
            "  [ 6 14]]\n",
            "\n",
            " [[ 3 11]\n",
            "  [ 7 15]]\n",
            "\n",
            " [[ 4 12]\n",
            "  [ 8 16]]]\n",
            "(4, 2, 2)\n"
          ]
        }
      ]
    },
    {
      "cell_type": "code",
      "source": [
        "#@title Tensors > PyTorch\n",
        "\n",
        "import torch\n",
        "\n",
        "print(\"In PyTorch, scalars, vectors and matrices can be created as tensors.\")\n",
        "\n",
        "scalar3 = torch.tensor([1])\n",
        "print(\"\\n1. scalar3:\")\n",
        "print(scalar3)\n",
        "print(type(scalar3), scalar3.shape)\n",
        "\n",
        "vector3 = torch.tensor([ 1,2,3,4 ])\n",
        "print(\"\\n2. vector3:\")\n",
        "print(vector3)\n",
        "print(type(vector3), vector3.shape)\n",
        "\n",
        "matrix3 = torch.tensor([\n",
        "    [1,2,3,4],\n",
        "    [5,6,7,8]])\n",
        "\n",
        "print(\"\\n3. matrix3:\")\n",
        "print(matrix3)\n",
        "print(type(matrix3), matrix3.shape)\n",
        "\n",
        "tensor3 = torch.tensor([\n",
        "    [[1,2,3,4],\n",
        "     [5,6,7,8]],\n",
        "\n",
        "    [[9,10,11,12],\n",
        "     [13,14,15,16]]])\n",
        "print(\"\\n4. tensor3:\")\n",
        "print(tensor3)\n",
        "print(type(tensor3), tensor3.shape)\n"
      ],
      "metadata": {
        "id": "YeWRr94LBEOG",
        "colab": {
          "base_uri": "https://localhost:8080/"
        },
        "outputId": "6971d5ff-eebc-4119-d3e8-bc269fe50272",
        "collapsed": true,
        "cellView": "form"
      },
      "execution_count": null,
      "outputs": [
        {
          "output_type": "stream",
          "name": "stdout",
          "text": [
            "In PyTorch, scalars, vectors and matrices can be created as tensors.\n",
            "\n",
            "1. scalar3:\n",
            "tensor([1])\n",
            "<class 'torch.Tensor'> torch.Size([1])\n",
            "\n",
            "2. vector3:\n",
            "tensor([1, 2, 3, 4])\n",
            "<class 'torch.Tensor'> torch.Size([4])\n",
            "\n",
            "3. matrix3:\n",
            "tensor([[1, 2, 3, 4],\n",
            "        [5, 6, 7, 8]])\n",
            "<class 'torch.Tensor'> torch.Size([2, 4])\n",
            "\n",
            "4. tensor3:\n",
            "tensor([[[ 1,  2,  3,  4],\n",
            "         [ 5,  6,  7,  8]],\n",
            "\n",
            "        [[ 9, 10, 11, 12],\n",
            "         [13, 14, 15, 16]]])\n",
            "<class 'torch.Tensor'> torch.Size([2, 2, 4])\n"
          ]
        }
      ]
    },
    {
      "cell_type": "code",
      "source": [
        "#@title Transposition > Pytorch\n",
        "\n",
        "print(\"\\nTransposing 1D tensors doesn't really do anything...\")\n",
        "vector3 = torch.tensor([ 1,2,3,4 ])\n",
        "print(\"Untransposed:\",vector3)\n",
        "print(\"Transposed\",vector3.T)\n",
        "\n",
        "#print(type(vector3.T), vector3.T.size())\n",
        "print(\"\\nFor this reason, we should create the vector as a 2D tensor from the start or reshape it, afterwards.\")\n",
        "print(\"So instead of this:\")\n",
        "print(\"vector3 = torch.tensor([ 1,2,3,4 ])\", type(vector3), vector3.size())\n",
        "\n",
        "print(\"We could type this:\")\n",
        "print(\"vector3 = torch.tensor([[ 1,2,3,4 ]])\",type(vector3), vector3.size())\n",
        "vector3 = torch.tensor([[ 1,2,3,4 ]]) # Instead of vector3 = torch.tensor([ 1,2,3,4 ])\n",
        "print(\"Note the extra pair of brackets.\")\n",
        "\n",
        "print(\"\\nNow, it can be transposed (vector3.T)\")\n",
        "print(vector3.T)\n",
        "print(type(vector3.T), vector3.T.size())\n",
        "vector3 = torch.tensor([ 1,2,3,4 ]) # reset vector3\n",
        "\n",
        "print(\"\\nAnother way, is to reshape it like this:\")\n",
        "print(\"vector3 = vector3.reshape(1,4)\")\n",
        "vector3 = vector3.reshape(1,4)\n",
        "print(vector3)\n",
        "print(\"Note the extra set of brackets.\")\n",
        "\n",
        "vector3 = torch.tensor([ 1,2,3,4 ]) # reset vector3\n",
        "\n",
        "print(\"\\n...or reshape it like this:\")\n",
        "print(\"vector3 = vector3.reshape(-1,4)\")\n",
        "vector3 = vector3.reshape(-1,4)\n",
        "print(vector3)\n",
        "print(\"Note the extra set of brackets.\")\n",
        "print(\"\\nNow, it can be transposed (vector3.T)\")\n",
        "print(vector3.T)\n",
        "#print(\"In this case, you could also reshape from a row vector straight into a column vector (vector3.reshape(4,1))\")\n",
        "#print(vector3.reshape(4,1))\n",
        "#print(\"As you can see, it looks as if it had been transposed.\")\n",
        "#print(\"However, this is a different operation and wont work with matrices or tensors...\")\n",
        "\n",
        "print(\"\\nUsing .reshape you can even revert it back into a 1D tensor (vector3.reshape(-1))\")\n",
        "vector3 = torch.tensor([[ 1,2,3,4 ]]) # Instead of vector3 = torch.tensor([ 1,2,3,4 ])\n",
        "print(vector3.reshape(-1))\n",
        "print(type(vector3.reshape(-1)), vector3.reshape(-1).size())\n",
        "\n",
        "print(\"\\nOn to algebraic matrices and tensors...\")\n",
        "print(\"\\nHere is matrix3, a matrix or 2D tensor:\")\n",
        "print(matrix3)\n",
        "print(\"\\nLet's transpose it (matrix3.T)\")\n",
        "print(matrix3.T)\n",
        "print(type(matrix3.T), matrix3.T.size())\n",
        "\n",
        "print(\"\\nHere is tensor3, a 3D tensor:\")\n",
        "print(tensor3)\n",
        "print(\"\\nNow, let's transpose it (tensor3.T)\")\n",
        "print(tensor3.T)\n",
        "print(type(tensor3.T), tensor3.T.size())\n"
      ],
      "metadata": {
        "id": "A_TepdHFb3bP",
        "colab": {
          "base_uri": "https://localhost:8080/"
        },
        "outputId": "52b625af-68d7-4699-ca75-19ed4779ad40",
        "cellView": "form",
        "collapsed": true
      },
      "execution_count": null,
      "outputs": [
        {
          "output_type": "stream",
          "name": "stdout",
          "text": [
            "\n",
            "Transposing 1D tensors doesn't really do anything...\n",
            "Untransposed: tensor([1, 2, 3, 4])\n",
            "Transposed tensor([1, 2, 3, 4])\n",
            "\n",
            "For this reason, we should create the vector as a 2D tensor from the start or reshape it, afterwards.\n",
            "So instead of this:\n",
            "vector3 = torch.tensor([ 1,2,3,4 ]) <class 'torch.Tensor'> torch.Size([4])\n",
            "We could type this:\n",
            "vector3 = torch.tensor([[ 1,2,3,4 ]]) <class 'torch.Tensor'> torch.Size([4])\n",
            "Note the extra pair of brackets.\n",
            "\n",
            "Now, it can be transposed (vector3.T)\n",
            "tensor([[1],\n",
            "        [2],\n",
            "        [3],\n",
            "        [4]])\n",
            "<class 'torch.Tensor'> torch.Size([4, 1])\n",
            "\n",
            "Another way, is to reshape it like this:\n",
            "vector3 = vector3.reshape(1,4)\n",
            "tensor([[1, 2, 3, 4]])\n",
            "Note the extra set of brackets.\n",
            "\n",
            "...or reshape it like this:\n",
            "vector3 = vector3.reshape(-1,4)\n",
            "tensor([[1, 2, 3, 4]])\n",
            "Note the extra set of brackets.\n",
            "\n",
            "Now, it can be transposed (vector3.T)\n",
            "tensor([[1],\n",
            "        [2],\n",
            "        [3],\n",
            "        [4]])\n",
            "\n",
            "Using .reshape you can even revert it back into a 1D tensor (vector3.reshape(-1))\n",
            "tensor([1, 2, 3, 4])\n",
            "<class 'torch.Tensor'> torch.Size([4])\n",
            "\n",
            "On to algebraic matrices and tensors...\n",
            "\n",
            "Here is matrix3, a matrix or 2D tensor:\n",
            "tensor([[1, 2, 3, 4],\n",
            "        [5, 6, 7, 8]])\n",
            "\n",
            "Let's transpose it (matrix3.T)\n",
            "tensor([[1, 5],\n",
            "        [2, 6],\n",
            "        [3, 7],\n",
            "        [4, 8]])\n",
            "<class 'torch.Tensor'> torch.Size([4, 2])\n",
            "\n",
            "Here is tensor3, a 3D tensor:\n",
            "tensor([[[ 1,  2,  3,  4],\n",
            "         [ 5,  6,  7,  8]],\n",
            "\n",
            "        [[ 9, 10, 11, 12],\n",
            "         [13, 14, 15, 16]]])\n",
            "\n",
            "Now, let's transpose it (tensor3.T)\n",
            "tensor([[[ 1,  9],\n",
            "         [ 5, 13]],\n",
            "\n",
            "        [[ 2, 10],\n",
            "         [ 6, 14]],\n",
            "\n",
            "        [[ 3, 11],\n",
            "         [ 7, 15]],\n",
            "\n",
            "        [[ 4, 12],\n",
            "         [ 8, 16]]])\n",
            "<class 'torch.Tensor'> torch.Size([4, 2, 2])\n"
          ]
        }
      ]
    },
    {
      "cell_type": "markdown",
      "source": [
        "#Slicing"
      ],
      "metadata": {
        "id": "_6m2mFWUq8yh"
      }
    },
    {
      "cell_type": "code",
      "source": [
        "#@title Slicing > NumPy\n",
        "import numpy as np\n",
        "\n",
        "# leading zeroes dont work, but you can ident, somehow. wasn't identation important in py?\n",
        "# square brackets are printed... To remove them, unpack with \"*\" or convert to string. reconvert if needed...\n",
        "arry = np.array([\n",
        "    [  1,  2,  3,  4],\n",
        "     [ 5,  6,  7,  8],\n",
        "      [9, 10, 11, 12]])\n",
        "\n",
        "print(\"Hello! Meet arry. Arry is an array that looks like this:\")\n",
        "print(arry)\n",
        "print(f\"{type(arry)} <shape/dimenions: {arry.shape}>\")\n",
        "print(\"\\nWe can slice arry, like a cake, using: variable[y1:y2, x1:x2, step].\")\n",
        "print(\"\\nSlicing first 2 rows and columns > arry[0:2, 0:2]:\")\n",
        "print(arry[0:2, 0:2]) # slice and dice\n",
        "print(\"\\nSlicing last 2 rows and colums > arry[1:3, 2:4]:\")\n",
        "print(arry[1:3, 2:4]) # slice and dice\n"
      ],
      "metadata": {
        "colab": {
          "base_uri": "https://localhost:8080/"
        },
        "id": "nqSzifpElHcV",
        "outputId": "af8e9eb5-b4a2-44c2-8f4b-8feb707de499",
        "cellView": "form",
        "collapsed": true
      },
      "execution_count": null,
      "outputs": [
        {
          "output_type": "stream",
          "name": "stdout",
          "text": [
            "Hello! Meet arry. Arry is an array that looks like this:\n",
            "[[ 1  2  3  4]\n",
            " [ 5  6  7  8]\n",
            " [ 9 10 11 12]]\n",
            "<class 'numpy.ndarray'> <shape/dimenions: (3, 4)>\n",
            "\n",
            "We can slice arry, like a cake, using: variable[y1:y2, x1:x2, step].\n",
            "\n",
            "Slicing first 2 rows and columns > arry[0:2, 0:2]:\n",
            "[[1 2]\n",
            " [5 6]]\n",
            "\n",
            "Slicing last 2 rows and colums > arry[1:3, 2:4]:\n",
            "[[ 7  8]\n",
            " [11 12]]\n"
          ]
        }
      ]
    },
    {
      "cell_type": "markdown",
      "source": [
        "#Dot Product"
      ],
      "metadata": {
        "id": "fue8w2Nzq3Fb"
      }
    },
    {
      "cell_type": "code",
      "source": [
        "#@title Dot Product > NumPy\n",
        "\n",
        "import numpy as np\n",
        "\n",
        "# In linear algebra, the dot product is an operation that multiplies 2 series of numbers and then sums the result of those multiplications into a single number.\n",
        "# In other words, it is the sum of the products (multiplications) of two series or sequences of numbers.\n",
        "\n",
        "# This operation requires that the sequences have the same lenght or dimensions.\n",
        "# Typically, these sequences or series of numbers are vectors, matrices, tensors and such.\n",
        "\n",
        "#array1 = np.array([1,2,3,4])\n",
        "#array2 = np.array([0,1,0,-1])\n",
        "array1 = np.array([[1,2,3],[4,5,6],[7,8,9]])\n",
        "\n",
        "array2 = np.array([[1,2,3],[4,5,6],[7,8,9]])\n",
        "\n",
        "array3 = np.array([[1,2,3,4,5,6],[4,5,6,7,8,9], [7,8,9,10,11,12]])\n",
        "\n",
        "# Note that calculating the dot product via function numpy.dot() multiplies the arrays elementwise, not rows by columns.\n",
        "# On 1D arrays (vectors), it then sums the product.\n",
        "# However, on higher dimensions (matrices), numpy.dot() does not calculate the algebraic dot product.\n",
        "# It only multiplies the arrays (element-wise) without suming the product or returning a single number.\n",
        "# This is also known as: Hadamard product, Schur product, element-wise product, entrywise product...\n",
        "\n",
        "print(\"Here are our matrices\")\n",
        "print(\"Array A: Picture of my cat\\n\", array1)\n",
        "print(\"Array B: Picture of my cat\\n\", array2)\n",
        "print(\"Array C: Picture of my cat with favorite toy\\n\", array3)\n",
        "\n",
        "print(\"\\nLets find out what happens when we try to calculate the dot product...\")\n",
        "print(\"\\n1. via function np.dot(a,b)\")\n",
        "print(np.dot(array1,array2)) # incorrect algebraic dot product\n",
        "\n",
        "print(\"\\n2. via np.sum(a*b)\")\n",
        "print(np.sum(array1*array2)) # this is the correct algebraic dot product\n",
        "\n",
        "print(\"\\n3. via np.sum(a@b)\")\n",
        "print(np.sum(array1@array2)) # incorrect algebraic dot product\n",
        "\n",
        "print(\"\\nClearly these are distinct\")\n",
        "print(\"np.sum(a*b) is the correct method, because it does the correct method of multiplication and sums the result into a single number.\")\n",
        "\n",
        "# element-wise vs row-column-wise\n",
        "print(\"\\nDot product multiplication is performed elementwise, instead of rows by columns.\")\n",
        "\n",
        "print(\"\\nHere is what row by elementwise multiplication looks like...\")\n",
        "print(\"via a*b\")\n",
        "print(array1*array2)\n",
        "# Dot Product element-wise multiplication = 285\n",
        "# 1*1 + 2*2 + 3*3 + 4*4+ 5*5 + 6*6 + 7*7 + 8*8 + 9*9 = 285\n",
        "# 1*1 + 2*2 + 3*3\n",
        "# 4*4 + 5*5 + 6*6\n",
        "# 7*7 + 8*8 + 9*9\n",
        "#  1  4  9\n",
        "# 16 25 36\n",
        "# 49 64 81\n",
        "\n",
        "print(\"\\nHere is what row by column multiplication looks like...\")\n",
        "print(\"via a@b\")\n",
        "print(array1@array2)\n",
        "# Matrix multiplication rows-by-columns = 729\n",
        "# 1*1 + 2*4 + 3*7 = 30\n",
        "# 4*1 + 5*4 + 6*7 = 66\n",
        "# 7*1 + 8*4 + 9*7 = 102\n",
        "\n",
        "# 1*2 + 2*5 + 3*8 = 36\n",
        "# 4*2 + 5*5 + 6*8 = 81\n",
        "# 7*2 + 8*5 + 9*8 = 126\n",
        "\n",
        "# 1*3 + 2*6 + 3*9 = 42\n",
        "# 4*3 + 5*6 + 6*9 = 96\n",
        "# 7*3 + 8*6 + 9*9 = 150\n",
        "#  30  36  42\n",
        "#  66  81  96\n",
        "# 102 126 150\n",
        "\n",
        "#Slicing\n",
        "print(\"\\nSlicing also works. This allows calculating sections of incompatible objects, as if they were compatible. Let's give it a try...\")\n",
        "print(\"\\nSlicing and calculating via np.sum(a*b)\")\n",
        "print(np.sum(array3[:3,:3] * array2[:3,:3] ))\n",
        "\n",
        "# Praxis\n",
        "\n",
        "# Dot product may be used to reflect the commonalities between two objects, to tell how close/similar or how far/distinct things are from each other.\n",
        "# This is particularly useful in computer vision. Slicing can be used on bigger images to make them compatible with smaller ones. For example, there is a small picture with the a cat. The bigger picture has a that cat and a toy. In this case, the bigger picture could be sliced to compare the cats and see if it is teh same cat, for example...\n",
        "# Dot product can be applied in artificial neural networks as a weighted preferencial inputs.\n"
      ],
      "metadata": {
        "colab": {
          "base_uri": "https://localhost:8080/"
        },
        "id": "WfxNLVxwEmAV",
        "outputId": "d7e587e6-d804-473e-a484-10721328b598"
      },
      "execution_count": null,
      "outputs": [
        {
          "output_type": "stream",
          "name": "stdout",
          "text": [
            "Here are our matrices\n",
            "Array A: Picture of my cat\n",
            " [[1 2 3]\n",
            " [4 5 6]\n",
            " [7 8 9]]\n",
            "Array B: Picture of my cat\n",
            " [[1 2 3]\n",
            " [4 5 6]\n",
            " [7 8 9]]\n",
            "Array C: Picture of my cat with favorite toy\n",
            " [[ 1  2  3  4  5  6]\n",
            " [ 4  5  6  7  8  9]\n",
            " [ 7  8  9 10 11 12]]\n",
            "\n",
            "Lets find out what happens when we try to calculate the dot product...\n",
            "\n",
            "1. via function np.dot(a,b)\n",
            "[[ 30  36  42]\n",
            " [ 66  81  96]\n",
            " [102 126 150]]\n",
            "\n",
            "2. via np.sum(a*b)\n",
            "285\n",
            "\n",
            "3. via np.sum(a@b)\n",
            "729\n",
            "\n",
            "Clearly these are distinct\n",
            "np.sum(a*b) is the correct method, because it does the correct method of multiplication and sums the result into a single number.\n",
            "\n",
            "Dot product multiplication is performed elementwise, instead of rows by columns.\n",
            "\n",
            "Here is what row by elementwise multiplication looks like...\n",
            "via a*b\n",
            "[[ 1  4  9]\n",
            " [16 25 36]\n",
            " [49 64 81]]\n",
            "\n",
            "Here is what row by column multiplication looks like...\n",
            "via a@b\n",
            "[[ 30  36  42]\n",
            " [ 66  81  96]\n",
            " [102 126 150]]\n",
            "\n",
            "Slicing also works. This allows calculating sections of incompatible objects, as if they were compatible. Let's give it a try...\n",
            "\n",
            "Slicing and calculating via np.sum(a*b)\n",
            "285\n"
          ]
        }
      ]
    },
    {
      "cell_type": "code",
      "source": [
        "#@title Dot Product > PyTorch\n",
        "\n",
        "import torch\n",
        "\n",
        "tensor1 = torch.tensor([1,2,3,4,5])\n",
        "tensor2 = tensor1\n",
        "\n",
        "ttensor3 = torch.tensor([[1,2,3], [4,5,6], [7,8,9]])\n",
        "ttensor4 = ttensor3\n",
        "\n",
        "print(\"Calculating 1D tensors via torch.dot(a,b)\")\n",
        "# 1*1 + 2*2 + 3*3 + 4*4 + 5*5 = 55\n",
        "print(torch.dot(tensor1,tensor2)) # This only works with 1D tensors (aka vectors)\n",
        "\n",
        "print(\"\\nCalculating 1D tensors via torch.sum(a,b)\")\n",
        "print(torch.sum(tensor1 * tensor2))\n",
        "\n",
        "#move this one up!!!\n",
        "print(\"\\nCalculating 2D tensors via torch.sum(a,b)\")\n",
        "print(torch.sum(ttensor3*ttensor4)) # This works with any N-dimensional tensor\n",
        "\n"
      ],
      "metadata": {
        "colab": {
          "base_uri": "https://localhost:8080/"
        },
        "id": "DmcZREBnDCG0",
        "outputId": "82085231-8a1a-424d-c3af-c2818052ba98",
        "cellView": "form",
        "collapsed": true
      },
      "execution_count": null,
      "outputs": [
        {
          "output_type": "stream",
          "name": "stdout",
          "text": [
            "Calculating 1D tensors via torch.dot(a,b)\n",
            "tensor(55)\n",
            "\n",
            "Calculating 1D tensors via torch.sum(a,b)\n",
            "tensor(55)\n",
            "\n",
            "Calculating 2D tensors via torch.sum(a,b)\n",
            "tensor(285)\n"
          ]
        }
      ]
    },
    {
      "cell_type": "markdown",
      "source": [
        "#Matrix Multiplication"
      ],
      "metadata": {
        "id": "Utc7RE51qwQl"
      }
    },
    {
      "cell_type": "code",
      "source": [
        "#@title Matrix Multiplication > NumPy\n",
        "\n",
        "import numpy as np\n",
        "\n",
        "# Tipically, in matrix multiplication, the columns of one matrix are multiplied by the columns of another matrix.\n",
        "# To multiply 2 different matrices, they need to have the appropriate dimensions.\n",
        "# The inner dimensions need to match (have the same size).\n",
        "# A 1 x 3 matrix can be multiplied with a 3 x 3 matrix or a 3 x 1 matrix.\n",
        "\n",
        "# Matrix A is 1x3. Matrix B is 3x3. Matrix C is 3x1\n",
        "arr1 = np.random.randint(10, size=(1,3))\n",
        "arr2 = np.random.randint(10, size=(3,3))\n",
        "arr3 = np.random.randint(10, size=(3,1))\n",
        "\n",
        "#arr1 = np.random.randn(1,3) # random floats\n",
        "#arr2 = np.random.randn(3,3) # random floats\n",
        "#arr3 = np.random.randn(3,1) # random floats\n",
        "\n",
        "# Can you multiply matrices AC?\n",
        "# 1x[3] [3]x1\n",
        "# Inner dimension is on both is 3. They match. So they can be multiplied.\n",
        "\n",
        "# Can you multiply matrices BA?\n",
        "# 3x[3] [1]x3\n",
        "# Inner dimensions are 3 and 1. They don't match. So they can't be multiplied.\n",
        "\n",
        "# What would be the result of multiplying AB or AC?\n",
        "# The result takes the shape of the outer dimensions.\n",
        "# So, for matrices AB:\n",
        "# [1]x3 x 3x[3]\n",
        "# The result would be a 1 x 3 matrix.\n",
        "print(\"Matrix A\")\n",
        "print(arr1)\n",
        "print(\"Shape:\", arr1.shape)\n",
        "print()\n",
        "print(\"Matrix B\")\n",
        "print(arr2)\n",
        "print(\"Shape:\", arr2.shape)\n",
        "print(\"\\nMultiplying matrices A and B via arr1@arr2\")\n",
        "arr1arr2 = arr1@arr2 # same as np.matmul(arr1,arr2)\n",
        "print(arr1arr2)\n",
        "print(\"Shape:\", arr1arr2.shape)\n",
        "\n",
        "# For matrices AC:\n",
        "# [1]x3 x 3x[1]\n",
        "# The result would be a 1 x 1 matrix.\n",
        "print()\n",
        "print(\"Matrix A\")\n",
        "print(arr1)\n",
        "print(\"Shape:\", arr1.shape)\n",
        "print()\n",
        "print(\"Matrix C\")\n",
        "print(arr3)\n",
        "print(\"Shape:\", arr3.shape)\n",
        "print(\"\\nMultiplying matrices A and C via np.matmul(arr1,arr3)\")\n",
        "arr1arr3 = np.matmul(arr1,arr3) # same as arr1@arr3\n",
        "print(arr1arr3)\n",
        "print(\"Shape:\", arr1arr3.shape)\n"
      ],
      "metadata": {
        "colab": {
          "base_uri": "https://localhost:8080/"
        },
        "collapsed": true,
        "id": "sIrhSdKXoQq3",
        "outputId": "0729ea77-ff75-439f-dec6-bcb3ce5b0efe",
        "cellView": "form"
      },
      "execution_count": null,
      "outputs": [
        {
          "output_type": "stream",
          "name": "stdout",
          "text": [
            "Matrix A\n",
            "[[8 5 6]]\n",
            "Shape: (1, 3)\n",
            "\n",
            "Matrix B\n",
            "[[6 2 8]\n",
            " [0 8 3]\n",
            " [8 6 4]]\n",
            "Shape: (3, 3)\n",
            "\n",
            "Multiplying matrices A and B via arr1@arr2\n",
            "[[ 96  92 103]]\n",
            "Shape: (1, 3)\n",
            "\n",
            "Matrix A\n",
            "[[8 5 6]]\n",
            "Shape: (1, 3)\n",
            "\n",
            "Matrix C\n",
            "[[5]\n",
            " [5]\n",
            " [2]]\n",
            "Shape: (3, 1)\n",
            "\n",
            "Multiplying matrices A and C via np.matmul(arr1,arr3)\n",
            "[[77]]\n",
            "Shape: (1, 1)\n"
          ]
        }
      ]
    },
    {
      "cell_type": "code",
      "source": [
        "#@title Matrix Multiplication > PyTorch\n",
        "\n",
        "import torch\n",
        "\n",
        "# Matrix A is 1x3. Matrix B is 3x3. Matrix C is 3x1\n",
        "arr1 = torch.randint(10, size=(1,3))\n",
        "arr2 = torch.randint(10, size=(3,3))\n",
        "arr3 = torch.randint(10, size=(3,1))\n",
        "\n",
        "#arr1 = torch.randn(1,3) # random floats\n",
        "#arr2 = torch.randn(3,3) # random floats\n",
        "#arr3 = torch.randn(3,1) # random floats\n",
        "\n",
        "# Can you multiply matrices AC?\n",
        "# 1x[3] [3]x1\n",
        "# Inner dimension is on both is 3. They match. So they can be multiplied.\n",
        "\n",
        "# Can you multiply matrices BA?\n",
        "# 3x[3] [1]x3\n",
        "# Inner dimensions are 3 and 1. They don't match. So they can't be multiplied.\n",
        "\n",
        "# What would be the result of multiplying AB or AC?\n",
        "# The result takes the shape of the outer dimensions.\n",
        "# So, for matrices AB:\n",
        "# [1]x3 x 3x[3]\n",
        "# The result would be a 1 x 3 matrix.\n",
        "print(\"Matrix A\")\n",
        "print(arr1)\n",
        "print(arr1.size())\n",
        "print()\n",
        "print(\"Matrix B\")\n",
        "print(arr2)\n",
        "print(arr2.size())\n",
        "print(\"\\nMultiplying matrices A and B via arr1@arr2\")\n",
        "arr1arr2 = arr1@arr2 # same as torch.matmul(arr1,arr2)\n",
        "print(arr1arr2)\n",
        "print(arr1arr2.size())\n",
        "#print(arr1arr2.shape) # If imported, NumPy .shape also works with PyTorch tensors:\n",
        "\n",
        "# For matrices AC:\n",
        "# [1]x3 x 3x[1]\n",
        "# The result would be a 1 x 1 matrix.\n",
        "print()\n",
        "print(\"Matrix A\")\n",
        "print(arr1)\n",
        "print(arr1.size())\n",
        "print()\n",
        "print(\"Matrix C\")\n",
        "print(arr3)\n",
        "print(arr3.size())\n",
        "print(\"\\nMultiplying matrices A and C via torch.matmul(arr1,arr3)\")\n",
        "arr1arr3 = torch.matmul(arr1,arr3) # same as arr1@arr3\n",
        "print(arr1arr3)\n",
        "print(arr1arr3.size())\n"
      ],
      "metadata": {
        "colab": {
          "base_uri": "https://localhost:8080/"
        },
        "collapsed": true,
        "outputId": "93e4c0ac-a488-45f0-86cf-e595a1504434",
        "cellView": "form",
        "id": "JSfVRDFf6jgL"
      },
      "execution_count": null,
      "outputs": [
        {
          "output_type": "stream",
          "name": "stdout",
          "text": [
            "Matrix A\n",
            "tensor([[2, 1, 7]])\n",
            "torch.Size([1, 3])\n",
            "\n",
            "Matrix B\n",
            "tensor([[6, 9, 7],\n",
            "        [4, 7, 3],\n",
            "        [3, 6, 1]])\n",
            "torch.Size([3, 3])\n",
            "\n",
            "Multiplying matrices A and B via arr1@arr2\n",
            "tensor([[37, 67, 24]])\n",
            "torch.Size([1, 3])\n",
            "\n",
            "Matrix A\n",
            "tensor([[2, 1, 7]])\n",
            "torch.Size([1, 3])\n",
            "\n",
            "Matrix C\n",
            "tensor([[9],\n",
            "        [7],\n",
            "        [9]])\n",
            "torch.Size([3, 1])\n",
            "\n",
            "Multiplying matrices A and C via torch.matmul(arr1,arr3)\n",
            "tensor([[88]])\n",
            "torch.Size([1, 1])\n"
          ]
        }
      ]
    },
    {
      "cell_type": "markdown",
      "source": [
        "#Softmax"
      ],
      "metadata": {
        "id": "sJgq1r6EqcEO"
      }
    },
    {
      "cell_type": "code",
      "source": [
        "#@title Softmax Function > NumPy\n",
        "\n",
        "import numpy as np\n",
        "\n",
        "#Natural Exponent e = 2.718...\n",
        "\n",
        "# Natural log and and Natural exponent cancel each other out\n",
        "\n",
        "print(\"Here is our numeric list:\")\n",
        "list1 = [-2,-1,1,2] # NumPy softmax works with native Python lists and NumPy arrays\n",
        "print(list1)\n",
        "\n",
        "# NumPy calculation steps without using softmax function\n",
        "print(\"\\nHere is how to calculate the softmax in NumPy without using softmax()\")\n",
        "print(\"\\nFirst, calculate the natural exponent for each element in the list (np.exp(var))\")\n",
        "expo = np.exp(list1)\n",
        "print(expo)\n",
        "print(\"\\nThen, sum all thenentiated elements\")\n",
        "sum1 = sum(expo)\n",
        "print(sum1)\n",
        "\n",
        "print(\"\\nAfterwards, divide the exponentiated elements with their exponentiated sum. The result is our softmax list\")\n",
        "softmaxed1 = expo / sum1\n",
        "print(softmaxed1)\n",
        "\n",
        "print(\"\\nWe did it! Now, to verify, sum every softmaxed element in the list. The result should be 1\")\n",
        "print(f\"Result: {sum(softmaxed1)}\")\n",
        "\n"
      ],
      "metadata": {
        "id": "OD09wc7X-7GR",
        "colab": {
          "base_uri": "https://localhost:8080/"
        },
        "outputId": "555d82c0-1efa-426d-ee23-ec275a0363b7",
        "cellView": "form",
        "collapsed": true
      },
      "execution_count": null,
      "outputs": [
        {
          "output_type": "stream",
          "name": "stdout",
          "text": [
            "Here is our numeric list:\n",
            "[-2, -1, 1, 2]\n",
            "\n",
            "Here is how to calculate the softmax in NumPy without using softmax()\n",
            "\n",
            "First, calculate the natural exponent for each element in the list (np.exp(var))\n",
            "[0.13533528 0.36787944 2.71828183 7.3890561 ]\n",
            "\n",
            "Then, sum all thenentiated elements\n",
            "10.61055265179775\n",
            "\n",
            "Afterwards, divide the exponentiated elements with their exponentiated sum. The result is our softmax list\n",
            "[0.01275478 0.03467109 0.25618664 0.69638749]\n",
            "\n",
            "We did it! Now, to verify, sum every softmaxed element in the list. The result should be 1\n",
            "Result: 1.0\n"
          ]
        }
      ]
    },
    {
      "cell_type": "code",
      "source": [
        "#@title Softmax Function > PyTorch\n",
        "\n",
        "import torch\n",
        "import torch.nn as nn\n",
        "\n",
        "#list2 = [1,2,3,4] #PyTorch can't softmax native Python lists nor NumPu arrays without converting them into tensors\n",
        "list2 = torch.Tensor([-2,-1,1,2])\n",
        "\n",
        "softfun = nn.Softmax(dim=0)\n",
        "\n",
        "\n",
        "print(\"Here is our list\")\n",
        "print(list2)\n",
        "\n",
        "print(\"\\nHere is our softmaxed list\")\n",
        "#softmaxed2 = softfun(torch.Tensor(list2)) # Do this if needed to convert into a PyTorch tensor.\n",
        "softmaxed2 = softfun(list2)\n",
        "print(softmaxed2)\n",
        "\n"
      ],
      "metadata": {
        "colab": {
          "base_uri": "https://localhost:8080/"
        },
        "id": "O0y4N8c-2Bmt",
        "outputId": "c45c03b1-e9b2-4e0e-c3f1-f51a47d92b99",
        "cellView": "form",
        "collapsed": true
      },
      "execution_count": null,
      "outputs": [
        {
          "output_type": "stream",
          "name": "stdout",
          "text": [
            "Here is our list\n",
            "tensor([-2., -1.,  1.,  2.])\n",
            "\n",
            "Here is our softmaxed list\n",
            "tensor([0.0128, 0.0347, 0.2562, 0.6964])\n"
          ]
        }
      ]
    },
    {
      "cell_type": "markdown",
      "source": [
        "# Entropy"
      ],
      "metadata": {
        "id": "34qf0BCAm3_M"
      }
    },
    {
      "cell_type": "code",
      "source": [
        "#@title Entropy\n",
        "\"\"\"\n",
        "Shannon Entropy\n",
        ">Shannon Entropy describes the uncertainty, surprise or even error within a distribution of probability.\n",
        "The higher the uncertainty of the outcome, the higher the entropy (across the distribution of events).\n",
        "The lower the uncertainty of the outcome, the lower the entropy.\n",
        "For example, if I bet on a game knowing I will win, then the entropy is minimal.\n",
        "Likewise, if I bet against a game knowing I will lose, then the entropy is minimal.\n",
        "However, if I bet on a game and the outcome is uncertain, then the entropy is higher.\n",
        "A variable with predictable outcomes (like a loaded coin that always lands on heads) has low entropy, while a variable with many possible and equally likely outcomes (like a fair dice roll) has high entropy.\n",
        "\n",
        "Cross-Entropy\n",
        ">In Information Theory, entropy usually refers to one variable, the surprise.\n",
        "However, in DL training, usually, the question is how well two variables match (category label vs. model prediction). Hence \"cross\" variable.\n",
        "Cross entropy or categorical entropy is a loss function used in machine learning, especially for classification, that measures the difference between two probability distributions: the true label (the actual outcome) and the model's predictions.\n",
        "It quantifies how (dis)similar the predictions align with the actual outcomes. Lower cross-entropy value indicate better performance. A perfect prediction results in (a loss of) 0.\n",
        "\n",
        "Binary Entropy\n",
        ">Binary entropy is a kind of cross entropy that accounts for two mutually exclusive outcomes for an event. Ex: heads or tails; alive or dead, on or off.\n",
        "\"\"\""
      ],
      "metadata": {
        "cellView": "form",
        "id": "PyQWq9_tqCsq"
      },
      "execution_count": null,
      "outputs": []
    },
    {
      "cell_type": "code",
      "source": [
        "#@title Entropy > NumPy\n",
        "\n",
        "import numpy as np\n",
        "\n",
        "probability = .40\n",
        "improbability = 1 - probability\n",
        "\n",
        "#chance = [.25, .75]\n",
        "chance = [probability, improbability]\n",
        "\n",
        "entro=0 # entropy\n",
        "\n",
        "for probability in chance:\n",
        "  entro += -( probability*np.log(probability) )\n",
        "#happen = -( probability*np.log(probability) + (1-probability)*np.log(1-probability) ) # binary entropy\n",
        "\n",
        "#binary cross-entropy\n",
        "\n",
        "print(\"Correct entropy:\", entro)\n",
        "\n",
        "# Binary Cross Entropy\n",
        "\n",
        "possibilities = [1, 0]\n",
        "quota = [.25, .75] # probability of each outcome, like happening or not happening, cat or not cat.\n",
        "\n",
        "entro=0\n",
        "for i in range(len(possibilities)):\n",
        "  entro -= possibilities[i]*np.log(quota[i])\n",
        "  #entro += -( possibilities[i]*np.log(quota[i]) ) # the log is negative, so we can simply decrement (instead of incrementing) and remove the minus operation.\n",
        "\n",
        "print(\"Correct entropy: \" + str(entro))\n"
      ],
      "metadata": {
        "colab": {
          "base_uri": "https://localhost:8080/"
        },
        "id": "_LM-K7Zn_FyU",
        "outputId": "20a4b9cd-6157-4b9f-bb4e-eb46dac30d7c",
        "cellView": "form",
        "collapsed": true
      },
      "execution_count": null,
      "outputs": [
        {
          "output_type": "stream",
          "name": "stdout",
          "text": [
            "Correct entropy: 0.6730116670092565\n",
            "Correct entropy: 1.3862943611198906\n"
          ]
        }
      ]
    },
    {
      "cell_type": "code",
      "source": [
        "#@title Entropy > PyTorch\n",
        "\n",
        "import torch\n",
        "import torch.nn.functional as tfun\n",
        "\n",
        "possibilities = torch.tensor([1.0, 0.0])\n",
        "quota = torch.tensor([.25, .75])\n",
        "\n",
        "tfun.binary_cross_entropy(quota,possibilities)\n"
      ],
      "metadata": {
        "colab": {
          "base_uri": "https://localhost:8080/"
        },
        "id": "Np_ZcAErZUoP",
        "outputId": "707e86e1-fce7-46fe-c86d-d38e62ba1df1",
        "cellView": "form",
        "collapsed": true
      },
      "execution_count": null,
      "outputs": [
        {
          "output_type": "execute_result",
          "data": {
            "text/plain": [
              "tensor(1.3863)"
            ]
          },
          "metadata": {},
          "execution_count": 46
        }
      ]
    },
    {
      "cell_type": "markdown",
      "source": [
        "#T-Test"
      ],
      "metadata": {
        "id": "uX2TqqEcqPHs"
      }
    },
    {
      "cell_type": "code",
      "source": [
        "#@title T-Test\n",
        "\"\"\"\n",
        "Different AI models provide different datasets.\n",
        "\n",
        "This leads to two hypothesis. Either:\n",
        "1. A model outperforms another: The alternative hypothesis (HA)\n",
        "or\n",
        "2. The models are equivalent: The null hypothesis (H0)\n",
        "\n",
        "The T-Test is a way to address this.\n",
        "\n",
        "It tests whether there is significant evidence that one model outperformed another, by comparing their prediction with the actual outcome.\n",
        "\n",
        "Significant evidence means overcoming the statistical significance threshold (AKA alpha level).\n",
        "\n",
        "The alpha level is a probability that a researcher sets before a study to determine if the results are statistically significant.\n",
        "\n",
        "Tipically, the most common threshold is 0.05 (or 5%).\n",
        "This means that there is a 5% chance that the observed result could have occurred due to random chance.\n",
        "The t-test can also be compared against a particular chance, like 50% accuracy (alpha level = 0.50) to see if a model is making random predictions, for example...\n",
        "\n",
        "If the p-value is less than the chosen threshold (alpha level), the result is considered statistically significant. So one model did outperform.\n",
        "\n",
        "The p-value is the probability that the t-value reflects the null hypothesis.\n",
        "\n",
        "The probability of getting a t-value at least as extreme as the t-value actually observed under the assumption that the null hypothesis is correct is called the p-value.\n",
        "\n",
        "The t-value is the result of the t-test and a fairly simple calculation: it's the difference of means divided by a measure of standard deviation. So, it's just the normalized difference between two groups. When two groups differ by a lot, the t-value is large and the p-value is closer to zero.\n",
        "\n",
        "The t-value is the result of the t-test and represents the difference between the compared models.\n",
        "\n",
        "t-value =\n",
        "(the average of x minus the mean of y)\n",
        "this is divided by\n",
        "(standard deviations)\n",
        "\"\"\"\n",
        "\n",
        "import numpy as np\n",
        "import matplotlib.pyplot as ploti\n",
        "import scipy.stats as stats\n",
        "\n",
        "# Population Averages\n",
        "popavg1 = 1\n",
        "popavg2 = 2\n",
        "\n",
        "# Sample Groups\n",
        "group1 = 10\n",
        "group2 = 20\n",
        "\n",
        "# Data Set\n",
        "data1 = popavg1 + np.random.randn(group1)\n",
        "data2 = popavg2 + np.random.randn(group2)\n",
        "\n",
        "print(\"We have 2 groups of data from 2 different AI models.\")\n",
        "print(\"Let's compare them and calculate if one model outperforms another using scipy .ttest_ind() function...\\n\")\n",
        "\n",
        "# T-Test\n",
        "tvalue1, pvalue1 = stats.ttest_ind(data1, data2) # independent samples t-test\n",
        "#print(tvalue1) # if t-value is negative, then data2 is better than data1\n",
        "#print(pvalue1)\n",
        "\n",
        "#scattered the points a bit...\n",
        "ploti.plot(np.zeros(group1), data1, \"go\", alpha=0.3) # transparency\n",
        "ploti.plot(np.ones(group2), data2, \"bv\", alpha=0.3) # transparency\n",
        "#ploti.plot(0+np.random.randn(group1)/20, data1, \"co\") # dispersion\n",
        "#ploti.plot(1+np.random.randn(group2)/20, data2, \"yv\") # dispersion\n",
        "ploti.grid(axis=\"y\", linestyle=\":\") # plot a grid\n",
        "ploti.xlim([-1,2]) # centering...\n",
        "ploti.xticks([0,1], labels=[\"Group 1\", \"Group 2\"])\n",
        "ploti.title(f\"t-value = {tvalue1: .3f} | p-value = {pvalue1: .3f}\") # As long as p-value is above 0,05 the performance/accuracy is not significantly different. Mind there was no data cleaning here, etc...\n",
        "ploti.show()\n",
        "\n",
        "alevel = 0.05\n",
        "hypothesis0 = pvalue1 >= alevel\n",
        "\n",
        "print(\"\\nConclusion:\")\n",
        "if hypothesis0 == True:\n",
        "  print(\"There is no significant statistical evidence that one model outperformed the other.\")\n",
        "else:\n",
        "  print(\"There is significant statistical evidence that\", \"Model B\" if tvalue1 < 0 else \"Model A\", \"outperformed\", \"Model A\" if tvalue1 < 0 else \"Model B\")\n",
        "\n",
        "#else:\n",
        "#  print(\"There is significant statistical evidence that\", end=\" \")\n",
        "#  print(\"Model B\" if tvalue1 < 0 else \"Model A\", end=\" \")\n",
        "#  print(\"outperformed\", end=\" \")\n",
        "#  print(\"Model A\" if tvalue1 < 0 else \"Model B\")\n",
        "\n",
        "#else:\n",
        "#  print(\"There is significant statistical evidence that one model outperformed the other.\")\n",
        "#  if tvalue1 < 0:\n",
        "#    print(\"Model B (Group 2) outperformed Model A (Group 1)\")\n",
        "#  else:\n",
        "#    print(\"Model A (Group 1) outperformed Model B (Group 2)\")\n"
      ],
      "metadata": {
        "colab": {
          "base_uri": "https://localhost:8080/",
          "height": 556
        },
        "id": "1XaVk7RFqSSf",
        "outputId": "44d7e8f5-ec56-44bc-c182-67cb405abdde"
      },
      "execution_count": null,
      "outputs": [
        {
          "output_type": "stream",
          "name": "stdout",
          "text": [
            "We have 2 groups of data from 2 different AI models.\n",
            "Let's compare them and calculate if one model outperforms another using scipy .ttest_ind() function...\n",
            "\n"
          ]
        },
        {
          "output_type": "display_data",
          "data": {
            "text/plain": [
              "<Figure size 640x480 with 1 Axes>"
            ],
            "image/png": "[encoded data removed]"
          },
          "metadata": {}
        },
        {
          "output_type": "stream",
          "name": "stdout",
          "text": [
            "\n",
            "Conclusion:\n",
            "There is no significant statistical evidence that one model outperformed the other.\n"
          ]
        }
      ]
    },
    {
      "cell_type": "markdown",
      "source": [
        "#Functions"
      ],
      "metadata": {
        "id": "w7m2rmNZzNvu"
      }
    },
    {
      "cell_type": "code",
      "source": [
        "#@title Simplify Functions > SymPy\n",
        "\n",
        "# simplify() is a SymPy funtion that simplifies any mathematical expression. Not just function expressions.\n",
        "\n",
        "from sympy import * # Symbolic Math in Python\n",
        "\n",
        "x = symbols('x')\n",
        "\n",
        "# 1 Some expressions are not simplified in native Python\n",
        "expression1 = sin(x)**2 + cos(x)**2 # Expression\n",
        "#print(\"Before Simplification:\", expression1)\n",
        "print(\"Before Simplification: {}\".format(expression1))\n",
        "\n",
        "simplified1 = simplify(expression1) # Simplified Expression\n",
        "#print(\"After Simplification:\", simplified1)\n",
        "print(\"After Simplification: {}\".format(simplified1))\n",
        "print()\n",
        "\n",
        "# 2 Other expressions are simplified in native Python\n",
        "expression2 = (1 + 2 + 4 - 7) * sin(x)+2 *x ** 5 # Expression\n",
        "print(\"Before Simplification: {}\".format(expression2))\n",
        "\n",
        "simplified2 = simplify(expression2)  # Simplified Expression\n",
        "print(\"After Simplification: {}\".format(simplified2))\n"
      ],
      "metadata": {
        "colab": {
          "base_uri": "https://localhost:8080/"
        },
        "id": "dfSY7UbpfE4W",
        "outputId": "762484a1-e1f2-4fc7-8bb9-cde636243b72"
      },
      "execution_count": null,
      "outputs": [
        {
          "output_type": "stream",
          "name": "stdout",
          "text": [
            "Before Simplification: sin(x)**2 + cos(x)**2\n",
            "After Simplification: 1\n",
            "\n",
            "Before Simplification: 2*x**5\n",
            "After Simplification: 2*x**5\n"
          ]
        }
      ]
    },
    {
      "cell_type": "code",
      "source": [
        "#@title F(x), Log, Exp > NumPy\n",
        "\n",
        "import numpy as np\n",
        "import matplotlib.pyplot as ploti\n",
        "\n",
        "x1 = np.linspace(.001,10,1000) # 300 points, linearly separated between min .001 and max 10\n",
        "logx1 = np.log(x1)\n",
        "expx1 = np.exp(x1)\n",
        "\n",
        "#ploti.rcParams.update({\"font.size\":15}) # use later for stylin\n",
        "\n",
        "# Identity Function\n",
        "print(\"\\nThis graph shows identity function, where x and y are equivalent and directly proportional\")\n",
        "\n",
        "ploti.plot(x1, x1)\n",
        "ploti.legend([\"f(x) = x\"])\n",
        "ploti.show()\n",
        "\n",
        "# Natural Logarythm\n",
        "print(\"\\nHere is the natural logarithm of x\")\n",
        "ploti.plot(x1, logx1, \"orange\", linestyle=\"--\")\n",
        "ploti.legend([\"log(x)\"])\n",
        "ploti.show()\n",
        "\n",
        "# Natural Exponent\n",
        "print(\"\\nHere is the natural exponent of x\")\n",
        "ploti.plot(x1, expx1, \"r\", linestyle=\"--\")\n",
        "ploti.legend([\"exp(x)\"])\n",
        "ploti.show()\n",
        "\n",
        "# Log cancels Exp\n",
        "print(\"\\nThese 2 graphs llustrate how the log and exp cancel each other out, overlaping with the identity function\")\n",
        "ploti.plot(x1,x1)\n",
        "ploti.plot(x1, np.log(expx1), linestyle=\"--\")\n",
        "ploti.legend([\"y = x\", \"log(exp(x))\"])\n",
        "ploti.show()\n",
        "\n",
        "# Exp cancels Log\n",
        "ploti.plot(x1,x1)\n",
        "ploti.plot(x1, np.exp(logx1), \"r\", linestyle=\"--\")\n",
        "ploti.legend([\"y = x\", \"exp(log(x))\"])\n",
        "ploti.show()\n"
      ],
      "metadata": {
        "colab": {
          "base_uri": "https://localhost:8080/",
          "height": 1000
        },
        "id": "0uFQ2NyQM9R6",
        "outputId": "027ac685-7de9-429c-dbc9-b04779476e8b"
      },
      "execution_count": 54,
      "outputs": [
        {
          "output_type": "stream",
          "name": "stdout",
          "text": [
            "\n",
            "This graph shows identity function, where x and y are equivalent and directly proportional\n"
          ]
        },
        {
          "output_type": "display_data",
          "data": {
            "text/plain": [
              "<Figure size 640x480 with 1 Axes>"
            ],
            "image/png": "[encoded data removed]"
          },
          "metadata": {}
        },
        {
          "output_type": "stream",
          "name": "stdout",
          "text": [
            "\n",
            "Here is the natural logarithm of x\n"
          ]
        },
        {
          "output_type": "display_data",
          "data": {
            "text/plain": [
              "<Figure size 640x480 with 1 Axes>"
            ],
            "image/png": "[encoded data removed]"
          },
          "metadata": {}
        },
        {
          "output_type": "stream",
          "name": "stdout",
          "text": [
            "\n",
            "Here is the natural exponent of x\n"
          ]
        },
        {
          "output_type": "display_data",
          "data": {
            "text/plain": [
              "<Figure size 640x480 with 1 Axes>"
            ],
            "image/png": "[encoded data removed]"
          },
          "metadata": {}
        },
        {
          "output_type": "stream",
          "name": "stdout",
          "text": [
            "\n",
            "These 2 graphs llustrate how the log and exp cancel each other out, overlaping with the identity function\n"
          ]
        },
        {
          "output_type": "display_data",
          "data": {
            "text/plain": [
              "<Figure size 640x480 with 1 Axes>"
            ],
            "image/png": "[encoded data removed]"
          },
          "metadata": {}
        },
        {
          "output_type": "display_data",
          "data": {
            "text/plain": [
              "<Figure size 640x480 with 1 Axes>"
            ],
            "image/png": "[encoded data removed]"
          },
          "metadata": {}
        }
      ]
    },
    {
      "cell_type": "markdown",
      "source": [
        "##Derivatives\n",
        "\n",
        "Derivatives point the direction and rate of increases and decreases in a matematical funtion.\n",
        "\n",
        "In deep learning the AIs error is represented in a (error) function.\n",
        "\n",
        "Since we want to minimize error, the derivative can help pointing to decreases in error.\n",
        "\n",
        "The smallest error possible would be the best solution, since the smallest error point gives the model's highest accuracy.\n",
        "\n",
        "This is known as the minimum (plural minima). There will be a section for that, later. For now, let's just check out a few functions and its derivatives."
      ],
      "metadata": {
        "id": "5JjjCWiWfr_5"
      }
    },
    {
      "cell_type": "code",
      "source": [
        "#@title Gradient Descent\n",
        "\n",
        "\"\"\"\n",
        "Deep learning models learn mainly by using the gradient descent algoritm.\n",
        "Here is how:\n",
        "1. GUESS a solution.\n",
        "2. (Re)Compute the error (using derivatives)\n",
        "3. Learn from error.\n",
        "\n",
        "Represent the error as a function. The error function.\n",
        "Guess where the minimum error could be within the error function and compute the derivative of the guess.\n",
        "Proceed with a second guess that would be closer to the derivative's 0. If the derivative is positive, add the learning rate to the last guess to move up closer to 0. If the derivative is negative, subtract .\n",
        "\"\"\"\n",
        "\n",
        "import numpy\n",
        "import matplotlib.pyplot as ploti\n",
        "from IPython import display\n",
        "#import sympy\n",
        "\n",
        "# Error function function\n",
        "def fx(x):\n",
        "  return 3*x**2 - 3*x+4\n",
        "\n",
        "def dfx(x):\n",
        "# return sympy.diff(fx(x))\n",
        "  return 6*x - 3\n",
        "\n",
        "x = numpy.linspace(-2,2,1000) # 1000 points, linearly separated bezween min -2 and max 2\n",
        "\n",
        "# Initial Graph\n",
        "print(\"Initial Graph. Where is the lowest point (the minimum)?\")\n",
        "ploti.plot(x,fx(x), x, dfx(x))\n",
        "ploti.xlim(x[[0, -1]])\n",
        "ploti.grid(linestyle=\":\")\n",
        "ploti.xlabel(\"x\")\n",
        "ploti.ylabel(\"f(x)\")\n",
        "ploti.legend([\"f(x)\", \"df(x)\"])\n",
        "ploti.show()\n",
        "\n",
        "localmin = numpy.random.choice(x,1) # choose 1 value from x\n",
        "\n",
        "# Learning parameters\n",
        "learning_rate = .01 # Increase this to speed up. Lower it once your get close?\n",
        "training_epochs = 100 # Increase this to improve (increases steps, but takes up computing)\n",
        "\n",
        "# iteration\n",
        "modelparams = numpy.zeros((training_epochs, 2))\n",
        "print(f\"\\nStarting point: {localmin}\")\n",
        "for i in range(training_epochs): # as many steps/iterations as stated on training_epochs\n",
        "#  print(\"Iteration:\", i) # debug\n",
        "  gradient = dfx(localmin) # gradient = 6*localmin-3\n",
        "  localmin = localmin - learning_rate * gradient\n",
        "#  modelparams[i,:] = localmin, gradient\n",
        "  modelparams[i,0] = localmin[0]\n",
        "  modelparams[i,1] = gradient[0]\n",
        "#  print(\"Scale:\", gradient) # debug\n",
        "#  print(\"Local Min:\", localmin) # debug\n",
        "print(\"I think the minimum error is (y):\", fx(localmin))\n",
        "print(\"I think the minimum is located at (x):\", localmin)\n",
        "#print(modelparams)\n",
        "\n",
        "# Result Graph\n",
        "ploti.plot(x,fx(x), x, dfx(x))\n",
        "ploti.plot(localmin, fx(localmin), \"gx\", alpha=0.8)\n",
        "ploti.plot(localmin, dfx(localmin), \"rx\", alpha=0.8)\n",
        "ploti.xlim(x[[0, -1]])\n",
        "ploti.grid(linestyle=\":\")\n",
        "ploti.xlabel(\"x\")\n",
        "ploti.ylabel(\"f(x)\")\n",
        "ploti.legend([\"f(x)\", \"df(x)\", \"f(x) min\", \"df(x) min\"])\n",
        "ploti.show()\n",
        "\n",
        "\n",
        "print(\"\\nHere is the learning curve\")\n",
        "fig,ax = ploti.subplots(1,2,figsize=(12,4))\n",
        "\n",
        "for i in range(2):\n",
        "  ax[i].plot(modelparams[:,i], \"o-\", alpha=0.5)\n",
        "  ax[i].set_xlabel(\"Iterations\")\n",
        "  ax[i].set_title(f\"Final estimated minimum: {localmin[0]:.5f}\")\n",
        "\n",
        "ax[0].set_ylabel(\"Function Minimum Location\")\n",
        "ax[1].set_ylabel(\"Derivative Minimum\") # Should approach zero\n",
        "\n",
        "ploti.show()\n"
      ],
      "metadata": {
        "colab": {
          "base_uri": "https://localhost:8080/",
          "height": 1000
        },
        "id": "8OV5bewyL_mO",
        "outputId": "2cbcfc31-df13-42e7-b6d8-11c8c00621a0"
      },
      "execution_count": 137,
      "outputs": [
        {
          "output_type": "stream",
          "name": "stdout",
          "text": [
            "Initial Graph. Where is the lowest point (the minimum)?\n"
          ]
        },
        {
          "output_type": "display_data",
          "data": {
            "text/plain": [
              "<Figure size 640x480 with 1 Axes>"
            ],
            "image/png": "[encoded data removed]"
          },
          "metadata": {}
        },
        {
          "output_type": "stream",
          "name": "stdout",
          "text": [
            "\n",
            "Starting point: [-0.61061061]\n",
            "I think the minimum error is (y): [3.25001562]\n",
            "I think the minimum is located at (x): [0.49771783]\n"
          ]
        },
        {
          "output_type": "display_data",
          "data": {
            "text/plain": [
              "<Figure size 640x480 with 1 Axes>"
            ],
            "image/png": "[encoded data removed]"
          },
          "metadata": {}
        },
        {
          "output_type": "stream",
          "name": "stdout",
          "text": [
            "\n",
            "Here is the learning curve\n"
          ]
        },
        {
          "output_type": "display_data",
          "data": {
            "text/plain": [
              "<Figure size 1200x400 with 2 Axes>"
            ],
            "image/png": "[encoded data removed]"
          },
          "metadata": {}
        }
      ]
    },
    {
      "cell_type": "code",
      "source": [
        "#@title Minima & Maxima\n",
        "\n",
        "\"\"\"\n",
        "The maxima (plural of maximum) are the points where a function peaks.\n",
        "The minima (plural of minimum) are the points where a function off-peaks.\n",
        "\n",
        "In machine learning, functions typically represent the model's error. So, the functions used are error functions.\n",
        "\n",
        "Considering we are talking about error functions:\n",
        "1. The maxima in an error function are the points where the model yields the most error or is the most inaccurate, which we want to avoid.\n",
        "\n",
        "2. The minima in an error function are the points where the model yields the least error or is the most accurate, which we want to optimize.\n",
        "\n",
        "Since we want to optimize the model, the principal purpose of computing derivatives in gradient descent algorithm is to identify these minima, where the error is minimal.\n",
        "\n",
        "Only in polynomial functions or all functions?{\n",
        "  The main reason for using derivatives, is because whenever the error function is at an off-peak (minimum point), the derivative zeroes out and intersects with that minimum in the error function. This fact helps identifying the optimal points of minimum error.\n",
        "\n",
        "  However, derivatives also zero out at error peaks (maximum point) of the error function or when the function flats. Since we want to avoid those, this should be accounted for.\n",
        "\n",
        "  Since the derivative of an error function will intersect with the minimum error points of a function (minima), but not its maxima, this sorts the issue out. Unless, it is not an error function, where the function can be negative or zero.\n",
        "\n",
        "  Also, since derivatives only cross with minima when it zeroes out, derivatives can also be used to find the minima.\n",
        "\n",
        "  For this reason, when we plot an error function, we also plot its derivative. then try to find where the derivative is 0 AND crosses with the error function at 0.\n",
        "\n",
        "  This helps identify when the error or inaccuracy is at its highest and lowest points, allowing us to optimize the model to perform at its minimum error or when it is most accurate, because the points where they cross is the lowest error or where they are the most accurate.\n",
        "\n",
        "  If it doesn't cross the error function at zero, it could be a point where the function is flat (vanishing gradient) or at its maximum error, which we want the model to avoid. That is why we want to find these two conditions (derivative at 0, crossing error function at 0).\n",
        "}\n",
        "\"\"\"\n",
        "\n",
        "\"\"\" Local vs Global Minima/Maxima\n",
        "Local minima are offpeaks in a curve.\n",
        "However, they are not the lowest offpeaks in a function.\n",
        "\n",
        "The lowest minimum of a function is called the global minimum, which is what is sought.\n",
        "Also, there can be multiple global minima, if they are tied...\n",
        "\"\"\"\n",
        "\n",
        "\"\"\" Local Minima indicators\n",
        "- Derivative is 0\n",
        "- Double derivative is positive: a double derivative is the derivative of a derivative\n",
        "\"\"\"\n",
        "\n",
        "#>>> draw a function with minimum and derivative. draw a function with maxima and derivative. explain the derivative only crosses the minima\n"
      ],
      "metadata": {
        "id": "d2pNhbv0xLr_"
      },
      "execution_count": null,
      "outputs": []
    },
    {
      "cell_type": "code",
      "source": [
        "#@title Polynomial Derivative > Sympy\n",
        "\n",
        "import matplotlib.pyplot as ploti\n",
        "import sympy # Symbolic Math in Python\n",
        "import sympy.plotting.plot as symplot\n",
        "\n",
        "x = sympy.symbols('x') # Sympy symbolic variable\n",
        "fx_poly = 2*x**2 # Polynomial Function > fx = 2*x**2\n",
        "df_poly = sympy.diff(fx_poly,x) # Derivative > df = 4*x\n",
        "\n",
        "print(\"Function (fx) =\", fx_poly)\n",
        "print(\"Derivative (df) =\", df_poly)\n",
        "\n",
        "fig1 = symplot(fx_poly,(x,-4,4),label=\"Polynomial Function\",show=False,line_color=\"b\")\n",
        "fig1.extend(symplot(df_poly,(x,-4,4),label=\"Polynomial Derivative\",show=False,line_color=\"r\"))\n",
        "fig1.legend = True\n",
        "fig1.title = \"Polynomial Function & Derivative\"\n",
        "fig1.show()\n",
        "\n",
        "#to plot them on individual figures\n",
        "#symplot(fx_poly,(x,-4,4),title=\"Polynomial Function\")\n",
        "#ploti.show()\n",
        "#symplot(df_poly,(x,-4,4),title=\"Polynomial derivative\")\n",
        "#ploti.show()\n"
      ],
      "metadata": {
        "colab": {
          "base_uri": "https://localhost:8080/",
          "height": 522
        },
        "id": "GExTZUxjZ9kd",
        "outputId": "b129255e-ad1e-45fe-ae6f-1d112dcb1b3f"
      },
      "execution_count": null,
      "outputs": [
        {
          "output_type": "stream",
          "name": "stdout",
          "text": [
            "Function (fx) = 2*x**2\n",
            "Derivative (df) = 4*x\n"
          ]
        },
        {
          "output_type": "display_data",
          "data": {
            "text/plain": [
              "<Figure size 640x480 with 1 Axes>"
            ],
            "image/png": "[encoded data removed]"
          },
          "metadata": {}
        }
      ]
    },
    {
      "cell_type": "code",
      "source": [
        "#@title ReLU Derivative > Sympy\n",
        "\n",
        "import matplotlib.pyplot as ploti\n",
        "import sympy # Symbolic Math in Python\n",
        "import sympy.plotting.plot as symplot\n",
        "\n",
        "x = sympy.symbols('x') # Sympy symbolic variable\n",
        "fx_relu = sympy.Max(0,x) # ReLU Function (Rectified Linear Unit) > f(x) = ReLU(x)\n",
        "# df_relu = sympy.diff(relu) # Derivative of ReLU > df(ReLU)\n",
        "\n",
        "# Graph\n",
        "fig1 = symplot(fx_relu,(x,-4,4),label=\"ReLU Function\",show=False,line_color=\"b\")\n",
        "fig1.extend(symplot(sympy.diff(fx_relu),(x,-4,4),label=\"ReLU Derivative\",show=False,line_color=\"r\"))\n",
        "fig1.legend = True\n",
        "fig1.title = \"ReLU Function & Derivative\"\n",
        "fig1.show()\n"
      ],
      "metadata": {
        "colab": {
          "base_uri": "https://localhost:8080/",
          "height": 485
        },
        "id": "5E2cuN_1fbTl",
        "outputId": "14275dd1-1abb-4396-bbfd-d23664f4a42f"
      },
      "execution_count": null,
      "outputs": [
        {
          "output_type": "display_data",
          "data": {
            "text/plain": [
              "<Figure size 640x480 with 1 Axes>"
            ],
            "image/png": "[encoded data removed]"
          },
          "metadata": {}
        }
      ]
    },
    {
      "cell_type": "code",
      "source": [
        "#@title Sigmoid Derivative\n",
        "import matplotlib.pyplot as ploti\n",
        "import sympy # Symbolic Math in Python\n",
        "import sympy.plotting.plot as symplot\n",
        "\n",
        "x = sympy.symbols('x') # Sympy symbolic variable\n",
        "fx_sigmoid = 1 / (1+sympy.exp(-x)) # Sigmoid Function > f(x) = sigmoid(x)\n",
        "# df_sigmoid = sympy.diff(fx_sigmoid) # Derivative of Sigmoid > df(sigmoid)\n",
        "\n",
        "# Graph\n",
        "fig1 = symplot(fx_sigmoid,(x,-4,4),label=\"Sigmoid Function\",show=False,line_color=\"b\")\n",
        "fig1.extend(symplot(sympy.diff(fx_sigmoid),(x,-4,4),label=\"Sigmoid Derivative\",show=False,line_color=\"r\"))\n",
        "fig1.legend = True\n",
        "fig1.title = \"Sigmoid Function & Derivative\"\n",
        "fig1.show()\n"
      ],
      "metadata": {
        "colab": {
          "base_uri": "https://localhost:8080/",
          "height": 486
        },
        "id": "QZVbEIEtrGVa",
        "outputId": "84bbf603-15b0-43d0-ff2b-0cc0d0d6923f"
      },
      "execution_count": null,
      "outputs": [
        {
          "output_type": "display_data",
          "data": {
            "text/plain": [
              "<Figure size 640x480 with 1 Axes>"
            ],
            "image/png": "[encoded data removed]"
          },
          "metadata": {}
        }
      ]
    },
    {
      "cell_type": "code",
      "source": [
        "#@title Product Rule\n",
        "\n",
        "#import numpy\n",
        "import sympy\n",
        "from sympy import * # for simplify()\n",
        "from IPython.display import display # Jupyter/IPython notebook library to display LaTeX characters. display()\n",
        "\n",
        "x = sympy.symbols(\"x\") # create symbolic variable\n",
        "\n",
        "fx = 2*x**2\n",
        "gx = 4*x**3 - 3*x**4\n",
        "\n",
        "# Derivative via function\n",
        "dfx, dgx = sympy.diff(fx), sympy.diff(gx)\n",
        "\n",
        "# Product Rule of fx * gx\n",
        "pr_manual = dfx * gx + fx * dgx # derivative of f * function of g + function of x * derivative of g\n",
        "\n",
        "# Product Rule via SymPy function\n",
        "pr_sympy = sympy.diff( fx * gx )\n",
        "\n",
        "# f(x) + df(x)\n",
        "print(\"Function f(x)\")\n",
        "display(fx)\n",
        "print(\"Derivative df(x)\")\n",
        "display(dfx)\n",
        "print()\n",
        "\n",
        "# g(x) + df(x)\n",
        "print(\"Function g(x)\")\n",
        "display(gx)\n",
        "print(\"Derivative dg(x)\")\n",
        "display(dgx)\n",
        "print()\n",
        "\n",
        "#product rule\n",
        "print(\"Product rule of f(x)*g(x) (SimPy)\")\n",
        "display(pr_sympy)\n",
        "print(\"Product rule of f(x)*g(x) (manual)\")\n",
        "display(pr_manual)\n",
        "print()\n",
        "\n",
        "# simplified expression\n",
        "print(\"Simplified product rule of f(x)*g(x) (SymPy)\")\n",
        "display(simplify(pr_sympy))\n",
        "print(\"Simplified product rule of f(x)*g(x) (manual)\")\n",
        "display(simplify(pr_manual))\n"
      ],
      "metadata": {
        "colab": {
          "base_uri": "https://localhost:8080/",
          "height": 380
        },
        "id": "JSJey1MS8Ifj",
        "outputId": "ad77ccf8-dce0-47a9-beff-c6281a0880ca"
      },
      "execution_count": null,
      "outputs": [
        {
          "output_type": "stream",
          "name": "stdout",
          "text": [
            "Function f(x)\n"
          ]
        },
        {
          "output_type": "display_data",
          "data": {
            "text/plain": [
              "2*x**2"
            ],
            "text/latex": "$\\displaystyle 2 x^{2}$"
          },
          "metadata": {}
        },
        {
          "output_type": "stream",
          "name": "stdout",
          "text": [
            "Derivative df(x)\n"
          ]
        },
        {
          "output_type": "display_data",
          "data": {
            "text/plain": [
              "4*x"
            ],
            "text/latex": "$\\displaystyle 4 x$"
          },
          "metadata": {}
        },
        {
          "output_type": "stream",
          "name": "stdout",
          "text": [
            "\n",
            "Function g(x)\n"
          ]
        },
        {
          "output_type": "display_data",
          "data": {
            "text/plain": [
              "-3*x**4 + 4*x**3"
            ],
            "text/latex": "$\\displaystyle - 3 x^{4} + 4 x^{3}$"
          },
          "metadata": {}
        },
        {
          "output_type": "stream",
          "name": "stdout",
          "text": [
            "Derivative dg(x)\n"
          ]
        },
        {
          "output_type": "display_data",
          "data": {
            "text/plain": [
              "-12*x**3 + 12*x**2"
            ],
            "text/latex": "$\\displaystyle - 12 x^{3} + 12 x^{2}$"
          },
          "metadata": {}
        },
        {
          "output_type": "stream",
          "name": "stdout",
          "text": [
            "\n",
            "Product rule of f(x)*g(x) (SimPy)\n"
          ]
        },
        {
          "output_type": "display_data",
          "data": {
            "text/plain": [
              "2*x**2*(-12*x**3 + 12*x**2) + 4*x*(-3*x**4 + 4*x**3)"
            ],
            "text/latex": "$\\displaystyle 2 x^{2} \\left(- 12 x^{3} + 12 x^{2}\\right) + 4 x \\left(- 3 x^{4} + 4 x^{3}\\right)$"
          },
          "metadata": {}
        },
        {
          "output_type": "stream",
          "name": "stdout",
          "text": [
            "Product rule of f(x)*g(x) (manual)\n"
          ]
        },
        {
          "output_type": "display_data",
          "data": {
            "text/plain": [
              "2*x**2*(-12*x**3 + 12*x**2) + 4*x*(-3*x**4 + 4*x**3)"
            ],
            "text/latex": "$\\displaystyle 2 x^{2} \\left(- 12 x^{3} + 12 x^{2}\\right) + 4 x \\left(- 3 x^{4} + 4 x^{3}\\right)$"
          },
          "metadata": {}
        },
        {
          "output_type": "stream",
          "name": "stdout",
          "text": [
            "\n",
            "Simplified product rule of f(x)*g(x) (SymPy)\n"
          ]
        },
        {
          "output_type": "display_data",
          "data": {
            "text/plain": [
              "x**4*(40 - 36*x)"
            ],
            "text/latex": "$\\displaystyle x^{4} \\left(40 - 36 x\\right)$"
          },
          "metadata": {}
        },
        {
          "output_type": "stream",
          "name": "stdout",
          "text": [
            "Simplified product rule of f(x)*g(x) (manual)\n"
          ]
        },
        {
          "output_type": "display_data",
          "data": {
            "text/plain": [
              "x**4*(40 - 36*x)"
            ],
            "text/latex": "$\\displaystyle x^{4} \\left(40 - 36 x\\right)$"
          },
          "metadata": {}
        }
      ]
    },
    {
      "cell_type": "code",
      "source": [
        "#@title Chain Rule\n",
        "\n",
        "import sympy\n",
        "from sympy import * # for simplify()\n",
        "from IPython.display import display # Jupyter/IPython Notebook library to display LaTeX characters. display()\n",
        "\n",
        "x = sympy.symbols(\"x\") # create symbolic variable\n",
        "\n",
        "gx = x**2 + 4*x**3\n",
        "fx = (gx)**5 # embedded function\n",
        "\n",
        "print(\"Function f(x)\")\n",
        "display(fx)# fx LaTeX\n",
        "print(\"Simplified f(x)\")\n",
        "display(simplify(fx))\n",
        "print()\n",
        "\n",
        "print(\"Derivative df(x)\")\n",
        "display(sympy.diff(fx)) # fx LaTeX\n",
        "print(\"Simplified Derivative df(x)\")\n",
        "display(simplify(sympy.diff(fx))) # fx LaTeX\n"
      ],
      "metadata": {
        "colab": {
          "base_uri": "https://localhost:8080/",
          "height": 197
        },
        "id": "GCv_dgEpIw5T",
        "outputId": "40ec612a-f80f-441e-ce13-5c7402d2c3bf"
      },
      "execution_count": null,
      "outputs": [
        {
          "output_type": "stream",
          "name": "stdout",
          "text": [
            "Function f(x)\n"
          ]
        },
        {
          "output_type": "display_data",
          "data": {
            "text/plain": [
              "(4*x**3 + x**2)**5"
            ],
            "text/latex": "$\\displaystyle \\left(4 x^{3} + x^{2}\\right)^{5}$"
          },
          "metadata": {}
        },
        {
          "output_type": "stream",
          "name": "stdout",
          "text": [
            "Simplified fx\n"
          ]
        },
        {
          "output_type": "display_data",
          "data": {
            "text/plain": [
              "x**10*(4*x + 1)**5"
            ],
            "text/latex": "$\\displaystyle x^{10} \\left(4 x + 1\\right)^{5}$"
          },
          "metadata": {}
        },
        {
          "output_type": "stream",
          "name": "stdout",
          "text": [
            "\n",
            "Derivative df(x)\n"
          ]
        },
        {
          "output_type": "display_data",
          "data": {
            "text/plain": [
              "(60*x**2 + 10*x)*(4*x**3 + x**2)**4"
            ],
            "text/latex": "$\\displaystyle \\left(60 x^{2} + 10 x\\right) \\left(4 x^{3} + x^{2}\\right)^{4}$"
          },
          "metadata": {}
        },
        {
          "output_type": "stream",
          "name": "stdout",
          "text": [
            "Simplified Derivative df(x)\n"
          ]
        },
        {
          "output_type": "display_data",
          "data": {
            "text/plain": [
              "x**9*(4*x + 1)**4*(60*x + 10)"
            ],
            "text/latex": "$\\displaystyle x^{9} \\left(4 x + 1\\right)^{4} \\left(60 x + 10\\right)$"
          },
          "metadata": {}
        }
      ]
    },
    {
      "cell_type": "markdown",
      "source": [
        "#Misc"
      ],
      "metadata": {
        "id": "i06ZoM2Zqk2g"
      }
    },
    {
      "cell_type": "markdown",
      "source": [
        "#Visualisations"
      ],
      "metadata": {
        "id": "BnUlKzpvvrrU"
      }
    },
    {
      "cell_type": "code",
      "source": [
        "#@title LaTeX Characters > Jupyter\n",
        "\n",
        "from IPython.display import display # Jupyter/IPython Notebook library to display LaTeX characters. display()\n",
        "\n",
        "fx = 2*x**2\n",
        "gx = 4*x**3 - 3*x**4\n",
        "\n",
        "print(\"f(x)\")\n",
        "print(fx) # fx unformatted\n",
        "display(fx)# fx LaTeX\n",
        "print()\n",
        "\n",
        "print(\"g(x)\")\n",
        "print(gx) # fx unformatted\n",
        "display(gx)# fx LaTeX\n"
      ],
      "metadata": {
        "colab": {
          "base_uri": "https://localhost:8080/",
          "height": 147
        },
        "id": "D13xptXqBmGJ",
        "outputId": "fdb91d65-7010-4238-d682-46c1e26b632a"
      },
      "execution_count": null,
      "outputs": [
        {
          "output_type": "stream",
          "name": "stdout",
          "text": [
            "f(x)\n",
            "2*x**2\n"
          ]
        },
        {
          "output_type": "display_data",
          "data": {
            "text/plain": [
              "2*x**2"
            ],
            "text/latex": "$\\displaystyle 2 x^{2}$"
          },
          "metadata": {}
        },
        {
          "output_type": "stream",
          "name": "stdout",
          "text": [
            "\n",
            "g(x)\n",
            "-3*x**4 + 4*x**3\n"
          ]
        },
        {
          "output_type": "display_data",
          "data": {
            "text/plain": [
              "-3*x**4 + 4*x**3"
            ],
            "text/latex": "$\\displaystyle - 3 x^{4} + 4 x^{3}$"
          },
          "metadata": {}
        }
      ]
    },
    {
      "cell_type": "code",
      "source": [
        "#@title Visualisations > Matplotlib.pyplot\n",
        "\n",
        "#import matplotlib as plt # this wont work\n",
        "import matplotlib.pyplot as ploti\n",
        "\n",
        "#print(matplotlib.__version__) outputs version\n",
        "\n",
        "\n",
        "#x = [1, 2, 3, 4, 5, 6, 7]\n",
        "x = [\"Mon\", \"Tue\", \"Wed\", \"Thu\", \"Fri\", \"Sat\", \"Sun\"]\n",
        "y1 = [14,8,9,10,12,10,9]\n",
        "y2 = [4,13,6,8,7,5,10]\n",
        "y3 = [12,7,7,13,11,9,8]\n",
        "\n",
        "# Different ways of implementing styles 1/2: Style Sheets\n",
        "ploti.rc('lines', marker=\"o\", linestyle=':') # multiple parameters per line\n",
        "#ploti.rcParams[\"lines.linestyle\"] = \":\" # one parameter per line\n",
        "#ploti.rcParams[\"lines.marker\"] = \"o\" # one parameter per lin\n",
        "\n",
        "#fig1 = ploti.figure(figsize=(10,4)) # make the figure larger...\n",
        "ploti.title(\"Sweets eaten per Week\", color=\"navy\", fontsize=20) # Title\n",
        "ploti.grid(axis=\"y\", linestyle=\":\") # plot a grid\n",
        "ploti.xlabel(\"Weekday\") # X-axis label\n",
        "ploti.ylabel(\"Sweets\") # Y-axis label\n",
        "ploti.plot(x,y1, markerfacecolor=\"cyan\", label=\"Week 1\")\n",
        "ploti.plot(x,y2, markerfacecolor=\"yellow\", label=\"Week 2\")\n",
        "ploti.plot(x,y3, markerfacecolor=\"lightgreen\", label=\"Week 3\")\n",
        "ploti.legend(loc=\"lower center\") # You can reposition the legenda\n",
        "ploti.xticks(x) # Plot assigned x ticks, instead of auto-generated ticks.\n",
        "ploti.show()\n",
        "\n",
        "\n",
        "# Different ways of implementing styles 2/2: Dictionaries\n",
        "# Creating and Unpacking Dictionaries\n",
        "graphlinestyle1 = dict(marker = \"s\", linestyle = \"--\") # created dict\n",
        "\n",
        "ploti.title(\"Sweets eaten per Week\", color=\"navy\", fontsize=20) # Title\n",
        "ploti.grid(axis=\"y\", linestyle=\":\") # plots background grid\n",
        "ploti.xlabel(\"Weekday\") # X-axis label\n",
        "ploti.ylabel(\"Sweets\") # Y-axis label\n",
        "ploti.plot(x,y1, markerfacecolor=\"cyan\", **graphlinestyle1) # unpacked dict\n",
        "ploti.plot(x,y2, markerfacecolor=\"yellow\", **graphlinestyle1) # unpacked dic\n",
        "ploti.plot(x,y3, markerfacecolor=\"lightgreen\", **graphlinestyle1) # unpacked dic\n",
        "ploti.legend([\"Week 1\", \"Week 2\", \"Week 3\"])\n",
        "ploti.xticks([0,1,2,3,4,5,6], labels=[\"Mon\", \"Tue\", \"Wed\", \"Thu\", \"Fri\", \"Sat\", \"Sun\"])\n",
        "ploti.show()\n"
      ],
      "metadata": {
        "colab": {
          "base_uri": "https://localhost:8080/",
          "height": 943
        },
        "id": "LYWTo987vt_G",
        "outputId": "0bd1537f-0524-48e3-a1e2-5f5c32a4beb5"
      },
      "execution_count": null,
      "outputs": [
        {
          "output_type": "display_data",
          "data": {
            "text/plain": [
              "<Figure size 640x480 with 1 Axes>"
            ],
            "image/png": "[encoded data removed]"
          },
          "metadata": {}
        },
        {
          "output_type": "display_data",
          "data": {
            "text/plain": [
              "<Figure size 640x480 with 1 Axes>"
            ],
            "image/png": "[encoded data removed]"
          },
          "metadata": {}
        }
      ]
    }
  ]
}