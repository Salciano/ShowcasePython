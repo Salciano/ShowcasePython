{
  "nbformat": 4,
  "nbformat_minor": 0,
  "metadata": {
    "colab": {
      "provenance": [],
      "authorship_tag": "ABX9TyO2WhDF0aRJkM5w0+qWIYMQ",
      "include_colab_link": true
    },
    "kernelspec": {
      "name": "python3",
      "display_name": "Python 3"
    },
    "language_info": {
      "name": "python"
    }
  },
  "cells": [
    {
      "cell_type": "markdown",
      "metadata": {
        "id": "view-in-github",
        "colab_type": "text"
      },
      "source": [
        "<a href=\"https://colab.research.google.com/github/Salciano/ShowcasePython/blob/main/ClockDemo.ipynb\" target=\"_parent\"><img src=\"https://colab.research.google.com/assets/colab-badge.svg\" alt=\"Open In Colab\"/></a>"
      ]
    },
    {
      "cell_type": "code",
      "source": [
        "# Time functions: Simple Clock Demo\n",
        "import time # to use time functions\n",
        "from IPython.display import clear_output # To clear output (method A)\n",
        "from google.colab import output # To clear output (method B)\n",
        "# No libraries required for method c, but it is meant for standart terminals, not Colab\n",
        "\n",
        "# Subroutines\n",
        "def clocka(): # 1st Colab Approach A (IPython.display library)\n",
        "  t = time.strftime(\"%H:%M:%S\")\n",
        "  clear_output() #\n",
        "  print(f\"Time: {t}\")\n",
        "\n",
        "def clockb(): # 2nd Colab Approach B (google.colab library)\n",
        "  t = time.strftime(\"%H:%M:%S\")\n",
        "  output.clear()\n",
        "  print(f\"Time: {t}\")\n",
        "\n",
        "def clockc(): # Terminal approach (no library)\n",
        "  t = time.strftime(\"%H:%M:%S\")\n",
        "  print(f\"Time: {t}\\r\", end=\"\")\n",
        "  # \\r resets cursor position. end=\"\" prevents newline. Further text would be overwritten. However, this only works properly in a terminal/emulator that properly supports ANSI escape sequences, which Colab doesn't :(\n",
        "\n",
        "# Mainroutine\n",
        "print(\"Here is a simple real-time clock for Colab (method clear_output)\")\n",
        "time.sleep(5) # Delay 5 seconds\n",
        "for i in range(3): # loop thrice :: Colab A\n",
        "  clocka() # call function clock()\n",
        "  time.sleep(1) # delay 1 second\n",
        "time.sleep(1) # delay 1 second\n",
        "clear_output()\n",
        "\n",
        "print(\"Here is a simple real-time clock for Colab (method output.clear)\")\n",
        "time.sleep(5) # Delay 5 seconds\n",
        "for i in range(3): # loop thrice :: Colab B\n",
        "  clockb() # call function clock()\n",
        "  time.sleep(1) # delay 1 second\n",
        "time.sleep(1) # delay 1 second\n",
        "output.clear()\n",
        "\n",
        "print(\"Here is a simple real-time clock for terminals (might not work on Colab).\")\n",
        "time.sleep(5) # Delay 5 seconds\n",
        "for i in range(3): # loop thrice :: Terminal\n",
        "  clockc() # call function clock()\n",
        "  time.sleep(1) # delay 1 second\n",
        "\n",
        "#while True: # loop forever\n",
        "#  clock()\n",
        "#  time.sleep(1)\n"
      ],
      "metadata": {
        "colab": {
          "base_uri": "https://localhost:8080/"
        },
        "id": "zOHZIyQjOYvT",
        "outputId": "759fe09c-841b-476a-d2ae-9de617ecb5d3"
      },
      "execution_count": 1,
      "outputs": [
        {
          "output_type": "stream",
          "name": "stdout",
          "text": [
            "Here is a simple real-time clock for terminals (might not work on Colab).\n"
          ]
        }
      ]
    }
  ]
}