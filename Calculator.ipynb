{
  "nbformat": 4,
  "nbformat_minor": 0,
  "metadata": {
    "colab": {
      "provenance": [],
      "authorship_tag": "ABX9TyMxo5xEb3JP9YMeNoz2pPhK",
      "include_colab_link": true
    },
    "kernelspec": {
      "name": "python3",
      "display_name": "Python 3"
    },
    "language_info": {
      "name": "python"
    }
  },
  "cells": [
    {
      "cell_type": "markdown",
      "metadata": {
        "id": "view-in-github",
        "colab_type": "text"
      },
      "source": [
        "<a href=\"https://colab.research.google.com/github/Salciano/ShowcasePython/blob/main/Calculator.ipynb\" target=\"_parent\"><img src=\"https://colab.research.google.com/assets/colab-badge.svg\" alt=\"Open In Colab\"/></a>"
      ]
    },
    {
      "cell_type": "code",
      "source": [
        "# Basic Calculator\n",
        "from google.colab import output # To clear output (method B)\n",
        "\n",
        "def is_number(str1):\n",
        "  try:\n",
        "    float(str1)\n",
        "    return True\n",
        "  except ValueError:\n",
        "    return False\n",
        "\n",
        "def funtermination():\n",
        "  output.clear()\n",
        "  print(\"Closing Calculator. Bye bye!\")\n",
        "\n",
        "def funreset():\n",
        "  global result\n",
        "  result = 0\n",
        "  output.clear()\n",
        "  print(\"Calculator reset!\")\n",
        "\n",
        "def funoperation(): # Operator\n",
        "  global operatorin\n",
        "  operatorin = \"\"\n",
        "  while not operatorin == \"quit\":\n",
        "    print(\"What would you like to do, now?\")\n",
        "    print(\"+ \\t Add \")\n",
        "    print(\"- \\t Subtraction\")\n",
        "    print(\"* \\t Multiplication\")\n",
        "    print(\"/ \\t Division\")\n",
        "    print(\"** \\t Exponentiation\")\n",
        "    print(\"// \\t Floor Division\")\n",
        "    print(\"% \\t Modulus\")\n",
        "    print(\"q \\t Quit\")\n",
        "    print(\"r \\t Reset the calculator.\")\n",
        "    operatorin = input() # Get Operator\n",
        "    if operatorin == \"+\" or operatorin == \"-\" or operatorin == \"*\" or operatorin == \"/\" or operatorin == \"**\" or operatorin == \"//\" or operatorin == \"%\":\n",
        "      output.clear()\n",
        "      print(\"Okidoki. You selected:\", operatorin)\n",
        "      funpart2()\n",
        "      break\n",
        "    elif operatorin == \"q\" or operatorin == \"quit\" or operatorin == \"exit\":\n",
        "      funtermination()\n",
        "      break\n",
        "    elif operatorin == \"r\" or operatorin == \"reset\" or operatorin == \"clear\":\n",
        "      funreset()\n",
        "      funpart1()\n",
        "      break\n",
        "    else:\n",
        "      output.clear()\n",
        "      print(f\"Sorry, {operatorin} is invalid. Try again :)\")\n",
        "\n",
        "def funpart1(): # Operand 1\n",
        "  global result\n",
        "  answer1 = \"\"\n",
        "  while not answer1 == \"quit\":\n",
        "    print(\"Feel free to enter:\")\n",
        "    print(\"> Any number: To calculate it.\")\n",
        "    print(\"> q: To close the calculator.\")\n",
        "#    print(\"> c: Reset calculator.\")\n",
        "    answer1 = input()\n",
        "    if answer1 == \"q\" or answer1 == \"quit\" or answer1 == \"exit\":\n",
        "      funtermination()\n",
        "      break\n",
        "    elif is_number(answer1):\n",
        "      operand1 = float(answer1)\n",
        "      result = operand1\n",
        "      output.clear()\n",
        "      print(\"> Entered:\", operand1)\n",
        "      funoperation()\n",
        "      break\n",
        "    else:\n",
        "      output.clear()\n",
        "      print(f\"Sorry, {answer1} is invalid. Try again :)\")\n",
        "\n",
        "def funpart2(): # Get Operand 2\n",
        "  global result\n",
        "  answer2 = \"\"\n",
        "  while not answer2 == \"quit\":\n",
        "    print(\"Feel free to enter:\")\n",
        "    print(\"> Any number: To calculate it.\")\n",
        "    print(\"> q: To close the calculator.\")\n",
        "    print(\"> r: Reset calculator.\")\n",
        "    answer2 = input()\n",
        "    if answer2 == \"r\" or answer2 == \"reset\" or answer2 == \"clear\":\n",
        "      funreset()\n",
        "      funpart1()\n",
        "      break\n",
        "    elif answer2 == \"q\" or answer2 == \"quit\" or answer2 == \"exit\":\n",
        "      funtermination()\n",
        "      break\n",
        "    elif is_number(answer2):\n",
        "      output.clear()\n",
        "      operand1 = result\n",
        "      operand2 = float(answer2)\n",
        "      result = eval(f\"{operand1} {operatorin} {operand2}\")\n",
        "      print(f\"{operand1} {operatorin} {operand2} = {result}\")\n",
        "      funoperation()\n",
        "      break\n",
        "    else:\n",
        "      output.clear()\n",
        "      print(f\"Sorry, {answer2} is invalid. Try again :)\")\n",
        "\n",
        "# Main Routine\n",
        "\n",
        "result = 0\n",
        "print(\"Hi! I'm Calkey, the calculator. I love calculating!\")\n",
        "funpart1()\n",
        "\n",
        "# made from mimiss :')"
      ],
      "metadata": {
        "colab": {
          "base_uri": "https://localhost:8080/"
        },
        "id": "IK2BK69h-Iiq",
        "outputId": "72df098e-d68c-4ad6-94d2-1b3d56ea3f7d"
      },
      "execution_count": 20,
      "outputs": [
        {
          "output_type": "stream",
          "name": "stdout",
          "text": [
            "Closing Calculator. Bye bye!\n"
          ]
        }
      ]
    }
  ]
}