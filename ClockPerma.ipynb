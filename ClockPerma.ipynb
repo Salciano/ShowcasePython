{
  "nbformat": 4,
  "nbformat_minor": 0,
  "metadata": {
    "colab": {
      "provenance": [],
      "authorship_tag": "ABX9TyNzE88YHKwxryyd0j9W87If",
      "include_colab_link": true
    },
    "kernelspec": {
      "name": "python3",
      "display_name": "Python 3"
    },
    "language_info": {
      "name": "python"
    }
  },
  "cells": [
    {
      "cell_type": "markdown",
      "metadata": {
        "id": "view-in-github",
        "colab_type": "text"
      },
      "source": [
        "<a href=\"https://colab.research.google.com/github/Salciano/ShowcasePython/blob/main/ClockPerma.ipynb\" target=\"_parent\"><img src=\"https://colab.research.google.com/assets/colab-badge.svg\" alt=\"Open In Colab\"/></a>"
      ]
    },
    {
      "cell_type": "code",
      "source": [
        "# Time functions: Simple Clock\n",
        "import time # to use time functions\n",
        "from google.colab import output # To clear output (method B)\n",
        "\n",
        "# Subroutine\n",
        "def clockb(): # 2nd Colab Approach B (google.colab library)\n",
        "  t = time.strftime(\"%H:%M:%S\")\n",
        "  output.clear()\n",
        "  print(f\"Time: {t}\")\n",
        "\n",
        "# Mainroutine\n",
        "print(\"Here is a simple real-time clock for Colab (method output.clear)\")\n",
        "time.sleep(5) # Delay 5 seconds\n",
        "while True:\n",
        "  clockb() # call function clock()\n",
        "  time.sleep(1) # delay 1 second\n",
        "time.sleep(1) # delay 1 second\n",
        "output.clear()"
      ],
      "metadata": {
        "id": "zOHZIyQjOYvT"
      },
      "execution_count": null,
      "outputs": []
    }
  ]
}