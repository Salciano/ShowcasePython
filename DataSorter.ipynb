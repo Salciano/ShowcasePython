{
  "cells": [
    {
      "cell_type": "markdown",
      "metadata": {
        "id": "view-in-github",
        "colab_type": "text"
      },
      "source": [
        "<a href=\"https://colab.research.google.com/github/Salciano/ShowcasePython/blob/main/DataSorter.ipynb\" target=\"_parent\"><img src=\"https://colab.research.google.com/assets/colab-badge.svg\" alt=\"Open In Colab\"/></a>"
      ]
    },
    {
      "cell_type": "code",
      "execution_count": 21,
      "metadata": {
        "colab": {
          "base_uri": "https://localhost:8080/"
        },
        "outputId": "d0d53d6f-3710-4865-8c4f-2603706211cd",
        "id": "e8okO1pmoeo9"
      },
      "outputs": [
        {
          "output_type": "stream",
          "name": "stdout",
          "text": [
            "q: Closing program... Bye bye!\n"
          ]
        }
      ],
      "source": [
        "from google.colab import output # output.clear()\n",
        "import math\n",
        "import numpy as np # .sort()\n",
        "\n",
        "def is_number(str1):\n",
        "  try:\n",
        "    float(str1)\n",
        "    return True\n",
        "  except ValueError:\n",
        "    return False\n",
        "\n",
        "#def funlistsize(answer1):\n",
        "def funlistsize(answer1):\n",
        "  global list_size\n",
        "  list_size =\"\"\n",
        "#  while list_size != is_number(list_size):\n",
        "  while not list_size == is_number(list_size) or list_size == \"q\":\n",
        "    output.clear()\n",
        "    print(\"How big do you want your list to be?\")\n",
        "    print(\"Enter any whole number.\")\n",
        "    print(\"m: Main Menu.\")\n",
        "    list_size = input()\n",
        "    if is_number(list_size):\n",
        "      output.clear()\n",
        "      #list_size = int(list_size)\n",
        "      list_size = float(list_size)\n",
        "      list_size = math.trunc(list_size)\n",
        "      print(f\"Creating a list with {list_size} entries...\")\n",
        "      #return(list_size)\n",
        "      funcreatelist()\n",
        "      break\n",
        "    elif list_size == \"m\":\n",
        "      output.clear()\n",
        "      print(f\"{list_size}: Returning to main menu.\")\n",
        "      break\n",
        "    else:\n",
        "      output.clear()\n",
        "      print(f\"❌ {list_size}: Invalid input. Could not create the list. Please try again.\")\n",
        "\n",
        "def funcreatelist():\n",
        "  global input_list\n",
        "  input_list = [None] * list_size\n",
        "\n",
        "#  input_list = []\n",
        "#  for _ in range(list_size):\n",
        "#    input_list.append(\"\")\n",
        "\n",
        "#input_list = \"\" * list_size\n",
        "#input_list = [\"\"] * list_size\n",
        "#print(list_size, input_list)\n",
        "#  print(input_list)\n",
        "  j=0\n",
        "  while j < list_size:\n",
        "    print(f\"Please enter a value in the list ({j+1}/{list_size})\")\n",
        "    if j > 0:\n",
        "      print(\"b: Go back to previous entry\")\n",
        "    print(\"g: Go to a specific entry\")\n",
        "    print (\"m: Main Menu.\")\n",
        "    answer3 = input()\n",
        "    #input_list = input(float())\n",
        "    output.clear()\n",
        "    if answer3 == \"b\" and j > 0:\n",
        "      j-=1\n",
        "    elif answer3 == \"g\":\n",
        "      print(\"Enter where you would like to go to:\")\n",
        "      #j = input(int())\n",
        "      j = int(input())-1\n",
        "    elif answer3 == \"m\":\n",
        "      print(\"Returning to main menu...\")\n",
        "      break\n",
        "    elif is_number(answer3):\n",
        "      input_list[j] = float(answer3)\n",
        "      j+=1\n",
        "    elif input_list != is_number(answer3):\n",
        "      print(f\"❌ {answer3}: Invalid input. Please try again.\")\n",
        "  print(input_list)\n",
        "  #print(f\"{j} Steps taken. Here is your list:\")\n",
        "  #return(input_list)\n",
        "\n",
        "# Mainroutine\n",
        "\n",
        "input_list = [7,3,86,24,75,19,90,26,84,37,2] # This is just an premade list.\n",
        "answer1=\"\"\n",
        "while not answer1 == \"q\":\n",
        "  print(\"\\nWhat would you like to do?\")\n",
        "  print(\"1: 📝 Create a list.\")\n",
        "  print(\"2: ⬆️ Sort my list in ascending order.\") # consider hiding this until user has created a list. Otherwise just used the premade list.\n",
        "  print(\"3: ⬇️ Sort my list in descending order.\") # consider hiding this until user has created a list. Otherwise just used the premade list.\n",
        "  print(\"q: 🔚 Quit program.\")\n",
        "  answer1 = input()\n",
        "\n",
        "  if answer1 == \"q\":\n",
        "    output.clear()\n",
        "    print(f\"{answer1}: Closing program... Bye bye!\")\n",
        "    break\n",
        "\n",
        "  elif answer1 == \"1\":\n",
        "    funlistsize(answer1)\n",
        "\n",
        "  elif answer1 == \"2\":\n",
        "    input_list.sort()\n",
        "    output.clear()\n",
        "    print(f\"{answer1}: ⬆️ Here is your ascending sorted list: \\n{input_list}\")\n",
        "\n",
        "  elif answer1 == \"3\":\n",
        "    input_list.sort(reverse=True)\n",
        "    output.clear()\n",
        "    print(f\"{answer1}: ⬇️ Here is your descending sorted list: \\n{input_list}\")\n",
        "  else:\n",
        "    print(f\"❌ '{answer1}' is invalid. please try again :)\")\n",
        "\n",
        "\n"
      ]
    }
  ],
  "metadata": {
    "colab": {
      "provenance": [],
      "authorship_tag": "ABX9TyOwaf9g+HYhCFl1G6VXzM5G",
      "include_colab_link": true
    },
    "kernelspec": {
      "display_name": "Python 3",
      "name": "python3"
    },
    "language_info": {
      "name": "python"
    }
  },
  "nbformat": 4,
  "nbformat_minor": 0
}