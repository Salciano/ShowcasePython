{
  "cells": [
    {
      "cell_type": "markdown",
      "metadata": {
        "id": "view-in-github",
        "colab_type": "text"
      },
      "source": [
        "<a href=\"https://colab.research.google.com/github/Salciano/ShowcasePython/blob/main/DataSorter.ipynb\" target=\"_parent\"><img src=\"https://colab.research.google.com/assets/colab-badge.svg\" alt=\"Open In Colab\"/></a>"
      ]
    },
    {
      "cell_type": "code",
      "execution_count": 105,
      "metadata": {
        "colab": {
          "base_uri": "https://localhost:8080/"
        },
        "outputId": "49bd3a3a-0a5f-42b3-c2e3-b14113491745",
        "id": "e8okO1pmoeo9"
      },
      "outputs": [
        {
          "output_type": "stream",
          "name": "stdout",
          "text": [
            "q: Closing program... Bye bye!\n"
          ]
        }
      ],
      "source": [
        "from google.colab import output # To clear output\n",
        "\n",
        "def is_number(str1):\n",
        "  try:\n",
        "    float(str1)\n",
        "    return True\n",
        "  except ValueError:\n",
        "    return False\n",
        "\n",
        "def funsort1(list_incr):\n",
        "  i=1\n",
        "  while i != 0:\n",
        "    if list_incr[i]<list_incr[i-1]:\n",
        "      list_incr[i],list_incr[i-1] = list_incr[i-1], list_incr[i]\n",
        "      i = 1\n",
        "    else:\n",
        "      i+=1\n",
        "    if i == len(list_incr):\n",
        "      i=0\n",
        "      return(list_incr)\n",
        "\n",
        "def funsort9(list_decr):\n",
        "  i=1\n",
        "  while i != 0:\n",
        "    if list_decr[i]>list_decr[i-1]:\n",
        "      list_decr[i], list_decr[i-1] = list_decr[i-1], list_decr[i]\n",
        "      i=1\n",
        "    else:\n",
        "      i+=1\n",
        "    if i == len(list_decr):\n",
        "      i=0\n",
        "      return(list_decr)\n",
        "\n",
        "def funlistsize():\n",
        "  global list_size\n",
        "  while list_size != is_number(list_size):\n",
        "    output.clear()\n",
        "    print(\"How big do you want your list to be?\")\n",
        "    list_size = input()\n",
        "    if is_number(list_size):\n",
        "      output.clear()\n",
        "      list_size = int(list_size)\n",
        "      print(f\"Creating a list with {list_size} entries...\")\n",
        "      #return(list_size)\n",
        "      break\n",
        "    else:\n",
        "      output.clear()\n",
        "      print(f\"{list_size}: Invalid input. Could not create the list. Please try again.\")\n",
        "\n",
        "def funcreatelist():\n",
        "  global input_list\n",
        "  input_list = [None] * list_size\n",
        "\n",
        "#  input_list = []\n",
        "#  for _ in range(list_size):\n",
        "#    input_list.append(\"\")\n",
        "\n",
        "#input_list = \"\" * list_size\n",
        "#input_list = [\"\"] * list_size\n",
        "#print(list_size, input_list)\n",
        "#  print(input_list)\n",
        "  j=0\n",
        "  while j < list_size:\n",
        "    print(f\"Please enter a value in the list ({j+1}/{list_size})\")\n",
        "    if j > 0:\n",
        "      print(\"b: Go back to previous entry\")\n",
        "    print(\"g: Go to a specific entry\")\n",
        "    print (\"q: Quit the program.\")\n",
        "    answer3 = input()\n",
        "    #input_list = input(float())\n",
        "    output.clear()\n",
        "    if answer3 == \"b\" and j > 0:\n",
        "      j-=1\n",
        "    elif answer3 == \"g\":\n",
        "      print(\"Enter where you would like to go to:\")\n",
        "      #j = input(int())\n",
        "      j = int(input())\n",
        "    elif answer3 == \"q\":\n",
        "      break\n",
        "    elif is_number(answer3):\n",
        "      input_list[j] = float(answer3)\n",
        "      j+=1\n",
        "    elif input_list != is_number(answer3):\n",
        "      print(f\"{answer3}: Invalid input. Please try again.\")\n",
        "  print(input_list)\n",
        "  #print(f\"{j} Steps taken. Here is your list:\")\n",
        "  #return(input_list)\n",
        "\n",
        "input_list = [7,3,86,24,75,19,90,26,84,37,2]\n",
        "i,j=1,0\n",
        "answer1=\"\"\n",
        "while not answer1 ==\"q\" or answer1 == \"1\" or answer1 == \"2\":\n",
        "  print(\"\\nWhat would you like to do?\")\n",
        "  print(\"1: Create a list.\")\n",
        "  print(\"2: ⬆️ Sort my list in ascending order.\")\n",
        "  print(\"3: ⬇️ Sort my list in descending order.\")\n",
        "  print(\"q: Quit program.\")\n",
        "  answer1 = input()\n",
        "  if answer1 == \"q\":\n",
        "    output.clear()\n",
        "    print(f\"{answer1}: Closing program... Bye bye!\")\n",
        "    break\n",
        "  elif answer1 == \"1\":\n",
        "    funlistsize()\n",
        "    funcreatelist()\n",
        "  elif answer1 == \"2\":\n",
        "    funsort1(input_list)\n",
        "    output.clear()\n",
        "    print(f\"{answer1}: ⬆️ Here is your ascending list: \\n{input_list}\")\n",
        "  elif answer1 == \"3\":\n",
        "    funsort9(input_list)\n",
        "    output.clear()\n",
        "    print(f\"{answer1}: ⬇️ Here is your descending list: \\n{input_list}\")\n",
        "  else:\n",
        "    print(f\"'{answer1}' is invalid. please try again :)\")\n",
        "\n",
        "\n"
      ]
    }
  ],
  "metadata": {
    "colab": {
      "provenance": [],
      "authorship_tag": "ABX9TyMQfiQnniCSSLhPinyqmrN4",
      "include_colab_link": true
    },
    "kernelspec": {
      "display_name": "Python 3",
      "name": "python3"
    },
    "language_info": {
      "name": "python"
    }
  },
  "nbformat": 4,
  "nbformat_minor": 0
}