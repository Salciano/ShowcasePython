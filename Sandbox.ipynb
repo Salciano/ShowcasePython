{
  "nbformat": 4,
  "nbformat_minor": 0,
  "metadata": {
    "colab": {
      "provenance": [],
      "authorship_tag": "ABX9TyOLGTEkhRxMpXEA6D/BxXiW",
      "include_colab_link": true
    },
    "kernelspec": {
      "name": "python3",
      "display_name": "Python 3"
    },
    "language_info": {
      "name": "python"
    }
  },
  "cells": [
    {
      "cell_type": "markdown",
      "metadata": {
        "id": "view-in-github",
        "colab_type": "text"
      },
      "source": [
        "<a href=\"https://colab.research.google.com/github/Salciano/ShowcasePython/blob/main/Sandbox.ipynb\" target=\"_parent\"><img src=\"https://colab.research.google.com/assets/colab-badge.svg\" alt=\"Open In Colab\"/></a>"
      ]
    },
    {
      "cell_type": "code",
      "source": [
        "import numpy as np\n",
        "\n",
        "np.array([1,2,3,4,5,6])\n",
        "\n",
        "print(array * 3 )\n",
        "print(array + 1 )\n",
        "print(array ** 2)\n",
        "print(np.round(array))\n"
      ],
      "metadata": {
        "colab": {
          "base_uri": "https://localhost:8080/"
        },
        "id": "fMZrLnQzloJm",
        "outputId": "dd119165-4f9c-46dd-e330-d7b177d040a9"
      },
      "execution_count": null,
      "outputs": [
        {
          "output_type": "stream",
          "name": "stdout",
          "text": [
            "[[ 3  6  9 12]\n",
            " [15 18 21 24]\n",
            " [27 30 33 36]]\n",
            "[[ 2  3  4  5]\n",
            " [ 6  7  8  9]\n",
            " [10 11 12 13]]\n",
            "[[  1   4   9  16]\n",
            " [ 25  36  49  64]\n",
            " [ 81 100 121 144]]\n",
            "[[ 1  2  3  4]\n",
            " [ 5  6  7  8]\n",
            " [ 9 10 11 12]]\n"
          ]
        }
      ]
    },
    {
      "cell_type": "code",
      "execution_count": null,
      "metadata": {
        "colab": {
          "base_uri": "https://localhost:8080/"
        },
        "id": "X6JPF9aKjONr",
        "outputId": "8cb471a0-4423-486f-caf4-779063521bd9"
      },
      "outputs": [
        {
          "output_type": "stream",
          "name": "stdout",
          "text": [
            "0 1 2\n",
            "..........2\n",
            "1 a\n",
            "2 c\n",
            "3 v\n",
            "4 s\n",
            "4\n",
            "s\n",
            ".....3\n",
            "a b c\n",
            "abc\n",
            ".....4\n",
            "list1 b4 drop() (0, 1, 2, 3)\n",
            "(0, 1, 2, 3)\n",
            ".....5\n",
            "<class 'tuple'> ([1, 2, 3, 4, 5], [6, 7, 8, 9, 10])\n"
          ]
        }
      ],
      "source": [
        "import pandas as panpy\n",
        "import numpy as np\n",
        "\n",
        "var0, var1 = 0, 1\n",
        "var2 = 2\n",
        "var3 = 3\n",
        "var4 = 4\n",
        "var10 = 0\n",
        "var11 = 1\n",
        "var20 = var10\n",
        "var21 = var11\n",
        "\n",
        "#var0, var1, var2 = var1, var0, var0\n",
        "\n",
        "#swap()\n",
        "\n",
        "print(var0, var1, var2)\n",
        "print(\"..........2\")\n",
        "\n",
        "a = ['a', 'c', 'v', 's']\n",
        "for i,v in enumerate(a, 1):\n",
        "    print (i, v)\n",
        "\n",
        "print(i)\n",
        "print(v)\n",
        "print(\".....3\")\n",
        "str1, str2, str3 = \"a\", \"b\", \"c\"\n",
        "print(str1, str2, str3)\n",
        "print(str1 + str2 + str3)\n",
        "\n",
        "print(\".....4\")\n",
        "list1 = 0, 1, 2, 3\n",
        "#list2 = drop\n",
        "#list2 = 0, 1.1, \"a\", \"4\"\n",
        "\n",
        "print(\"list1 b4 drop()\", list1)\n",
        "#panpy.drop(list[0])\n",
        "\n",
        "print(list1)\n",
        "#print(list2)\n",
        "\n",
        "print(\".....5\")\n",
        "lista = [1, 2, 3, 4, 5], [6, 7, 8, 9, 10]\n",
        "#lista = np.lista([[1, 2, 3, 4, 5], [1, 2, 3, 4, 5]])\n",
        "print(type(lista), lista)\n"
      ]
    }
  ]
}